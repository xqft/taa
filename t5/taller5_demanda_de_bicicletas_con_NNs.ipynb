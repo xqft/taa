{
 "cells": [
  {
   "cell_type": "markdown",
   "metadata": {
    "id": "BK9dmG7MSOya"
   },
   "source": [
    "#  <center> Taller  de Aprendizaje Automático </center>\n",
    "##  <center> Taller 5: Estimación de la demanda de bicicletas compartidas utilizando *Neural Networks*.  </center>"
   ]
  },
  {
   "cell_type": "markdown",
   "metadata": {
    "id": "8PjU4ItOTaGr"
   },
   "source": [
    "# Introducción\n",
    "\n",
    "En esta actividad se retomará el problema de la competencia [*Bike Sharing Demand*](https://www.kaggle.com/c/bike-sharing-demand) visto en el Taller 3.\n",
    "Esta vez las estimaciónes deben obtenerse utilizando la herramienta: *Multilayer Perceptron* (MLP). Es importante mantener la función *Root Mean Squared Logarithmic Error* (RMSLE) como medida de desempeño de manera de poder comparar los resultados con los obtenidos en el Taller 3.\n",
    "\n",
    "Tanto las preguntas teóricas como la parte práctica de esta actividad están ligadas al contenido del capítulo 10 (*Introduction to\n",
    "Artificial Neural Networks with\n",
    "Keras*) del libro del curso.\n"
   ]
  },
  {
   "cell_type": "markdown",
   "metadata": {
    "id": "hnXnqw5KS3zd"
   },
   "source": [
    "## Objetivos\n",
    "\n",
    "\n",
    "*   Trabajar con modelos MLP utilizando la librería [*Keras*](https://keras.io/api/).\n",
    "*   Probar algunas de las herramientas disponibles para la busqueda de hiperparámetros.\n",
    "*   Interpretar modelos con *Shapley Values*."
   ]
  },
  {
   "cell_type": "markdown",
   "metadata": {
    "id": "graphic-longitude"
   },
   "source": [
    "## Formas de trabajo"
   ]
  },
  {
   "cell_type": "markdown",
   "metadata": {
    "id": "similar-surgery"
   },
   "source": [
    "#### Opción 1: Trabajar localmente"
   ]
  },
  {
   "cell_type": "markdown",
   "metadata": {
    "id": "616868da"
   },
   "source": [
    "##### Descarga de datos disponibles en Kaggle"
   ]
  },
  {
   "cell_type": "markdown",
   "metadata": {
    "id": "9a76c306"
   },
   "source": [
    "Luego, para descargar el dataset de Demanda de Bicicletas:"
   ]
  },
  {
   "cell_type": "code",
   "execution_count": 2,
   "metadata": {},
   "outputs": [
    {
     "name": "stdout",
     "output_type": "stream",
     "text": [
      "Collecting kaggle\n",
      "  Downloading kaggle-1.6.12.tar.gz (79 kB)\n",
      "\u001b[2K     \u001b[38;2;114;156;31m━━━━━━━━━━━━━━━━━━━━━━━━━━━━━━━━━━━━━━━\u001b[0m \u001b[32m79.7/79.7 kB\u001b[0m \u001b[31m980.3 kB/s\u001b[0m eta \u001b[36m0:00:00\u001b[0m31m2.1 MB/s\u001b[0m eta \u001b[36m0:00:01\u001b[0m\n",
      "\u001b[?25h  Preparing metadata (setup.py) ... \u001b[?25ldone\n",
      "\u001b[?25hRequirement already satisfied: six>=1.10 in /home/xqft/.conda/envs/ml/lib/python3.11/site-packages (from kaggle) (1.16.0)\n",
      "Requirement already satisfied: certifi>=2023.7.22 in /home/xqft/.conda/envs/ml/lib/python3.11/site-packages (from kaggle) (2024.2.2)\n",
      "Requirement already satisfied: python-dateutil in /home/xqft/.conda/envs/ml/lib/python3.11/site-packages (from kaggle) (2.8.2)\n",
      "Requirement already satisfied: requests in /home/xqft/.conda/envs/ml/lib/python3.11/site-packages (from kaggle) (2.31.0)\n",
      "Collecting tqdm (from kaggle)\n",
      "  Using cached tqdm-4.66.2-py3-none-any.whl.metadata (57 kB)\n",
      "Collecting python-slugify (from kaggle)\n",
      "  Using cached python_slugify-8.0.4-py2.py3-none-any.whl.metadata (8.5 kB)\n",
      "Requirement already satisfied: urllib3 in /home/xqft/.conda/envs/ml/lib/python3.11/site-packages (from kaggle) (2.1.0)\n",
      "Requirement already satisfied: bleach in /home/xqft/.conda/envs/ml/lib/python3.11/site-packages (from kaggle) (4.1.0)\n",
      "Requirement already satisfied: packaging in /home/xqft/.conda/envs/ml/lib/python3.11/site-packages (from bleach->kaggle) (23.2)\n",
      "Requirement already satisfied: webencodings in /home/xqft/.conda/envs/ml/lib/python3.11/site-packages (from bleach->kaggle) (0.5.1)\n",
      "Collecting text-unidecode>=1.3 (from python-slugify->kaggle)\n",
      "  Using cached text_unidecode-1.3-py2.py3-none-any.whl.metadata (2.4 kB)\n",
      "Requirement already satisfied: charset-normalizer<4,>=2 in /home/xqft/.conda/envs/ml/lib/python3.11/site-packages (from requests->kaggle) (2.0.4)\n",
      "Requirement already satisfied: idna<4,>=2.5 in /home/xqft/.conda/envs/ml/lib/python3.11/site-packages (from requests->kaggle) (3.4)\n",
      "Using cached python_slugify-8.0.4-py2.py3-none-any.whl (10 kB)\n",
      "Using cached tqdm-4.66.2-py3-none-any.whl (78 kB)\n",
      "Using cached text_unidecode-1.3-py2.py3-none-any.whl (78 kB)\n",
      "Building wheels for collected packages: kaggle\n",
      "  Building wheel for kaggle (setup.py) ... \u001b[?25ldone\n",
      "\u001b[?25h  Created wheel for kaggle: filename=kaggle-1.6.12-py3-none-any.whl size=102971 sha256=6bffe181df099d8aec989185d65ac10feefcd7d99d3694e654a18fee1cbda944\n",
      "  Stored in directory: /home/xqft/.cache/pip/wheels/f3/eb/e9/819c2d9eac90204eec8579430759f75a1d6dbe4cd0b93f53bc\n",
      "Successfully built kaggle\n",
      "Installing collected packages: text-unidecode, tqdm, python-slugify, kaggle\n",
      "Successfully installed kaggle-1.6.12 python-slugify-8.0.4 text-unidecode-1.3 tqdm-4.66.2\n"
     ]
    }
   ],
   "source": [
    "!pip install kaggle"
   ]
  },
  {
   "cell_type": "code",
   "execution_count": 3,
   "metadata": {
    "ExecuteTime": {
     "end_time": "2022-04-06T08:45:00.703408Z",
     "start_time": "2022-04-06T08:44:59.289873Z"
    },
    "id": "a25f6679",
    "outputId": "d70c8c1e-530a-45ef-e259-f3addee20c02",
    "scrolled": true
   },
   "outputs": [
    {
     "name": "stdout",
     "output_type": "stream",
     "text": [
      "Warning: Your Kaggle API key is readable by other users on this system! To fix this, you can run 'chmod 600 /home/xqft/.kaggle/kaggle.json'\n",
      "Downloading bike-sharing-demand.zip to /home/xqft/git/taa/t5\n",
      "100%|█████████████████████████████████████████| 189k/189k [00:00<00:00, 431kB/s]\n",
      "100%|█████████████████████████████████████████| 189k/189k [00:00<00:00, 431kB/s]\n"
     ]
    }
   ],
   "source": [
    "!kaggle competitions download -c bike-sharing-demand"
   ]
  },
  {
   "cell_type": "markdown",
   "metadata": {
    "id": "e60a6af5"
   },
   "source": [
    "Descomprima el archivo descargado:"
   ]
  },
  {
   "cell_type": "code",
   "execution_count": 4,
   "metadata": {
    "ExecuteTime": {
     "end_time": "2022-04-06T08:45:00.781065Z",
     "start_time": "2022-04-06T08:45:00.769278Z"
    }
   },
   "outputs": [],
   "source": [
    "import shutil\n",
    "shutil.unpack_archive('./bike-sharing-demand.zip', './')"
   ]
  },
  {
   "cell_type": "markdown",
   "metadata": {
    "id": "efficient-thailand"
   },
   "source": [
    "#### Opción 2:  Trabajar en *Colab*. "
   ]
  },
  {
   "cell_type": "markdown",
   "metadata": {},
   "source": [
    "<table align=\"left\">\n",
    "  <td>\n",
    "    <a target=\"_blank\" href=\"https://colab.research.google.com/github/TAA-fing/TAA-2024/blob/main/talleres/taller5_demanda_de_bicicletas_con_NNs.ipynb\"><img src=\"https://www.tensorflow.org/images/colab_logo_32px.png\" />Ejecutar en Google Colab</a>\n",
    "  </td>\n",
    "</table>"
   ]
  },
  {
   "cell_type": "markdown",
   "metadata": {
    "id": "compound-criminal"
   },
   "source": [
    "Se puede trabajar en Google Colab. Para ello es necesario contar con una cuenta de **google drive** y ejecutar un notebook almacenado en dicha cuenta. De lo contrario, no se conservarán los cambios realizados en la sesión. En caso de ya contar con una cuenta, se puede abrir el notebook y luego ir a `Archivo-->Guardar una copia en drive`. "
   ]
  },
  {
   "cell_type": "markdown",
   "metadata": {
    "id": "e_rith_Skga5"
   },
   "source": [
    "La siguiente celda monta el disco personal del drive:"
   ]
  },
  {
   "cell_type": "code",
   "execution_count": null,
   "metadata": {
    "colab": {
     "base_uri": "https://localhost:8080/"
    },
    "executionInfo": {
     "elapsed": 21875,
     "status": "ok",
     "timestamp": 1645451536176,
     "user": {
      "displayName": "Emiliano Acevedo",
      "photoUrl": "https://lh3.googleusercontent.com/a/default-user=s64",
      "userId": "09255842080725499836"
     },
     "user_tz": 180
    },
    "id": "timely-power",
    "outputId": "9b878f94-05b8-4598-baa4-08a3e132868d"
   },
   "outputs": [],
   "source": [
    "from google.colab import drive\n",
    "drive.mount('/content/drive')"
   ]
  },
  {
   "cell_type": "markdown",
   "metadata": {
    "id": "9WC47WBdkeqj"
   },
   "source": [
    "A continuación, vaya a su cuenta de [Kaggle](https://www.kaggle.com/) (o cree una si aún no lo ha hecho), haga clic en el icono de perfil en la esquina superior derecha de la pantalla y seleccione \"Your Account\" en la lista desplegable. Luego, seleccione la viñeta \"Account\" y haga clic en \"Create new API token\". Entonces un archivo llamado kaggle.json se descargará automáticamente a su carpeta de descargas. Este archivo contiene sus credenciales de inicio de sesión para permitirle acceder a la API."
   ]
  },
  {
   "cell_type": "markdown",
   "metadata": {
    "id": "changing-enhancement"
   },
   "source": [
    "La siguiente celda realiza la configuración necesaria para obtener datos desde la plataforma Kaggle. Le solicitará que suba el archivo kaggle.json descargado anteriormente."
   ]
  },
  {
   "cell_type": "code",
   "execution_count": null,
   "metadata": {
    "colab": {
     "base_uri": "https://localhost:8080/",
     "height": 90,
     "resources": {
      "http://localhost:8080/nbextensions/google.colab/files.js": {
       "data": "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",
       "headers": [
        [
         "content-type",
         "application/javascript"
        ]
       ],
       "ok": true,
       "status": 200,
       "status_text": ""
      }
     }
    },
    "executionInfo": {
     "elapsed": 31400,
     "status": "ok",
     "timestamp": 1645451632279,
     "user": {
      "displayName": "Emiliano Acevedo",
      "photoUrl": "https://lh3.googleusercontent.com/a/default-user=s64",
      "userId": "09255842080725499836"
     },
     "user_tz": 180
    },
    "id": "convinced-person",
    "outputId": "59951021-dcb6-4622-e24e-062806a6ce7f"
   },
   "outputs": [],
   "source": [
    "import warnings\n",
    "warnings.filterwarnings('ignore')\n",
    "from google.colab import files\n",
    "\n",
    "# El siguiente archivo solicitado es para habilitar la API de Kaggle en el entorno que está trabajando.\n",
    "# Este archivo se descarga entrando a su perfíl de Kaggle, en la sección API, presionando donde dice: Create New API Token\n",
    "\n",
    "uploaded = files.upload()\n",
    "\n",
    "for fn in uploaded.keys():\n",
    "    print('User uploaded file \"{name}\" with length {length} bytes'.format(\n",
    "      name=fn, length=len(uploaded[fn])))\n",
    "\n",
    "#Then move kaggle.json into the folder where the API expects to find it.\n",
    "!mkdir -p ~/.kaggle/ && mv kaggle.json ~/.kaggle/ && chmod 600 ~/.kaggle/kaggle.json"
   ]
  },
  {
   "cell_type": "markdown",
   "metadata": {
    "id": "fossil-australian"
   },
   "source": [
    "Una vez guardado el *token* se pueden descargar los datos, en este caso se bajarán los datos del dataset de Demanda de Bicicletas:"
   ]
  },
  {
   "cell_type": "code",
   "execution_count": null,
   "metadata": {
    "ExecuteTime": {
     "end_time": "2022-04-06T08:18:39.849067Z",
     "start_time": "2022-04-06T08:18:38.482792Z"
    },
    "colab": {
     "base_uri": "https://localhost:8080/"
    },
    "executionInfo": {
     "elapsed": 2104,
     "status": "ok",
     "timestamp": 1645451663400,
     "user": {
      "displayName": "Emiliano Acevedo",
      "photoUrl": "https://lh3.googleusercontent.com/a/default-user=s64",
      "userId": "09255842080725499836"
     },
     "user_tz": 180
    },
    "id": "independent-eagle",
    "outputId": "bfe00bd3-81a5-487f-e60f-8b6e2ce1a189"
   },
   "outputs": [],
   "source": [
    "!kaggle competitions download -c bike-sharing-demand"
   ]
  },
  {
   "cell_type": "code",
   "execution_count": null,
   "metadata": {
    "ExecuteTime": {
     "end_time": "2022-04-06T08:19:07.842906Z",
     "start_time": "2022-04-06T08:18:41.405686Z"
    }
   },
   "outputs": [],
   "source": [
    "!unzip bike-sharing-demand.zip"
   ]
  },
  {
   "cell_type": "markdown",
   "metadata": {},
   "source": [
    "## Paquetes a utilizar"
   ]
  },
  {
   "cell_type": "markdown",
   "metadata": {},
   "source": [
    "En esta actividad se utilizarán algunas bibliotecas auxiliares que deberán ser instaladas. Ejecutar la siguiente celda hasta que se ejecute sin errores. En caso de error, se puede instalar el paquete faltante desde el notebook con el comando:\n",
    "\n",
    "`!pip install paquete_faltante`"
   ]
  },
  {
   "cell_type": "code",
   "execution_count": 1,
   "metadata": {
    "ExecuteTime": {
     "end_time": "2022-04-06T08:45:12.980879Z",
     "start_time": "2022-04-06T08:45:10.992955Z"
    }
   },
   "outputs": [],
   "source": [
    "#import comet_ml in the top of your file\n",
    "#from comet_ml import Experiment\n",
    "import matplotlib.pyplot as plt\n",
    "import numpy as np\n",
    "import pandas as pd\n",
    "#import seaborn as sns\n",
    "#sns.set_theme(style=\"whitegrid\")\n",
    "\n",
    "df_train = pd.read_csv('train.csv')\n",
    "df_test = pd.read_csv('test.csv')\n",
    "df_submission = pd.read_csv('sampleSubmission.csv')"
   ]
  },
  {
   "cell_type": "markdown",
   "metadata": {
    "id": "HQi0j-avej0Q"
   },
   "source": [
    "## Parte 1 - Procesamiento de los datos\n",
    "\n",
    "Dado que ya se ha familiarizado con los datos, se implementa el mismo preprocesamiento que utilizó en el Taller 3."
   ]
  },
  {
   "cell_type": "code",
   "execution_count": 2,
   "metadata": {
    "ExecuteTime": {
     "end_time": "2022-04-06T08:45:17.367597Z",
     "start_time": "2022-04-06T08:45:17.333795Z"
    },
    "id": "WAJk7qqqphJa"
   },
   "outputs": [],
   "source": [
    "df_train['datetime'] = pd.to_datetime(df_train['datetime'])\n",
    "\n",
    "df_train['hour'] = df_train['datetime'].dt.hour\n",
    "df_train['weekday'] = df_train['datetime'].dt.weekday\n",
    "df_train['month'] = df_train['datetime'].dt.month \n",
    "df_train['year'] = df_train['datetime'].dt.year\n",
    "\n",
    "y_train_full = df_train['count']\n",
    "df_train = df_train.drop(['datetime', 'casual', 'registered', 'count'], axis=1) # hay que eliminarlas ya que tiene relación directa con la columna objetivo y no aparecen en el conjunto de *test*."
   ]
  },
  {
   "cell_type": "markdown",
   "metadata": {},
   "source": [
    "- Dado que se trabajará con redes neuronales, ¿Cree conveniente realizar alguna modificación en el preprocesamiento?"
   ]
  },
  {
   "cell_type": "markdown",
   "metadata": {
    "ExecuteTime": {
     "end_time": "2022-04-06T08:45:19.115054Z",
     "start_time": "2022-04-06T08:45:19.108573Z"
    },
    "id": "3RotPZI9O67F"
   },
   "source": [
    "Se debe encodear los atributos categoricos y normalizar los numericos"
   ]
  },
  {
   "cell_type": "markdown",
   "metadata": {
    "id": "nyhdy7JagA0k"
   },
   "source": [
    "## Parte 2 - Multilayer Perceptron (MLP)\n",
    "\n",
    "Siguiendo el ejemplo de la sección *Building a Regression MLP Using the Sequential API*:\n",
    "\n",
    "\n",
    "*   Implementar un estimador manteniendo los hiperparámetros del ejemplo.\n",
    "*   ¿Cuál es la cantidad total de parámetros entrenables de la red?\n",
    "*   Seleccionar aleatoriamente un *10%* de los datos para validación, y graficar la función de *loss* (*Mean Squared Logarithmic Error*) de entrenamiento y validación.\n",
    "\n",
    "***Nota:** Observe que en el ejemplo se agrega una capa de normalización*"
   ]
  },
  {
   "cell_type": "code",
   "execution_count": 3,
   "metadata": {},
   "outputs": [],
   "source": [
    "from sklearn.model_selection import train_test_split\n",
    "\n",
    "X_train, X_val, y_train, y_val = train_test_split(df_train, y_train_full, train_size=0.9, random_state=42)"
   ]
  },
  {
   "cell_type": "code",
   "execution_count": 7,
   "metadata": {},
   "outputs": [
    {
     "data": {
      "text/plain": [
       "(12,)"
      ]
     },
     "execution_count": 7,
     "metadata": {},
     "output_type": "execute_result"
    }
   ],
   "source": [
    "X_train.shape[1:]"
   ]
  },
  {
   "cell_type": "code",
   "execution_count": 93,
   "metadata": {},
   "outputs": [
    {
     "data": {
      "text/plain": [
       "(9797,)"
      ]
     },
     "execution_count": 93,
     "metadata": {},
     "output_type": "execute_result"
    }
   ],
   "source": [
    "y_train.shape"
   ]
  },
  {
   "cell_type": "code",
   "execution_count": 6,
   "metadata": {},
   "outputs": [
    {
     "name": "stdout",
     "output_type": "stream",
     "text": [
      "Epoch 1/20\n",
      "307/307 [==============================] - 2s 4ms/step - loss: 5.1012 - mean_squared_logarithmic_error: 5.1012 - val_loss: 1.3955 - val_mean_squared_logarithmic_error: 1.3955\n",
      "Epoch 2/20\n",
      "307/307 [==============================] - 1s 3ms/step - loss: 1.1244 - mean_squared_logarithmic_error: 1.1244 - val_loss: 0.9904 - val_mean_squared_logarithmic_error: 0.9904\n",
      "Epoch 3/20\n",
      "307/307 [==============================] - 1s 3ms/step - loss: 0.9455 - mean_squared_logarithmic_error: 0.9455 - val_loss: 0.8889 - val_mean_squared_logarithmic_error: 0.8889\n",
      "Epoch 4/20\n",
      "307/307 [==============================] - 1s 3ms/step - loss: 0.8656 - mean_squared_logarithmic_error: 0.8656 - val_loss: 0.8091 - val_mean_squared_logarithmic_error: 0.8091\n",
      "Epoch 5/20\n",
      "307/307 [==============================] - 1s 3ms/step - loss: 0.7877 - mean_squared_logarithmic_error: 0.7877 - val_loss: 0.7144 - val_mean_squared_logarithmic_error: 0.7144\n",
      "Epoch 6/20\n",
      "307/307 [==============================] - 1s 4ms/step - loss: 0.6807 - mean_squared_logarithmic_error: 0.6807 - val_loss: 0.5884 - val_mean_squared_logarithmic_error: 0.5884\n",
      "Epoch 7/20\n",
      "307/307 [==============================] - 1s 3ms/step - loss: 0.5642 - mean_squared_logarithmic_error: 0.5642 - val_loss: 0.5003 - val_mean_squared_logarithmic_error: 0.5003\n",
      "Epoch 8/20\n",
      "307/307 [==============================] - 1s 3ms/step - loss: 0.4749 - mean_squared_logarithmic_error: 0.4749 - val_loss: 0.4278 - val_mean_squared_logarithmic_error: 0.4278\n",
      "Epoch 9/20\n",
      "307/307 [==============================] - 1s 3ms/step - loss: 0.4006 - mean_squared_logarithmic_error: 0.4006 - val_loss: 0.3569 - val_mean_squared_logarithmic_error: 0.3569\n",
      "Epoch 10/20\n",
      "307/307 [==============================] - 1s 3ms/step - loss: 0.3429 - mean_squared_logarithmic_error: 0.3429 - val_loss: 0.3193 - val_mean_squared_logarithmic_error: 0.3193\n",
      "Epoch 11/20\n",
      "307/307 [==============================] - 1s 2ms/step - loss: 0.3064 - mean_squared_logarithmic_error: 0.3064 - val_loss: 0.2784 - val_mean_squared_logarithmic_error: 0.2784\n",
      "Epoch 12/20\n",
      "307/307 [==============================] - 1s 2ms/step - loss: 0.2824 - mean_squared_logarithmic_error: 0.2824 - val_loss: 0.2669 - val_mean_squared_logarithmic_error: 0.2669\n",
      "Epoch 13/20\n",
      "307/307 [==============================] - 1s 2ms/step - loss: 0.2694 - mean_squared_logarithmic_error: 0.2694 - val_loss: 0.2584 - val_mean_squared_logarithmic_error: 0.2584\n",
      "Epoch 14/20\n",
      "307/307 [==============================] - 1s 3ms/step - loss: 0.2563 - mean_squared_logarithmic_error: 0.2563 - val_loss: 0.2352 - val_mean_squared_logarithmic_error: 0.2352\n",
      "Epoch 15/20\n",
      "307/307 [==============================] - 1s 2ms/step - loss: 0.2494 - mean_squared_logarithmic_error: 0.2494 - val_loss: 0.2389 - val_mean_squared_logarithmic_error: 0.2389\n",
      "Epoch 16/20\n",
      "307/307 [==============================] - 1s 2ms/step - loss: 0.2360 - mean_squared_logarithmic_error: 0.2360 - val_loss: 0.2239 - val_mean_squared_logarithmic_error: 0.2239\n",
      "Epoch 17/20\n",
      "307/307 [==============================] - 1s 2ms/step - loss: 0.2318 - mean_squared_logarithmic_error: 0.2318 - val_loss: 0.2386 - val_mean_squared_logarithmic_error: 0.2386\n",
      "Epoch 18/20\n",
      "307/307 [==============================] - 1s 2ms/step - loss: 0.2285 - mean_squared_logarithmic_error: 0.2285 - val_loss: 0.2142 - val_mean_squared_logarithmic_error: 0.2142\n",
      "Epoch 19/20\n",
      "307/307 [==============================] - 1s 2ms/step - loss: 0.2303 - mean_squared_logarithmic_error: 0.2303 - val_loss: 0.2114 - val_mean_squared_logarithmic_error: 0.2114\n",
      "Epoch 20/20\n",
      "307/307 [==============================] - 1s 3ms/step - loss: 0.2174 - mean_squared_logarithmic_error: 0.2174 - val_loss: 0.2141 - val_mean_squared_logarithmic_error: 0.2141\n"
     ]
    }
   ],
   "source": [
    "import tensorflow as tf\n",
    "\n",
    "tf.keras.backend.clear_session()\n",
    "tf.random.set_seed(42)\n",
    "\n",
    "norm_layer = tf.keras.layers.Normalization(input_shape=X_train.shape[1:])\n",
    "model = tf.keras.Sequential([\n",
    "    norm_layer,\n",
    "    tf.keras.layers.Dense(50, activation=\"relu\"),\n",
    "    tf.keras.layers.Dense(50, activation=\"relu\"),\n",
    "    tf.keras.layers.Dense(50, activation=\"relu\"),\n",
    "    tf.keras.layers.Dense(1)\n",
    "])\n",
    "optimizer = tf.keras.optimizers.Adam(learning_rate=1e-3)\n",
    "model.compile(loss=\"msle\", optimizer=optimizer, metrics=[\"MeanSquaredLogarithmicError\"])\n",
    "norm_layer.adapt(X_train)\n",
    "history = model.fit(X_train, y_train, epochs=20, validation_data=(X_val, y_val))\n",
    "#mse_test, rmse_test = model.evaluate(X_test, y_test)"
   ]
  },
  {
   "cell_type": "markdown",
   "metadata": {
    "id": "jzchTK1jrIxA"
   },
   "source": [
    "## Parte 3 - Ajuste fino\n",
    "\n",
    "Siguiendo el ejemplo de la sección *Fine-Tuning Neural Network Hyperparameters*:\n",
    "\n",
    "\n",
    "*   Utilizar la herramienta *RandomSearch* de *KerasTuner* para la busqueda de hiperparámetros del modelo implementado en *keras*. \n",
    "*   Probar el *tip* que se sugiere en la sección *Number of Neurons per Hidden Layer* y comentar los resultados."
   ]
  },
  {
   "cell_type": "code",
   "execution_count": 95,
   "metadata": {},
   "outputs": [],
   "source": [
    "import keras_tuner as kt\n",
    "\n",
    "norm_layer = tf.keras.layers.Normalization(input_shape=X_train.shape[1:])\n",
    "\n",
    "def build_model(hp):\n",
    "    n_hidden = hp.Int(\"n_hidden\", min_value=0, max_value=8, default=8)\n",
    "    n_neurons = []\n",
    "    for i in range(n_hidden):\n",
    "        n_neurons.append(hp.Int(f\"n_neurons{i}\", min_value=16, max_value=50))\n",
    "    learning_rate = hp.Float(\"learning_rate\", min_value=1e-4, max_value=1e-2, sampling=\"log\", default=0.0033138)\n",
    "   \n",
    "    model = tf.keras.Sequential()\n",
    "    model.add(norm_layer)\n",
    "    model.add(tf.keras.layers.Flatten())\n",
    "    for i in range(n_hidden):\n",
    "        model.add(tf.keras.layers.Dense(n_neurons[i], activation=\"relu\"))\n",
    "        \n",
    "    model.add(tf.keras.layers.Dense(1))\n",
    "    model.compile(loss=\"msle\", optimizer=tf.keras.optimizers.Nadam(learning_rate=learning_rate), metrics=[\"msle\"])\n",
    "    \n",
    "    return model       "
   ]
  },
  {
   "cell_type": "code",
   "execution_count": 26,
   "metadata": {},
   "outputs": [
    {
     "name": "stdout",
     "output_type": "stream",
     "text": [
      "Trial 1000 Complete [00h 00m 07s]\n",
      "val_msle: 22.910757064819336\n",
      "\n",
      "Best val_msle So Far: 0.542232871055603\n",
      "Total elapsed time: 01h 57m 36s\n"
     ]
    }
   ],
   "source": [
    "random_search_tuner = kt.RandomSearch(\n",
    "    build_model,\n",
    "    objective=\"val_msle\",\n",
    "    max_trials=1000,\n",
    "    overwrite=True,\n",
    "    directory=\"nn_model\",\n",
    "    project_name=\"nn_model_rand_search\",\n",
    "    seed=42\n",
    ")\n",
    "random_search_tuner.search(X_train, y_train, epochs=5, validation_data=(X_val, y_val))"
   ]
  },
  {
   "cell_type": "code",
   "execution_count": 13,
   "metadata": {},
   "outputs": [
    {
     "data": {
      "text/plain": [
       "<keras_tuner.src.engine.trial.Trial at 0x7a6de56b7b90>"
      ]
     },
     "execution_count": 13,
     "metadata": {},
     "output_type": "execute_result"
    }
   ],
   "source": [
    "random_search_tuner.oracle.get_best_trials(num_trials=1)[0]"
   ]
  },
  {
   "cell_type": "markdown",
   "metadata": {
    "id": "HmUt2QrywG60"
   },
   "source": [
    "## Parte 4 - Ajuste fino (Optuna)\n",
    "\n",
    "*   Utilizar *Optuna* para la busqueda de hiperparámetros del modelo en *Keras*. Se le sugiere seguir uno de los siguientes ejemplos: [*keras_simple*](https://github.com/optuna/optuna-examples/blob/main/keras/keras_simple.py),  [OptunaSearchCV](https://github.com/optuna/optuna-examples/blob/main/sklearn/sklearn_optuna_search_cv_simple.py).\n",
    "\n",
    "***Nota:** Optuna puede utilizarse para optimizar otras técnicas por fuera de las redes neuronales.*\n",
    "\n",
    "***Nota2:** Keras Tuner permite realizar Optimización bayesiana.*"
   ]
  },
  {
   "cell_type": "code",
   "execution_count": 13,
   "metadata": {},
   "outputs": [
    {
     "name": "stdout",
     "output_type": "stream",
     "text": [
      "Trial 30 Complete [00h 00m 05s]\n",
      "val_msle: 1.1242798566818237\n",
      "\n",
      "Best val_msle So Far: 0.899493396282196\n",
      "Total elapsed time: 00h 02m 23s\n"
     ]
    }
   ],
   "source": [
    "bayesian_tuner = kt.BayesianOptimization(\n",
    "    build_model,\n",
    "    objective=\"val_msle\",\n",
    "    max_trials=30,\n",
    "    overwrite=True,\n",
    "    directory=\"nn_model\",\n",
    "    project_name=\"nn_model_rand_search\",\n",
    "    seed=42\n",
    ")\n",
    "bayesian_tuner.search(X_train, y_train, epochs=5, validation_data=(X_val, y_val))"
   ]
  },
  {
   "cell_type": "code",
   "execution_count": 6,
   "metadata": {},
   "outputs": [],
   "source": [
    "#import comet_ml in the top of your file\n",
    "#from comet_ml import Experiment\n",
    "import matplotlib.pyplot as plt\n",
    "import numpy as np\n",
    "import pandas as pd\n",
    "#import seaborn as sns\n",
    "#sns.set_theme(style=\"whitegrid\")\n",
    "\n",
    "df_train = pd.read_csv('train.csv')\n",
    "df_test = pd.read_csv('test.csv')\n",
    "df_submission = pd.read_csv('sampleSubmission.csv')\n",
    "\n",
    "df_train['datetime'] = pd.to_datetime(df_train['datetime'])\n",
    "\n",
    "df_train['hour'] = df_train['datetime'].dt.hour\n",
    "df_train['weekday'] = df_train['datetime'].dt.weekday\n",
    "#df_train['month'] = df_train['datetime'].dt.month \n",
    "df_train['year'] = df_train['datetime'].dt.year\n",
    "\n",
    "y_train_full = df_train['count']\n",
    "df_train = df_train.drop(['datetime', 'casual', 'registered', 'count'], axis=1) # hay que eliminarlas ya que tiene relación directa con la columna objetivo y no aparecen en el conjunto de *test*."
   ]
  },
  {
   "cell_type": "code",
   "execution_count": 7,
   "metadata": {},
   "outputs": [],
   "source": [
    "from sklearn.model_selection import train_test_split\n",
    "\n",
    "X_train, X_val, y_train, y_val = train_test_split(df_train, y_train_full, train_size=0.9, random_state=42)\n",
    "\n",
    "norm_layer = tf.keras.layers.Normalization()\n",
    "norm_layer.adapt(X_train)\n",
    "X_train = norm_layer(X_train)\n",
    "\n",
    "norm_layer = tf.keras.layers.Normalization()\n",
    "norm_layer.adapt(X_val)\n",
    "X_val = norm_layer(X_val)"
   ]
  },
  {
   "cell_type": "code",
   "execution_count": 17,
   "metadata": {},
   "outputs": [
    {
     "name": "stdout",
     "output_type": "stream",
     "text": [
      "Trial 40 Complete [00h 00m 02s]\n",
      "\n",
      "Best val_loss So Far: 0.679317831993103\n",
      "Total elapsed time: 00h 04m 03s\n",
      "\n",
      "Search: Running Trial #41\n",
      "\n",
      "Value             |Best Value So Far |Hyperparameter\n",
      "4                 |7                 |n_hidden\n",
      "19                |41                |n_neurons0\n",
      "25                |36                |n_neurons1\n",
      "47                |35                |n_neurons2\n",
      "27                |19                |n_neurons3\n",
      "28                |46                |n_neurons4\n",
      "43                |38                |n_neurons5\n",
      "32                |45                |n_neurons6\n",
      "18                |49                |n_neurons7\n",
      "0.0032988         |0.0046924         |learning_rate\n",
      "9                 |3                 |tuner/epochs\n",
      "3                 |0                 |tuner/initial_epoch\n",
      "3                 |3                 |tuner/bracket\n",
      "1                 |0                 |tuner/round\n",
      "0014              |None              |tuner/trial_id\n",
      "\n"
     ]
    },
    {
     "name": "stderr",
     "output_type": "stream",
     "text": [
      "Traceback (most recent call last):\n",
      "  File \"/home/xqft/.conda/envs/ml/lib/python3.11/site-packages/keras_tuner/src/engine/base_tuner.py\", line 274, in _try_run_and_update_trial\n",
      "    self._run_and_update_trial(trial, *fit_args, **fit_kwargs)\n",
      "  File \"/home/xqft/.conda/envs/ml/lib/python3.11/site-packages/keras_tuner/src/engine/base_tuner.py\", line 239, in _run_and_update_trial\n",
      "    results = self.run_trial(trial, *fit_args, **fit_kwargs)\n",
      "              ^^^^^^^^^^^^^^^^^^^^^^^^^^^^^^^^^^^^^^^^^^^^^^\n",
      "  File \"/home/xqft/.conda/envs/ml/lib/python3.11/site-packages/keras_tuner/src/tuners/hyperband.py\", line 427, in run_trial\n",
      "    return super().run_trial(trial, *fit_args, **fit_kwargs)\n",
      "           ^^^^^^^^^^^^^^^^^^^^^^^^^^^^^^^^^^^^^^^^^^^^^^^^^\n",
      "  File \"/home/xqft/.conda/envs/ml/lib/python3.11/site-packages/keras_tuner/src/engine/tuner.py\", line 314, in run_trial\n",
      "    obj_value = self._build_and_fit_model(trial, *args, **copied_kwargs)\n",
      "                ^^^^^^^^^^^^^^^^^^^^^^^^^^^^^^^^^^^^^^^^^^^^^^^^^^^^^^^^\n",
      "  File \"/home/xqft/.conda/envs/ml/lib/python3.11/site-packages/keras_tuner/src/engine/tuner.py\", line 232, in _build_and_fit_model\n",
      "    model = self._try_build(hp)\n",
      "            ^^^^^^^^^^^^^^^^^^^\n",
      "  File \"/home/xqft/.conda/envs/ml/lib/python3.11/site-packages/keras_tuner/src/engine/tuner.py\", line 164, in _try_build\n",
      "    model = self._build_hypermodel(hp)\n",
      "            ^^^^^^^^^^^^^^^^^^^^^^^^^^\n",
      "  File \"/home/xqft/.conda/envs/ml/lib/python3.11/site-packages/keras_tuner/src/tuners/hyperband.py\", line 438, in _build_hypermodel\n",
      "    model.load_weights(self._get_checkpoint_fname(trial_id))\n",
      "  File \"/home/xqft/.conda/envs/ml/lib/python3.11/site-packages/keras/src/utils/traceback_utils.py\", line 70, in error_handler\n",
      "    raise e.with_traceback(filtered_tb) from None\n",
      "  File \"/home/xqft/.conda/envs/ml/lib/python3.11/site-packages/tensorflow/python/training/py_checkpoint_reader.py\", line 31, in error_translator\n",
      "    raise errors_impl.NotFoundError(None, None, error_message)\n",
      "tensorflow.python.framework.errors_impl.NotFoundError: Unsuccessful TensorSliceReader constructor: Failed to find any matching files for nn_model/nn_model_hyperband/trial_0014/checkpoint\n"
     ]
    },
    {
     "ename": "RuntimeError",
     "evalue": "Number of consecutive failures exceeded the limit of 3.\nTraceback (most recent call last):\n  File \"/home/xqft/.conda/envs/ml/lib/python3.11/site-packages/keras_tuner/src/engine/base_tuner.py\", line 274, in _try_run_and_update_trial\n    self._run_and_update_trial(trial, *fit_args, **fit_kwargs)\n  File \"/home/xqft/.conda/envs/ml/lib/python3.11/site-packages/keras_tuner/src/engine/base_tuner.py\", line 239, in _run_and_update_trial\n    results = self.run_trial(trial, *fit_args, **fit_kwargs)\n              ^^^^^^^^^^^^^^^^^^^^^^^^^^^^^^^^^^^^^^^^^^^^^^\n  File \"/home/xqft/.conda/envs/ml/lib/python3.11/site-packages/keras_tuner/src/tuners/hyperband.py\", line 427, in run_trial\n    return super().run_trial(trial, *fit_args, **fit_kwargs)\n           ^^^^^^^^^^^^^^^^^^^^^^^^^^^^^^^^^^^^^^^^^^^^^^^^^\n  File \"/home/xqft/.conda/envs/ml/lib/python3.11/site-packages/keras_tuner/src/engine/tuner.py\", line 314, in run_trial\n    obj_value = self._build_and_fit_model(trial, *args, **copied_kwargs)\n                ^^^^^^^^^^^^^^^^^^^^^^^^^^^^^^^^^^^^^^^^^^^^^^^^^^^^^^^^\n  File \"/home/xqft/.conda/envs/ml/lib/python3.11/site-packages/keras_tuner/src/engine/tuner.py\", line 232, in _build_and_fit_model\n    model = self._try_build(hp)\n            ^^^^^^^^^^^^^^^^^^^\n  File \"/home/xqft/.conda/envs/ml/lib/python3.11/site-packages/keras_tuner/src/engine/tuner.py\", line 164, in _try_build\n    model = self._build_hypermodel(hp)\n            ^^^^^^^^^^^^^^^^^^^^^^^^^^\n  File \"/home/xqft/.conda/envs/ml/lib/python3.11/site-packages/keras_tuner/src/tuners/hyperband.py\", line 438, in _build_hypermodel\n    model.load_weights(self._get_checkpoint_fname(trial_id))\n  File \"/home/xqft/.conda/envs/ml/lib/python3.11/site-packages/keras/src/utils/traceback_utils.py\", line 70, in error_handler\n    raise e.with_traceback(filtered_tb) from None\n  File \"/home/xqft/.conda/envs/ml/lib/python3.11/site-packages/tensorflow/python/training/py_checkpoint_reader.py\", line 31, in error_translator\n    raise errors_impl.NotFoundError(None, None, error_message)\ntensorflow.python.framework.errors_impl.NotFoundError: Unsuccessful TensorSliceReader constructor: Failed to find any matching files for nn_model/nn_model_hyperband/trial_0014/checkpoint\n",
     "output_type": "error",
     "traceback": [
      "\u001b[0;31m---------------------------------------------------------------------------\u001b[0m",
      "\u001b[0;31mRuntimeError\u001b[0m                              Traceback (most recent call last)",
      "Cell \u001b[0;32mIn[17], line 33\u001b[0m\n\u001b[1;32m     22\u001b[0m hyperband \u001b[38;5;241m=\u001b[39m kt\u001b[38;5;241m.\u001b[39mHyperband(\n\u001b[1;32m     23\u001b[0m     build_model,\n\u001b[1;32m     24\u001b[0m     objective\u001b[38;5;241m=\u001b[39m\u001b[38;5;124m\"\u001b[39m\u001b[38;5;124mval_loss\u001b[39m\u001b[38;5;124m\"\u001b[39m,\n\u001b[0;32m   (...)\u001b[0m\n\u001b[1;32m     29\u001b[0m     seed\u001b[38;5;241m=\u001b[39m\u001b[38;5;241m42\u001b[39m\n\u001b[1;32m     30\u001b[0m )\n\u001b[1;32m     32\u001b[0m early \u001b[38;5;241m=\u001b[39m tf\u001b[38;5;241m.\u001b[39mkeras\u001b[38;5;241m.\u001b[39mcallbacks\u001b[38;5;241m.\u001b[39mEarlyStopping(monitor\u001b[38;5;241m=\u001b[39m\u001b[38;5;124m'\u001b[39m\u001b[38;5;124mloss\u001b[39m\u001b[38;5;124m'\u001b[39m, patience\u001b[38;5;241m=\u001b[39m\u001b[38;5;241m5\u001b[39m)\n\u001b[0;32m---> 33\u001b[0m hyperband\u001b[38;5;241m.\u001b[39msearch(X_train, y_train, epochs\u001b[38;5;241m=\u001b[39m\u001b[38;5;241m80\u001b[39m, validation_data\u001b[38;5;241m=\u001b[39m(X_val, y_val), callbacks\u001b[38;5;241m=\u001b[39m[early])\n",
      "File \u001b[0;32m~/.conda/envs/ml/lib/python3.11/site-packages/keras_tuner/src/engine/base_tuner.py:235\u001b[0m, in \u001b[0;36mBaseTuner.search\u001b[0;34m(self, *fit_args, **fit_kwargs)\u001b[0m\n\u001b[1;32m    233\u001b[0m     \u001b[38;5;28mself\u001b[39m\u001b[38;5;241m.\u001b[39mon_trial_begin(trial)\n\u001b[1;32m    234\u001b[0m     \u001b[38;5;28mself\u001b[39m\u001b[38;5;241m.\u001b[39m_try_run_and_update_trial(trial, \u001b[38;5;241m*\u001b[39mfit_args, \u001b[38;5;241m*\u001b[39m\u001b[38;5;241m*\u001b[39mfit_kwargs)\n\u001b[0;32m--> 235\u001b[0m     \u001b[38;5;28mself\u001b[39m\u001b[38;5;241m.\u001b[39mon_trial_end(trial)\n\u001b[1;32m    236\u001b[0m \u001b[38;5;28mself\u001b[39m\u001b[38;5;241m.\u001b[39mon_search_end()\n",
      "File \u001b[0;32m~/.conda/envs/ml/lib/python3.11/site-packages/keras_tuner/src/engine/base_tuner.py:339\u001b[0m, in \u001b[0;36mBaseTuner.on_trial_end\u001b[0;34m(self, trial)\u001b[0m\n\u001b[1;32m    333\u001b[0m \u001b[38;5;28;01mdef\u001b[39;00m \u001b[38;5;21mon_trial_end\u001b[39m(\u001b[38;5;28mself\u001b[39m, trial):\n\u001b[1;32m    334\u001b[0m \u001b[38;5;250m    \u001b[39m\u001b[38;5;124;03m\"\"\"Called at the end of a trial.\u001b[39;00m\n\u001b[1;32m    335\u001b[0m \n\u001b[1;32m    336\u001b[0m \u001b[38;5;124;03m    Args:\u001b[39;00m\n\u001b[1;32m    337\u001b[0m \u001b[38;5;124;03m        trial: A `Trial` instance.\u001b[39;00m\n\u001b[1;32m    338\u001b[0m \u001b[38;5;124;03m    \"\"\"\u001b[39;00m\n\u001b[0;32m--> 339\u001b[0m     \u001b[38;5;28mself\u001b[39m\u001b[38;5;241m.\u001b[39moracle\u001b[38;5;241m.\u001b[39mend_trial(trial)\n\u001b[1;32m    340\u001b[0m     \u001b[38;5;28mself\u001b[39m\u001b[38;5;241m.\u001b[39msave()\n",
      "File \u001b[0;32m~/.conda/envs/ml/lib/python3.11/site-packages/keras_tuner/src/engine/oracle.py:108\u001b[0m, in \u001b[0;36msynchronized.<locals>.wrapped_func\u001b[0;34m(*args, **kwargs)\u001b[0m\n\u001b[1;32m    106\u001b[0m     LOCKS[oracle]\u001b[38;5;241m.\u001b[39macquire()\n\u001b[1;32m    107\u001b[0m     THREADS[oracle] \u001b[38;5;241m=\u001b[39m thread_name\n\u001b[0;32m--> 108\u001b[0m ret_val \u001b[38;5;241m=\u001b[39m func(\u001b[38;5;241m*\u001b[39margs, \u001b[38;5;241m*\u001b[39m\u001b[38;5;241m*\u001b[39mkwargs)\n\u001b[1;32m    109\u001b[0m \u001b[38;5;28;01mif\u001b[39;00m need_acquire:\n\u001b[1;32m    110\u001b[0m     THREADS[oracle] \u001b[38;5;241m=\u001b[39m \u001b[38;5;28;01mNone\u001b[39;00m\n",
      "File \u001b[0;32m~/.conda/envs/ml/lib/python3.11/site-packages/keras_tuner/src/engine/oracle.py:588\u001b[0m, in \u001b[0;36mOracle.end_trial\u001b[0;34m(self, trial)\u001b[0m\n\u001b[1;32m    586\u001b[0m \u001b[38;5;28;01mif\u001b[39;00m \u001b[38;5;129;01mnot\u001b[39;00m \u001b[38;5;28mself\u001b[39m\u001b[38;5;241m.\u001b[39m_retry(trial):\n\u001b[1;32m    587\u001b[0m     \u001b[38;5;28mself\u001b[39m\u001b[38;5;241m.\u001b[39mend_order\u001b[38;5;241m.\u001b[39mappend(trial\u001b[38;5;241m.\u001b[39mtrial_id)\n\u001b[0;32m--> 588\u001b[0m     \u001b[38;5;28mself\u001b[39m\u001b[38;5;241m.\u001b[39m_check_consecutive_failures()\n\u001b[1;32m    590\u001b[0m \u001b[38;5;28mself\u001b[39m\u001b[38;5;241m.\u001b[39m_save_trial(trial)\n\u001b[1;32m    591\u001b[0m \u001b[38;5;28mself\u001b[39m\u001b[38;5;241m.\u001b[39msave()\n",
      "File \u001b[0;32m~/.conda/envs/ml/lib/python3.11/site-packages/keras_tuner/src/engine/oracle.py:545\u001b[0m, in \u001b[0;36mOracle._check_consecutive_failures\u001b[0;34m(self)\u001b[0m\n\u001b[1;32m    543\u001b[0m     consecutive_failures \u001b[38;5;241m=\u001b[39m \u001b[38;5;241m0\u001b[39m\n\u001b[1;32m    544\u001b[0m \u001b[38;5;28;01mif\u001b[39;00m consecutive_failures \u001b[38;5;241m==\u001b[39m \u001b[38;5;28mself\u001b[39m\u001b[38;5;241m.\u001b[39mmax_consecutive_failed_trials:\n\u001b[0;32m--> 545\u001b[0m     \u001b[38;5;28;01mraise\u001b[39;00m \u001b[38;5;167;01mRuntimeError\u001b[39;00m(\n\u001b[1;32m    546\u001b[0m         \u001b[38;5;124m\"\u001b[39m\u001b[38;5;124mNumber of consecutive failures exceeded the limit \u001b[39m\u001b[38;5;124m\"\u001b[39m\n\u001b[1;32m    547\u001b[0m         \u001b[38;5;124mf\u001b[39m\u001b[38;5;124m\"\u001b[39m\u001b[38;5;124mof \u001b[39m\u001b[38;5;132;01m{\u001b[39;00m\u001b[38;5;28mself\u001b[39m\u001b[38;5;241m.\u001b[39mmax_consecutive_failed_trials\u001b[38;5;132;01m}\u001b[39;00m\u001b[38;5;124m.\u001b[39m\u001b[38;5;130;01m\\n\u001b[39;00m\u001b[38;5;124m\"\u001b[39m\n\u001b[1;32m    548\u001b[0m         \u001b[38;5;241m+\u001b[39m (trial\u001b[38;5;241m.\u001b[39mmessage \u001b[38;5;129;01mor\u001b[39;00m \u001b[38;5;124m\"\u001b[39m\u001b[38;5;124m\"\u001b[39m)\n\u001b[1;32m    549\u001b[0m     )\n",
      "\u001b[0;31mRuntimeError\u001b[0m: Number of consecutive failures exceeded the limit of 3.\nTraceback (most recent call last):\n  File \"/home/xqft/.conda/envs/ml/lib/python3.11/site-packages/keras_tuner/src/engine/base_tuner.py\", line 274, in _try_run_and_update_trial\n    self._run_and_update_trial(trial, *fit_args, **fit_kwargs)\n  File \"/home/xqft/.conda/envs/ml/lib/python3.11/site-packages/keras_tuner/src/engine/base_tuner.py\", line 239, in _run_and_update_trial\n    results = self.run_trial(trial, *fit_args, **fit_kwargs)\n              ^^^^^^^^^^^^^^^^^^^^^^^^^^^^^^^^^^^^^^^^^^^^^^\n  File \"/home/xqft/.conda/envs/ml/lib/python3.11/site-packages/keras_tuner/src/tuners/hyperband.py\", line 427, in run_trial\n    return super().run_trial(trial, *fit_args, **fit_kwargs)\n           ^^^^^^^^^^^^^^^^^^^^^^^^^^^^^^^^^^^^^^^^^^^^^^^^^\n  File \"/home/xqft/.conda/envs/ml/lib/python3.11/site-packages/keras_tuner/src/engine/tuner.py\", line 314, in run_trial\n    obj_value = self._build_and_fit_model(trial, *args, **copied_kwargs)\n                ^^^^^^^^^^^^^^^^^^^^^^^^^^^^^^^^^^^^^^^^^^^^^^^^^^^^^^^^\n  File \"/home/xqft/.conda/envs/ml/lib/python3.11/site-packages/keras_tuner/src/engine/tuner.py\", line 232, in _build_and_fit_model\n    model = self._try_build(hp)\n            ^^^^^^^^^^^^^^^^^^^\n  File \"/home/xqft/.conda/envs/ml/lib/python3.11/site-packages/keras_tuner/src/engine/tuner.py\", line 164, in _try_build\n    model = self._build_hypermodel(hp)\n            ^^^^^^^^^^^^^^^^^^^^^^^^^^\n  File \"/home/xqft/.conda/envs/ml/lib/python3.11/site-packages/keras_tuner/src/tuners/hyperband.py\", line 438, in _build_hypermodel\n    model.load_weights(self._get_checkpoint_fname(trial_id))\n  File \"/home/xqft/.conda/envs/ml/lib/python3.11/site-packages/keras/src/utils/traceback_utils.py\", line 70, in error_handler\n    raise e.with_traceback(filtered_tb) from None\n  File \"/home/xqft/.conda/envs/ml/lib/python3.11/site-packages/tensorflow/python/training/py_checkpoint_reader.py\", line 31, in error_translator\n    raise errors_impl.NotFoundError(None, None, error_message)\ntensorflow.python.framework.errors_impl.NotFoundError: Unsuccessful TensorSliceReader constructor: Failed to find any matching files for nn_model/nn_model_hyperband/trial_0014/checkpoint\n"
     ]
    }
   ],
   "source": [
    "import keras_tuner as kt\n",
    "import tensorflow as tf\n",
    "\n",
    "def build_model(hp):\n",
    "    n_hidden = hp.Int(\"n_hidden\", min_value=0, max_value=8, default=8)\n",
    "    n_neurons = []\n",
    "    for i in range(n_hidden):\n",
    "        n_neurons.append(hp.Int(f\"n_neurons{i}\", min_value=16, max_value=50, default=35))\n",
    "    learning_rate = hp.Float(\"learning_rate\", min_value=1e-4, max_value=1e-2, sampling=\"log\", default=0.0033138)\n",
    "   \n",
    "    model = tf.keras.Sequential()\n",
    "    model.add(tf.keras.layers.Flatten())\n",
    "    for i in range(n_hidden):\n",
    "        model.add(tf.keras.layers.Dropout(0.2))\n",
    "        model.add(tf.keras.layers.Dense(n_neurons[i], activation=\"relu\"))\n",
    "        \n",
    "    model.add(tf.keras.layers.Dense(1, activation=\"linear\"))\n",
    "    model.compile(loss=\"msle\", optimizer=tf.keras.optimizers.Nadam(learning_rate=learning_rate))\n",
    "    \n",
    "    return model\n",
    "\n",
    "hyperband = kt.Hyperband(\n",
    "    build_model,\n",
    "    objective=\"val_loss\",\n",
    "    max_epochs=80,\n",
    "    overwrite=True,\n",
    "    directory=\"nn_model\",\n",
    "    project_name=\"nn_model_hyperband\",\n",
    "    seed=42\n",
    ")\n",
    "\n",
    "early = tf.keras.callbacks.EarlyStopping(monitor='loss', patience=5)\n",
    "hyperband.search(X_train, y_train, epochs=80, validation_data=(X_val, y_val), callbacks=[early])"
   ]
  },
  {
   "cell_type": "code",
   "execution_count": 9,
   "metadata": {},
   "outputs": [
    {
     "name": "stdout",
     "output_type": "stream",
     "text": [
      "WARNING:tensorflow:Skipping full serialization of Keras layer <keras.src.engine.sequential.Sequential object at 0x7e9c5b9b9a10>, because it is not built.\n"
     ]
    },
    {
     "ename": "ValueError",
     "evalue": "Model <keras.src.engine.sequential.Sequential object at 0x7e9c5b9b9a10> cannot be saved because the input shape is not available. Please specify an input shape either by calling `build(input_shape)` directly, or by calling the model on actual data using `Model()`, `Model.fit()`, or `Model.predict()`.",
     "output_type": "error",
     "traceback": [
      "\u001b[0;31m---------------------------------------------------------------------------\u001b[0m",
      "\u001b[0;31mValueError\u001b[0m                                Traceback (most recent call last)",
      "Cell \u001b[0;32mIn[9], line 2\u001b[0m\n\u001b[1;32m      1\u001b[0m best_model \u001b[38;5;241m=\u001b[39m hyperband\u001b[38;5;241m.\u001b[39mget_best_models()[\u001b[38;5;241m0\u001b[39m]\n\u001b[0;32m----> 2\u001b[0m best_model\u001b[38;5;241m.\u001b[39msave(\u001b[38;5;124m\"\u001b[39m\u001b[38;5;124m./best_hyperband\u001b[39m\u001b[38;5;124m\"\u001b[39m)\n\u001b[1;32m      3\u001b[0m \u001b[38;5;66;03m#best_model = tf.keras.models.load_model('./best_hyperband')\u001b[39;00m\n\u001b[1;32m      4\u001b[0m best_model\u001b[38;5;241m.\u001b[39mevaluate(X_val, y_val)\n",
      "File \u001b[0;32m~/.conda/envs/ml/lib/python3.11/site-packages/keras/src/utils/traceback_utils.py:70\u001b[0m, in \u001b[0;36mfilter_traceback.<locals>.error_handler\u001b[0;34m(*args, **kwargs)\u001b[0m\n\u001b[1;32m     67\u001b[0m     filtered_tb \u001b[38;5;241m=\u001b[39m _process_traceback_frames(e\u001b[38;5;241m.\u001b[39m__traceback__)\n\u001b[1;32m     68\u001b[0m     \u001b[38;5;66;03m# To get the full stack trace, call:\u001b[39;00m\n\u001b[1;32m     69\u001b[0m     \u001b[38;5;66;03m# `tf.debugging.disable_traceback_filtering()`\u001b[39;00m\n\u001b[0;32m---> 70\u001b[0m     \u001b[38;5;28;01mraise\u001b[39;00m e\u001b[38;5;241m.\u001b[39mwith_traceback(filtered_tb) \u001b[38;5;28;01mfrom\u001b[39;00m \u001b[38;5;28;01mNone\u001b[39;00m\n\u001b[1;32m     71\u001b[0m \u001b[38;5;28;01mfinally\u001b[39;00m:\n\u001b[1;32m     72\u001b[0m     \u001b[38;5;28;01mdel\u001b[39;00m filtered_tb\n",
      "File \u001b[0;32m~/.conda/envs/ml/lib/python3.11/site-packages/keras/src/saving/legacy/saving_utils.py:88\u001b[0m, in \u001b[0;36mraise_model_input_error\u001b[0;34m(model)\u001b[0m\n\u001b[1;32m     86\u001b[0m \u001b[38;5;28;01mdef\u001b[39;00m \u001b[38;5;21mraise_model_input_error\u001b[39m(model):\n\u001b[1;32m     87\u001b[0m     \u001b[38;5;28;01mif\u001b[39;00m \u001b[38;5;28misinstance\u001b[39m(model, keras\u001b[38;5;241m.\u001b[39mmodels\u001b[38;5;241m.\u001b[39mSequential):\n\u001b[0;32m---> 88\u001b[0m         \u001b[38;5;28;01mraise\u001b[39;00m \u001b[38;5;167;01mValueError\u001b[39;00m(\n\u001b[1;32m     89\u001b[0m             \u001b[38;5;124mf\u001b[39m\u001b[38;5;124m\"\u001b[39m\u001b[38;5;124mModel \u001b[39m\u001b[38;5;132;01m{\u001b[39;00mmodel\u001b[38;5;132;01m}\u001b[39;00m\u001b[38;5;124m cannot be saved because the input shape is not \u001b[39m\u001b[38;5;124m\"\u001b[39m\n\u001b[1;32m     90\u001b[0m             \u001b[38;5;124m\"\u001b[39m\u001b[38;5;124mavailable. Please specify an input shape either by calling \u001b[39m\u001b[38;5;124m\"\u001b[39m\n\u001b[1;32m     91\u001b[0m             \u001b[38;5;124m\"\u001b[39m\u001b[38;5;124m`build(input_shape)` directly, or by calling the model on actual \u001b[39m\u001b[38;5;124m\"\u001b[39m\n\u001b[1;32m     92\u001b[0m             \u001b[38;5;124m\"\u001b[39m\u001b[38;5;124mdata using `Model()`, `Model.fit()`, or `Model.predict()`.\u001b[39m\u001b[38;5;124m\"\u001b[39m\n\u001b[1;32m     93\u001b[0m         )\n\u001b[1;32m     95\u001b[0m     \u001b[38;5;66;03m# If the model is not a `Sequential`, it is intended to be a subclassed\u001b[39;00m\n\u001b[1;32m     96\u001b[0m     \u001b[38;5;66;03m# model.\u001b[39;00m\n\u001b[1;32m     97\u001b[0m     \u001b[38;5;28;01mraise\u001b[39;00m \u001b[38;5;167;01mValueError\u001b[39;00m(\n\u001b[1;32m     98\u001b[0m         \u001b[38;5;124mf\u001b[39m\u001b[38;5;124m\"\u001b[39m\u001b[38;5;124mModel \u001b[39m\u001b[38;5;132;01m{\u001b[39;00mmodel\u001b[38;5;132;01m}\u001b[39;00m\u001b[38;5;124m cannot be saved either because the input shape is not \u001b[39m\u001b[38;5;124m\"\u001b[39m\n\u001b[1;32m     99\u001b[0m         \u001b[38;5;124m\"\u001b[39m\u001b[38;5;124mavailable or because the forward pass of the model is not defined.\u001b[39m\u001b[38;5;124m\"\u001b[39m\n\u001b[0;32m   (...)\u001b[0m\n\u001b[1;32m    105\u001b[0m         \u001b[38;5;124m\"\u001b[39m\u001b[38;5;124m`Model.__call__`, i.e. `model(inputs)`, as opposed to `model.call()`.\u001b[39m\u001b[38;5;124m\"\u001b[39m\n\u001b[1;32m    106\u001b[0m     )\n",
      "\u001b[0;31mValueError\u001b[0m: Model <keras.src.engine.sequential.Sequential object at 0x7e9c5b9b9a10> cannot be saved because the input shape is not available. Please specify an input shape either by calling `build(input_shape)` directly, or by calling the model on actual data using `Model()`, `Model.fit()`, or `Model.predict()`."
     ]
    }
   ],
   "source": [
    "best_model = hyperband.get_best_models()[0]\n",
    "best_model.save(\"./best_hyperband\")\n",
    "#best_model = tf.keras.models.load_model('./best_hyperband')\n",
    "best_model.evaluate(X_val, y_val)"
   ]
  },
  {
   "cell_type": "code",
   "execution_count": 85,
   "metadata": {},
   "outputs": [],
   "source": [
    "best_model = tf.keras.models.load_model(\"./best_hyperband\")"
   ]
  },
  {
   "cell_type": "code",
   "execution_count": 86,
   "metadata": {},
   "outputs": [
    {
     "name": "stdout",
     "output_type": "stream",
     "text": [
      "35/35 [==============================] - 0s 2ms/step - loss: 0.1764 - msle: 0.1764\n"
     ]
    },
    {
     "data": {
      "text/plain": [
       "[0.17636224627494812, 0.17636224627494812]"
      ]
     },
     "execution_count": 86,
     "metadata": {},
     "output_type": "execute_result"
    }
   ],
   "source": [
    "best_model.evaluate(X_val, y_val)"
   ]
  },
  {
   "cell_type": "code",
   "execution_count": 10,
   "metadata": {},
   "outputs": [
    {
     "ename": "AttributeError",
     "evalue": "The layer \"flatten\" has never been called and thus has no defined output shape.",
     "output_type": "error",
     "traceback": [
      "\u001b[0;31m---------------------------------------------------------------------------\u001b[0m",
      "\u001b[0;31mAttributeError\u001b[0m                            Traceback (most recent call last)",
      "Cell \u001b[0;32mIn[10], line 2\u001b[0m\n\u001b[1;32m      1\u001b[0m \u001b[38;5;28;01mfor\u001b[39;00m layer \u001b[38;5;129;01min\u001b[39;00m best_model\u001b[38;5;241m.\u001b[39mlayers:\n\u001b[0;32m----> 2\u001b[0m     \u001b[38;5;28mprint\u001b[39m(layer\u001b[38;5;241m.\u001b[39moutput_shape)\n",
      "File \u001b[0;32m~/.conda/envs/ml/lib/python3.11/site-packages/keras/src/engine/base_layer.py:2182\u001b[0m, in \u001b[0;36mLayer.output_shape\u001b[0;34m(self)\u001b[0m\n\u001b[1;32m   2168\u001b[0m \u001b[38;5;250m\u001b[39m\u001b[38;5;124;03m\"\"\"Retrieves the output shape(s) of a layer.\u001b[39;00m\n\u001b[1;32m   2169\u001b[0m \n\u001b[1;32m   2170\u001b[0m \u001b[38;5;124;03mOnly applicable if the layer has one output,\u001b[39;00m\n\u001b[0;32m   (...)\u001b[0m\n\u001b[1;32m   2179\u001b[0m \u001b[38;5;124;03m    RuntimeError: if called in Eager mode.\u001b[39;00m\n\u001b[1;32m   2180\u001b[0m \u001b[38;5;124;03m\"\"\"\u001b[39;00m\n\u001b[1;32m   2181\u001b[0m \u001b[38;5;28;01mif\u001b[39;00m \u001b[38;5;129;01mnot\u001b[39;00m \u001b[38;5;28mself\u001b[39m\u001b[38;5;241m.\u001b[39m_inbound_nodes:\n\u001b[0;32m-> 2182\u001b[0m     \u001b[38;5;28;01mraise\u001b[39;00m \u001b[38;5;167;01mAttributeError\u001b[39;00m(\n\u001b[1;32m   2183\u001b[0m         \u001b[38;5;124mf\u001b[39m\u001b[38;5;124m'\u001b[39m\u001b[38;5;124mThe layer \u001b[39m\u001b[38;5;124m\"\u001b[39m\u001b[38;5;132;01m{\u001b[39;00m\u001b[38;5;28mself\u001b[39m\u001b[38;5;241m.\u001b[39mname\u001b[38;5;132;01m}\u001b[39;00m\u001b[38;5;124m\"\u001b[39m\u001b[38;5;124m has never been called \u001b[39m\u001b[38;5;124m'\u001b[39m\n\u001b[1;32m   2184\u001b[0m         \u001b[38;5;124m\"\u001b[39m\u001b[38;5;124mand thus has no defined output shape.\u001b[39m\u001b[38;5;124m\"\u001b[39m\n\u001b[1;32m   2185\u001b[0m     )\n\u001b[1;32m   2186\u001b[0m all_output_shapes \u001b[38;5;241m=\u001b[39m \u001b[38;5;28mset\u001b[39m(\n\u001b[1;32m   2187\u001b[0m     [\u001b[38;5;28mstr\u001b[39m(node\u001b[38;5;241m.\u001b[39moutput_shapes) \u001b[38;5;28;01mfor\u001b[39;00m node \u001b[38;5;129;01min\u001b[39;00m \u001b[38;5;28mself\u001b[39m\u001b[38;5;241m.\u001b[39m_inbound_nodes]\n\u001b[1;32m   2188\u001b[0m )\n\u001b[1;32m   2189\u001b[0m \u001b[38;5;28;01mif\u001b[39;00m \u001b[38;5;28mlen\u001b[39m(all_output_shapes) \u001b[38;5;241m==\u001b[39m \u001b[38;5;241m1\u001b[39m:\n",
      "\u001b[0;31mAttributeError\u001b[0m: The layer \"flatten\" has never been called and thus has no defined output shape."
     ]
    }
   ],
   "source": [
    "for layer in best_model.layers:\n",
    "    print(layer.output_shape)"
   ]
  },
  {
   "cell_type": "code",
   "execution_count": 11,
   "metadata": {},
   "outputs": [
    {
     "name": "stdout",
     "output_type": "stream",
     "text": [
      "Epoch 1/80\n",
      "341/341 [==============================] - 3s 2ms/step - loss: 0.0728\n",
      "Epoch 2/80\n",
      "341/341 [==============================] - 1s 2ms/step - loss: 0.0718\n",
      "Epoch 3/80\n",
      "341/341 [==============================] - 1s 2ms/step - loss: 0.0726\n",
      "Epoch 4/80\n",
      "341/341 [==============================] - 1s 2ms/step - loss: 0.0721\n",
      "Epoch 5/80\n",
      "341/341 [==============================] - 1s 2ms/step - loss: 0.0714\n",
      "Epoch 6/80\n",
      "341/341 [==============================] - 1s 2ms/step - loss: 0.0701\n",
      "Epoch 7/80\n",
      "341/341 [==============================] - 1s 2ms/step - loss: 0.0704\n",
      "Epoch 8/80\n",
      "341/341 [==============================] - 1s 2ms/step - loss: 0.0696\n",
      "Epoch 9/80\n",
      "341/341 [==============================] - 1s 2ms/step - loss: 0.0696\n",
      "Epoch 10/80\n",
      "341/341 [==============================] - 1s 3ms/step - loss: 0.0696\n",
      "Epoch 11/80\n",
      "341/341 [==============================] - 1s 2ms/step - loss: 0.0688\n",
      "Epoch 12/80\n",
      "341/341 [==============================] - 1s 2ms/step - loss: 0.0683\n",
      "Epoch 13/80\n",
      "341/341 [==============================] - 1s 2ms/step - loss: 0.0691\n",
      "Epoch 14/80\n",
      "341/341 [==============================] - 1s 2ms/step - loss: 0.0678\n",
      "Epoch 15/80\n",
      "341/341 [==============================] - 1s 2ms/step - loss: 0.0684\n",
      "Epoch 16/80\n",
      "341/341 [==============================] - 1s 3ms/step - loss: 0.0685\n",
      "Epoch 17/80\n",
      "341/341 [==============================] - 1s 2ms/step - loss: 0.0661\n",
      "Epoch 18/80\n",
      "341/341 [==============================] - 1s 2ms/step - loss: 0.0682\n",
      "Epoch 19/80\n",
      "341/341 [==============================] - 1s 2ms/step - loss: 0.0670\n",
      "Epoch 20/80\n",
      "341/341 [==============================] - 1s 2ms/step - loss: 0.0672\n",
      "Epoch 21/80\n",
      "341/341 [==============================] - 1s 2ms/step - loss: 0.0673\n",
      "Epoch 22/80\n",
      "341/341 [==============================] - 1s 2ms/step - loss: 0.0667\n"
     ]
    },
    {
     "data": {
      "text/plain": [
       "<keras.src.callbacks.History at 0x7e9c06d46850>"
      ]
     },
     "execution_count": 11,
     "metadata": {},
     "output_type": "execute_result"
    }
   ],
   "source": []
  },
  {
   "cell_type": "code",
   "execution_count": 14,
   "metadata": {},
   "outputs": [],
   "source": [
    "from sklearn.model_selection import train_test_split\n",
    "\n",
    "X = df_test.copy()\n",
    "\n",
    "X['datetime'] = pd.to_datetime(X['datetime'])\n",
    "X['hour'] = X['datetime'].dt.hour\n",
    "X['weekday'] = X['datetime'].dt.weekday\n",
    "#X['month'] = X['datetime'].dt.month\n",
    "X['year'] = X['datetime'].dt.month\n",
    "\n",
    "# \"count\" es la columna objetivo, \"casual\" y \"registered\" son parte del objetivo\n",
    "# pero solo queremos predecir la cantidad total de bicicletas alquiladas.\n",
    "X = X.drop(columns=[\"datetime\"])\n",
    "\n",
    "norm_layer = tf.keras.layers.Normalization()\n",
    "norm_layer.adapt(X)\n",
    "X = norm_layer(X)"
   ]
  },
  {
   "cell_type": "code",
   "execution_count": 15,
   "metadata": {},
   "outputs": [
    {
     "name": "stdout",
     "output_type": "stream",
     "text": [
      "203/203 [==============================] - 0s 1ms/step\n"
     ]
    }
   ],
   "source": [
    "y = pd.DataFrame()\n",
    "y[\"datetime\"] = df_test[\"datetime\"]\n",
    "y[\"count\"] = np.round(best_model.predict(X)).astype(int)"
   ]
  },
  {
   "cell_type": "code",
   "execution_count": 16,
   "metadata": {},
   "outputs": [],
   "source": [
    "y.to_csv(\"submission.csv\", index=False)"
   ]
  },
  {
   "cell_type": "code",
   "execution_count": 13,
   "metadata": {},
   "outputs": [
    {
     "name": "stdout",
     "output_type": "stream",
     "text": [
      "Collecting optuna\n",
      "  Downloading optuna-3.6.1-py3-none-any.whl.metadata (17 kB)\n",
      "Collecting alembic>=1.5.0 (from optuna)\n",
      "  Downloading alembic-1.13.1-py3-none-any.whl.metadata (7.4 kB)\n",
      "Collecting colorlog (from optuna)\n",
      "  Downloading colorlog-6.8.2-py3-none-any.whl.metadata (10 kB)\n",
      "Requirement already satisfied: numpy in /home/xqft/.conda/envs/ml/lib/python3.11/site-packages (from optuna) (1.24.3)\n",
      "Requirement already satisfied: packaging>=20.0 in /home/xqft/.conda/envs/ml/lib/python3.11/site-packages (from optuna) (23.2)\n",
      "Collecting sqlalchemy>=1.3.0 (from optuna)\n",
      "  Downloading SQLAlchemy-2.0.29-cp311-cp311-manylinux_2_17_x86_64.manylinux2014_x86_64.whl.metadata (9.6 kB)\n",
      "Requirement already satisfied: tqdm in /home/xqft/.conda/envs/ml/lib/python3.11/site-packages (from optuna) (4.66.2)\n",
      "Requirement already satisfied: PyYAML in /home/xqft/.conda/envs/ml/lib/python3.11/site-packages (from optuna) (6.0.1)\n",
      "Collecting Mako (from alembic>=1.5.0->optuna)\n",
      "  Downloading Mako-1.3.3-py3-none-any.whl.metadata (2.9 kB)\n",
      "Requirement already satisfied: typing-extensions>=4 in /home/xqft/.conda/envs/ml/lib/python3.11/site-packages (from alembic>=1.5.0->optuna) (4.9.0)\n",
      "Collecting greenlet!=0.4.17 (from sqlalchemy>=1.3.0->optuna)\n",
      "  Downloading greenlet-3.0.3-cp311-cp311-manylinux_2_24_x86_64.manylinux_2_28_x86_64.whl.metadata (3.8 kB)\n",
      "Requirement already satisfied: MarkupSafe>=0.9.2 in /home/xqft/.conda/envs/ml/lib/python3.11/site-packages (from Mako->alembic>=1.5.0->optuna) (2.1.3)\n",
      "Downloading optuna-3.6.1-py3-none-any.whl (380 kB)\n",
      "\u001b[2K   \u001b[38;2;114;156;31m━━━━━━━━━━━━━━━━━━━━━━━━━━━━━━━━━━━━━━━━\u001b[0m \u001b[32m380.1/380.1 kB\u001b[0m \u001b[31m5.3 MB/s\u001b[0m eta \u001b[36m0:00:00\u001b[0mm eta \u001b[36m0:00:01\u001b[0m0:01\u001b[0m\n",
      "\u001b[?25hDownloading alembic-1.13.1-py3-none-any.whl (233 kB)\n",
      "\u001b[2K   \u001b[38;2;114;156;31m━━━━━━━━━━━━━━━━━━━━━━━━━━━━━━━━━━━━━━━━\u001b[0m \u001b[32m233.4/233.4 kB\u001b[0m \u001b[31m4.7 MB/s\u001b[0m eta \u001b[36m0:00:00\u001b[0m[31m20.2 MB/s\u001b[0m eta \u001b[36m0:00:01\u001b[0m\n",
      "\u001b[?25hDownloading SQLAlchemy-2.0.29-cp311-cp311-manylinux_2_17_x86_64.manylinux2014_x86_64.whl (3.2 MB)\n",
      "\u001b[2K   \u001b[38;2;114;156;31m━━━━━━━━━━━━━━━━━━━━━━━━━━━━━━━━━━━━━━━━\u001b[0m \u001b[32m3.2/3.2 MB\u001b[0m \u001b[31m24.4 MB/s\u001b[0m eta \u001b[36m0:00:00\u001b[0mm eta \u001b[36m0:00:01\u001b[0m0:01\u001b[0m\n",
      "\u001b[?25hDownloading colorlog-6.8.2-py3-none-any.whl (11 kB)\n",
      "Downloading greenlet-3.0.3-cp311-cp311-manylinux_2_24_x86_64.manylinux_2_28_x86_64.whl (620 kB)\n",
      "\u001b[2K   \u001b[38;2;114;156;31m━━━━━━━━━━━━━━━━━━━━━━━━━━━━━━━━━━━━━━━━\u001b[0m \u001b[32m620.0/620.0 kB\u001b[0m \u001b[31m12.8 MB/s\u001b[0m eta \u001b[36m0:00:00\u001b[0mm eta \u001b[36m0:00:01\u001b[0m\n",
      "\u001b[?25hDownloading Mako-1.3.3-py3-none-any.whl (78 kB)\n",
      "\u001b[2K   \u001b[38;2;114;156;31m━━━━━━━━━━━━━━━━━━━━━━━━━━━━━━━━━━━━━━━━\u001b[0m \u001b[32m78.8/78.8 kB\u001b[0m \u001b[31m1.3 MB/s\u001b[0m eta \u001b[36m0:00:00\u001b[0m MB/s\u001b[0m eta \u001b[36m0:00:01\u001b[0m\n",
      "\u001b[?25hInstalling collected packages: Mako, greenlet, colorlog, sqlalchemy, alembic, optuna\n",
      "Successfully installed Mako-1.3.3 alembic-1.13.1 colorlog-6.8.2 greenlet-3.0.3 optuna-3.6.1 sqlalchemy-2.0.29\n"
     ]
    }
   ],
   "source": [
    "!pip install optuna"
   ]
  },
  {
   "cell_type": "code",
   "execution_count": 14,
   "metadata": {
    "colab": {
     "base_uri": "https://localhost:8080/"
    },
    "id": "0DM4D3m-1X64",
    "outputId": "b2ed6754-9b75-4a83-8e61-c3e8394b613a"
   },
   "outputs": [],
   "source": [
    "norm_layer = tf.keras.layers.Normalization(input_shape=X_train.shape[1:])\n",
    "\n",
    "def objective(trial):\n",
    "    n_hidden = trial.suggest_int(\"n_hidden\", 0, 8)\n",
    "    n_neurons = trial.suggest_int(\"n_neurons\", 16, 50)\n",
    "    learning_rate = trial.suggest_float(\"learning_rate\", 1e-4, 1e-2, log=True)\n",
    "    \n",
    "    model = tf.keras.Sequential()\n",
    "    model.add(norm_layer)\n",
    "    for _ in range(n_hidden):\n",
    "        model.add(tf.keras.layers.Dense(n_neurons, activation=\"relu\"))\n",
    "    model.add(tf.keras.layers.Dense(1))\n",
    "    \n",
    "    model.compile(loss=\"msle\", optimizer=tf.keras.optimizers.Adam(learning_rate=learning_rate), metrics=[\"msle\"])\n",
    "    model.fit(X_train, y_train, epochs=5, validation_data=(X_val, y_val))\n",
    "    score = model.evaluate(X_val, y_val, verbose=0)\n",
    "\n",
    "    return score[1]    "
   ]
  },
  {
   "cell_type": "code",
   "execution_count": 16,
   "metadata": {},
   "outputs": [
    {
     "name": "stderr",
     "output_type": "stream",
     "text": [
      "[I 2024-04-16 21:42:57,166] A new study created in memory with name: no-name-6cc92772-7a7a-41c2-a3f6-c185c6e91c2e\n"
     ]
    },
    {
     "name": "stdout",
     "output_type": "stream",
     "text": [
      "Epoch 1/5\n",
      "307/307 [==============================] - 2s 3ms/step - loss: 2.0212 - msle: 2.0212 - val_loss: 2.0797 - val_msle: 2.0797\n",
      "Epoch 2/5\n",
      "307/307 [==============================] - 1s 2ms/step - loss: 1.8948 - msle: 1.8948 - val_loss: 1.6503 - val_msle: 1.6503\n",
      "Epoch 3/5\n",
      "307/307 [==============================] - 1s 2ms/step - loss: 1.2561 - msle: 1.2561 - val_loss: 1.1400 - val_msle: 1.1400\n",
      "Epoch 4/5\n",
      "307/307 [==============================] - 1s 2ms/step - loss: 1.1287 - msle: 1.1287 - val_loss: 1.0614 - val_msle: 1.0614\n",
      "Epoch 5/5\n",
      "307/307 [==============================] - 1s 2ms/step - loss: 1.0886 - msle: 1.0886 - val_loss: 1.0284 - val_msle: 1.0284\n"
     ]
    },
    {
     "name": "stderr",
     "output_type": "stream",
     "text": [
      "[I 2024-04-16 21:43:01,982] Trial 0 finished with value: 1.028429627418518 and parameters: {'n_hidden': 7, 'n_neurons': 19, 'learning_rate': 0.0008042722954183394}. Best is trial 0 with value: 1.028429627418518.\n"
     ]
    },
    {
     "name": "stdout",
     "output_type": "stream",
     "text": [
      "Epoch 1/5\n",
      "307/307 [==============================] - 1s 2ms/step - loss: 23.1158 - msle: 23.1158 - val_loss: 22.9108 - val_msle: 22.9108\n",
      "Epoch 2/5\n",
      "307/307 [==============================] - 0s 1ms/step - loss: 23.1158 - msle: 23.1158 - val_loss: 22.9108 - val_msle: 22.9108\n",
      "Epoch 3/5\n",
      "307/307 [==============================] - 0s 1ms/step - loss: 23.1158 - msle: 23.1158 - val_loss: 22.9108 - val_msle: 22.9108\n",
      "Epoch 4/5\n",
      "307/307 [==============================] - 0s 1ms/step - loss: 23.1158 - msle: 23.1158 - val_loss: 22.9108 - val_msle: 22.9108\n",
      "Epoch 5/5\n",
      "307/307 [==============================] - 1s 2ms/step - loss: 23.1158 - msle: 23.1158 - val_loss: 22.9108 - val_msle: 22.9108\n"
     ]
    },
    {
     "name": "stderr",
     "output_type": "stream",
     "text": [
      "[I 2024-04-16 21:43:04,972] Trial 1 finished with value: 22.910757064819336 and parameters: {'n_hidden': 1, 'n_neurons': 29, 'learning_rate': 0.00037760516612011163}. Best is trial 1 with value: 22.910757064819336.\n"
     ]
    },
    {
     "name": "stdout",
     "output_type": "stream",
     "text": [
      "Epoch 1/5\n",
      "307/307 [==============================] - 2s 3ms/step - loss: 2.0312 - msle: 2.0312 - val_loss: 2.0840 - val_msle: 2.0840\n",
      "Epoch 2/5\n",
      "307/307 [==============================] - 1s 2ms/step - loss: 1.8330 - msle: 1.8330 - val_loss: 1.3764 - val_msle: 1.3764\n",
      "Epoch 3/5\n",
      "307/307 [==============================] - 1s 2ms/step - loss: 1.3194 - msle: 1.3194 - val_loss: 1.1395 - val_msle: 1.1395\n",
      "Epoch 4/5\n",
      "307/307 [==============================] - 1s 2ms/step - loss: 1.1481 - msle: 1.1481 - val_loss: 1.2513 - val_msle: 1.2513\n",
      "Epoch 5/5\n",
      "307/307 [==============================] - 1s 2ms/step - loss: 1.1238 - msle: 1.1238 - val_loss: 1.0531 - val_msle: 1.0531\n"
     ]
    },
    {
     "name": "stderr",
     "output_type": "stream",
     "text": [
      "[I 2024-04-16 21:43:09,702] Trial 2 finished with value: 1.0530660152435303 and parameters: {'n_hidden': 8, 'n_neurons': 32, 'learning_rate': 0.0007639404646632291}. Best is trial 1 with value: 22.910757064819336.\n"
     ]
    },
    {
     "name": "stdout",
     "output_type": "stream",
     "text": [
      "Epoch 1/5\n",
      "307/307 [==============================] - 1s 2ms/step - loss: 23.1158 - msle: 23.1158 - val_loss: 22.9108 - val_msle: 22.9108\n",
      "Epoch 2/5\n",
      "307/307 [==============================] - 1s 2ms/step - loss: 23.1158 - msle: 23.1158 - val_loss: 22.9108 - val_msle: 22.9108\n",
      "Epoch 3/5\n",
      "307/307 [==============================] - 1s 2ms/step - loss: 23.1158 - msle: 23.1158 - val_loss: 22.9108 - val_msle: 22.9108\n",
      "Epoch 4/5\n",
      "307/307 [==============================] - 1s 2ms/step - loss: 23.1158 - msle: 23.1158 - val_loss: 22.9108 - val_msle: 22.9108\n",
      "Epoch 5/5\n",
      "307/307 [==============================] - 1s 2ms/step - loss: 23.1158 - msle: 23.1158 - val_loss: 22.9108 - val_msle: 22.9108\n"
     ]
    },
    {
     "name": "stderr",
     "output_type": "stream",
     "text": [
      "[I 2024-04-16 21:43:13,399] Trial 3 finished with value: 22.910757064819336 and parameters: {'n_hidden': 4, 'n_neurons': 34, 'learning_rate': 0.000507762804582372}. Best is trial 1 with value: 22.910757064819336.\n"
     ]
    },
    {
     "name": "stdout",
     "output_type": "stream",
     "text": [
      "Epoch 1/5\n",
      "307/307 [==============================] - 1s 2ms/step - loss: 1.9907 - msle: 1.9907 - val_loss: 1.8941 - val_msle: 1.8941\n",
      "Epoch 2/5\n",
      "307/307 [==============================] - 0s 2ms/step - loss: 1.7113 - msle: 1.7113 - val_loss: 1.5026 - val_msle: 1.5026\n",
      "Epoch 3/5\n",
      "307/307 [==============================] - 0s 2ms/step - loss: 1.5944 - msle: 1.5944 - val_loss: 1.6045 - val_msle: 1.6045\n",
      "Epoch 4/5\n",
      "307/307 [==============================] - 0s 2ms/step - loss: 1.4270 - msle: 1.4270 - val_loss: 1.3802 - val_msle: 1.3802\n",
      "Epoch 5/5\n",
      "307/307 [==============================] - 0s 2ms/step - loss: 1.5309 - msle: 1.5309 - val_loss: 1.3349 - val_msle: 1.3349\n"
     ]
    },
    {
     "name": "stderr",
     "output_type": "stream",
     "text": [
      "[I 2024-04-16 21:43:16,773] Trial 4 finished with value: 1.3348867893218994 and parameters: {'n_hidden': 3, 'n_neurons': 28, 'learning_rate': 0.0009038353174128409}. Best is trial 1 with value: 22.910757064819336.\n"
     ]
    },
    {
     "name": "stdout",
     "output_type": "stream",
     "text": [
      "Epoch 1/5\n",
      "307/307 [==============================] - 2s 2ms/step - loss: 23.1158 - msle: 23.1158 - val_loss: 22.9108 - val_msle: 22.9108\n",
      "Epoch 2/5\n",
      "307/307 [==============================] - 1s 2ms/step - loss: 23.1158 - msle: 23.1158 - val_loss: 22.9108 - val_msle: 22.9108\n",
      "Epoch 3/5\n",
      "307/307 [==============================] - 1s 2ms/step - loss: 23.1158 - msle: 23.1158 - val_loss: 22.9108 - val_msle: 22.9108\n",
      "Epoch 4/5\n",
      "307/307 [==============================] - 1s 2ms/step - loss: 23.1158 - msle: 23.1158 - val_loss: 22.9108 - val_msle: 22.9108\n",
      "Epoch 5/5\n",
      "307/307 [==============================] - 1s 2ms/step - loss: 23.1158 - msle: 23.1158 - val_loss: 22.9108 - val_msle: 22.9108\n"
     ]
    },
    {
     "name": "stderr",
     "output_type": "stream",
     "text": [
      "[I 2024-04-16 21:43:21,087] Trial 5 finished with value: 22.910757064819336 and parameters: {'n_hidden': 6, 'n_neurons': 26, 'learning_rate': 0.001378521466943707}. Best is trial 1 with value: 22.910757064819336.\n"
     ]
    },
    {
     "name": "stdout",
     "output_type": "stream",
     "text": [
      "Epoch 1/5\n",
      "307/307 [==============================] - 2s 2ms/step - loss: 23.1158 - msle: 23.1158 - val_loss: 22.9108 - val_msle: 22.9108\n",
      "Epoch 2/5\n",
      "307/307 [==============================] - 1s 2ms/step - loss: 23.1158 - msle: 23.1158 - val_loss: 22.9108 - val_msle: 22.9108\n",
      "Epoch 3/5\n",
      "307/307 [==============================] - 1s 2ms/step - loss: 23.1158 - msle: 23.1158 - val_loss: 22.9108 - val_msle: 22.9108\n",
      "Epoch 4/5\n",
      "307/307 [==============================] - 1s 2ms/step - loss: 23.1158 - msle: 23.1158 - val_loss: 22.9108 - val_msle: 22.9108\n",
      "Epoch 5/5\n",
      "307/307 [==============================] - 1s 2ms/step - loss: 23.1158 - msle: 23.1158 - val_loss: 22.9108 - val_msle: 22.9108\n"
     ]
    },
    {
     "name": "stderr",
     "output_type": "stream",
     "text": [
      "[I 2024-04-16 21:43:25,320] Trial 6 finished with value: 22.910757064819336 and parameters: {'n_hidden': 5, 'n_neurons': 17, 'learning_rate': 0.001315540625325388}. Best is trial 1 with value: 22.910757064819336.\n"
     ]
    },
    {
     "name": "stdout",
     "output_type": "stream",
     "text": [
      "Epoch 1/5\n",
      "307/307 [==============================] - 2s 2ms/step - loss: 1.9250 - msle: 1.9250 - val_loss: 1.8707 - val_msle: 1.8707\n",
      "Epoch 2/5\n",
      "307/307 [==============================] - 1s 2ms/step - loss: 1.6823 - msle: 1.6823 - val_loss: 1.8109 - val_msle: 1.8109\n",
      "Epoch 3/5\n",
      "307/307 [==============================] - 1s 2ms/step - loss: 1.6113 - msle: 1.6113 - val_loss: 2.7733 - val_msle: 2.7733\n",
      "Epoch 4/5\n",
      "307/307 [==============================] - 1s 2ms/step - loss: 1.6831 - msle: 1.6831 - val_loss: 1.6262 - val_msle: 1.6262\n",
      "Epoch 5/5\n",
      "307/307 [==============================] - 1s 2ms/step - loss: 1.4282 - msle: 1.4282 - val_loss: 1.3439 - val_msle: 1.3439\n"
     ]
    },
    {
     "name": "stderr",
     "output_type": "stream",
     "text": [
      "[I 2024-04-16 21:43:29,500] Trial 7 finished with value: 1.3439480066299438 and parameters: {'n_hidden': 5, 'n_neurons': 47, 'learning_rate': 0.00023435514300769824}. Best is trial 1 with value: 22.910757064819336.\n"
     ]
    },
    {
     "name": "stdout",
     "output_type": "stream",
     "text": [
      "Epoch 1/5\n",
      "307/307 [==============================] - 1s 2ms/step - loss: 2.0247 - msle: 2.0247 - val_loss: 2.0683 - val_msle: 2.0683\n",
      "Epoch 2/5\n",
      "307/307 [==============================] - 0s 2ms/step - loss: 1.9339 - msle: 1.9339 - val_loss: 1.9856 - val_msle: 1.9856\n",
      "Epoch 3/5\n",
      "307/307 [==============================] - 0s 2ms/step - loss: 1.8575 - msle: 1.8575 - val_loss: 1.9081 - val_msle: 1.9081\n",
      "Epoch 4/5\n",
      "307/307 [==============================] - 1s 2ms/step - loss: 1.7811 - msle: 1.7811 - val_loss: 1.8225 - val_msle: 1.8225\n",
      "Epoch 5/5\n",
      "307/307 [==============================] - 0s 1ms/step - loss: 1.6972 - msle: 1.6972 - val_loss: 1.7231 - val_msle: 1.7231\n"
     ]
    },
    {
     "name": "stderr",
     "output_type": "stream",
     "text": [
      "[I 2024-04-16 21:43:32,796] Trial 8 finished with value: 1.7231402397155762 and parameters: {'n_hidden': 1, 'n_neurons': 30, 'learning_rate': 0.0003447465168920103}. Best is trial 1 with value: 22.910757064819336.\n"
     ]
    },
    {
     "name": "stdout",
     "output_type": "stream",
     "text": [
      "Epoch 1/5\n",
      "307/307 [==============================] - 2s 2ms/step - loss: 2.0031 - msle: 2.0031 - val_loss: 2.0866 - val_msle: 2.0866\n",
      "Epoch 2/5\n",
      "307/307 [==============================] - 1s 2ms/step - loss: 1.9802 - msle: 1.9802 - val_loss: 2.0548 - val_msle: 2.0548\n",
      "Epoch 3/5\n",
      "307/307 [==============================] - 1s 2ms/step - loss: 1.9125 - msle: 1.9125 - val_loss: 1.9239 - val_msle: 1.9239\n",
      "Epoch 4/5\n",
      "307/307 [==============================] - 1s 2ms/step - loss: 1.6893 - msle: 1.6893 - val_loss: 1.6507 - val_msle: 1.6507\n",
      "Epoch 5/5\n",
      "307/307 [==============================] - 1s 2ms/step - loss: 1.3973 - msle: 1.3973 - val_loss: 1.3203 - val_msle: 1.3203\n"
     ]
    },
    {
     "name": "stderr",
     "output_type": "stream",
     "text": [
      "[I 2024-04-16 21:43:37,033] Trial 9 finished with value: 1.3203469514846802 and parameters: {'n_hidden': 6, 'n_neurons': 40, 'learning_rate': 0.000110234988781387}. Best is trial 1 with value: 22.910757064819336.\n"
     ]
    },
    {
     "name": "stdout",
     "output_type": "stream",
     "text": [
      "Epoch 1/5\n",
      "307/307 [==============================] - 1s 2ms/step - loss: 2.4323 - msle: 2.4323 - val_loss: 1.8808 - val_msle: 1.8808\n",
      "Epoch 2/5\n",
      "307/307 [==============================] - 0s 1ms/step - loss: 1.6347 - msle: 1.6347 - val_loss: 1.5656 - val_msle: 1.5656\n",
      "Epoch 3/5\n",
      "307/307 [==============================] - 0s 1ms/step - loss: 1.4546 - msle: 1.4546 - val_loss: 1.4803 - val_msle: 1.4803\n",
      "Epoch 4/5\n",
      "307/307 [==============================] - 0s 1ms/step - loss: 1.4753 - msle: 1.4753 - val_loss: 1.3488 - val_msle: 1.3488\n",
      "Epoch 5/5\n",
      "307/307 [==============================] - 0s 1ms/step - loss: 1.3922 - msle: 1.3922 - val_loss: 1.2995 - val_msle: 1.2995\n"
     ]
    },
    {
     "name": "stderr",
     "output_type": "stream",
     "text": [
      "[I 2024-04-16 21:43:39,713] Trial 10 finished with value: 1.2995033264160156 and parameters: {'n_hidden': 0, 'n_neurons': 40, 'learning_rate': 0.004907932945108603}. Best is trial 1 with value: 22.910757064819336.\n"
     ]
    },
    {
     "name": "stdout",
     "output_type": "stream",
     "text": [
      "Epoch 1/5\n",
      "307/307 [==============================] - 1s 2ms/step - loss: 2.0334 - msle: 2.0334 - val_loss: 2.0937 - val_msle: 2.0937\n",
      "Epoch 2/5\n",
      "307/307 [==============================] - 0s 2ms/step - loss: 1.9563 - msle: 1.9563 - val_loss: 1.9942 - val_msle: 1.9942\n",
      "Epoch 3/5\n",
      "307/307 [==============================] - 0s 2ms/step - loss: 1.8346 - msle: 1.8346 - val_loss: 1.8458 - val_msle: 1.8458\n",
      "Epoch 4/5\n",
      "307/307 [==============================] - 0s 2ms/step - loss: 1.6352 - msle: 1.6352 - val_loss: 1.6806 - val_msle: 1.6806\n",
      "Epoch 5/5\n",
      "307/307 [==============================] - 0s 2ms/step - loss: 1.5207 - msle: 1.5207 - val_loss: 1.8316 - val_msle: 1.8316\n"
     ]
    },
    {
     "name": "stderr",
     "output_type": "stream",
     "text": [
      "[I 2024-04-16 21:43:42,943] Trial 11 finished with value: 1.8315919637680054 and parameters: {'n_hidden': 2, 'n_neurons': 38, 'learning_rate': 0.0003179158590973918}. Best is trial 1 with value: 22.910757064819336.\n"
     ]
    },
    {
     "name": "stdout",
     "output_type": "stream",
     "text": [
      "Epoch 1/5\n",
      "307/307 [==============================] - 1s 2ms/step - loss: 1.9045 - msle: 1.9045 - val_loss: 1.4800 - val_msle: 1.4800\n",
      "Epoch 2/5\n",
      "307/307 [==============================] - 0s 2ms/step - loss: 1.4731 - msle: 1.4731 - val_loss: 1.3043 - val_msle: 1.3043\n",
      "Epoch 3/5\n",
      "307/307 [==============================] - 0s 2ms/step - loss: 1.0978 - msle: 1.0978 - val_loss: 1.0089 - val_msle: 1.0089\n",
      "Epoch 4/5\n",
      "307/307 [==============================] - 0s 2ms/step - loss: 1.0678 - msle: 1.0678 - val_loss: 0.9966 - val_msle: 0.9966\n",
      "Epoch 5/5\n",
      "307/307 [==============================] - 0s 2ms/step - loss: 1.0366 - msle: 1.0366 - val_loss: 0.9699 - val_msle: 0.9699\n"
     ]
    },
    {
     "name": "stderr",
     "output_type": "stream",
     "text": [
      "[I 2024-04-16 21:43:46,345] Trial 12 finished with value: 0.9698513150215149 and parameters: {'n_hidden': 3, 'n_neurons': 23, 'learning_rate': 0.003430943706140232}. Best is trial 1 with value: 22.910757064819336.\n"
     ]
    },
    {
     "name": "stdout",
     "output_type": "stream",
     "text": [
      "Epoch 1/5\n",
      "307/307 [==============================] - 1s 2ms/step - loss: 23.1158 - msle: 23.1158 - val_loss: 22.9108 - val_msle: 22.9108\n",
      "Epoch 2/5\n",
      "307/307 [==============================] - 0s 1ms/step - loss: 23.1158 - msle: 23.1158 - val_loss: 22.9108 - val_msle: 22.9108\n",
      "Epoch 3/5\n",
      "307/307 [==============================] - 0s 1ms/step - loss: 23.1158 - msle: 23.1158 - val_loss: 22.9108 - val_msle: 22.9108\n",
      "Epoch 4/5\n",
      "307/307 [==============================] - 0s 1ms/step - loss: 23.1158 - msle: 23.1158 - val_loss: 22.9108 - val_msle: 22.9108\n",
      "Epoch 5/5\n",
      "307/307 [==============================] - 0s 1ms/step - loss: 23.1158 - msle: 23.1158 - val_loss: 22.9108 - val_msle: 22.9108\n"
     ]
    },
    {
     "name": "stderr",
     "output_type": "stream",
     "text": [
      "[I 2024-04-16 21:43:49,025] Trial 13 finished with value: 22.910757064819336 and parameters: {'n_hidden': 0, 'n_neurons': 35, 'learning_rate': 0.00016581284198110798}. Best is trial 1 with value: 22.910757064819336.\n"
     ]
    },
    {
     "name": "stdout",
     "output_type": "stream",
     "text": [
      "Epoch 1/5\n",
      "307/307 [==============================] - 1s 2ms/step - loss: 2.0115 - msle: 2.0115 - val_loss: 2.0775 - val_msle: 2.0775\n",
      "Epoch 2/5\n",
      "307/307 [==============================] - 1s 2ms/step - loss: 1.9319 - msle: 1.9319 - val_loss: 1.8959 - val_msle: 1.8959\n",
      "Epoch 3/5\n",
      "307/307 [==============================] - 1s 2ms/step - loss: 1.6108 - msle: 1.6108 - val_loss: 1.6783 - val_msle: 1.6783\n",
      "Epoch 4/5\n",
      "307/307 [==============================] - 0s 2ms/step - loss: 1.7445 - msle: 1.7445 - val_loss: 1.4734 - val_msle: 1.4734\n",
      "Epoch 5/5\n",
      "307/307 [==============================] - 0s 2ms/step - loss: 1.4986 - msle: 1.4986 - val_loss: 1.7207 - val_msle: 1.7207\n"
     ]
    },
    {
     "name": "stderr",
     "output_type": "stream",
     "text": [
      "[I 2024-04-16 21:43:52,506] Trial 14 finished with value: 1.7206721305847168 and parameters: {'n_hidden': 3, 'n_neurons': 45, 'learning_rate': 0.0004348758388613467}. Best is trial 1 with value: 22.910757064819336.\n"
     ]
    },
    {
     "name": "stdout",
     "output_type": "stream",
     "text": [
      "Epoch 1/5\n",
      "307/307 [==============================] - 1s 2ms/step - loss: 15.9471 - msle: 15.9471 - val_loss: 2.0419 - val_msle: 2.0419\n",
      "Epoch 2/5\n",
      "307/307 [==============================] - 0s 2ms/step - loss: 1.8285 - msle: 1.8285 - val_loss: 1.7047 - val_msle: 1.7047\n",
      "Epoch 3/5\n",
      "307/307 [==============================] - 0s 2ms/step - loss: 1.6940 - msle: 1.6940 - val_loss: 1.8208 - val_msle: 1.8208\n",
      "Epoch 4/5\n",
      "307/307 [==============================] - 0s 1ms/step - loss: 1.6365 - msle: 1.6365 - val_loss: 1.3416 - val_msle: 1.3416\n",
      "Epoch 5/5\n",
      "307/307 [==============================] - 0s 2ms/step - loss: 1.4613 - msle: 1.4613 - val_loss: 1.3779 - val_msle: 1.3779\n"
     ]
    },
    {
     "name": "stderr",
     "output_type": "stream",
     "text": [
      "[I 2024-04-16 21:43:55,655] Trial 15 finished with value: 1.3779429197311401 and parameters: {'n_hidden': 2, 'n_neurons': 24, 'learning_rate': 0.0020936243852327416}. Best is trial 1 with value: 22.910757064819336.\n"
     ]
    },
    {
     "name": "stdout",
     "output_type": "stream",
     "text": [
      "Epoch 1/5\n",
      "307/307 [==============================] - 1s 2ms/step - loss: 1.9373 - msle: 1.9373 - val_loss: 1.9023 - val_msle: 1.9023\n",
      "Epoch 2/5\n",
      "307/307 [==============================] - 1s 2ms/step - loss: 1.7365 - msle: 1.7365 - val_loss: 1.5132 - val_msle: 1.5132\n",
      "Epoch 3/5\n",
      "307/307 [==============================] - 1s 2ms/step - loss: 1.5044 - msle: 1.5044 - val_loss: 1.3430 - val_msle: 1.3430\n",
      "Epoch 4/5\n",
      "307/307 [==============================] - 1s 2ms/step - loss: 1.5356 - msle: 1.5356 - val_loss: 1.3643 - val_msle: 1.3643\n",
      "Epoch 5/5\n",
      "307/307 [==============================] - 1s 2ms/step - loss: 1.3372 - msle: 1.3372 - val_loss: 1.4307 - val_msle: 1.4307\n"
     ]
    },
    {
     "name": "stderr",
     "output_type": "stream",
     "text": [
      "[I 2024-04-16 21:43:59,352] Trial 16 finished with value: 1.430695652961731 and parameters: {'n_hidden': 4, 'n_neurons': 35, 'learning_rate': 0.0005374429667573976}. Best is trial 1 with value: 22.910757064819336.\n"
     ]
    },
    {
     "name": "stdout",
     "output_type": "stream",
     "text": [
      "Epoch 1/5\n",
      "307/307 [==============================] - 1s 2ms/step - loss: 23.1158 - msle: 23.1158 - val_loss: 22.9108 - val_msle: 22.9108\n",
      "Epoch 2/5\n",
      "307/307 [==============================] - 0s 1ms/step - loss: 23.1158 - msle: 23.1158 - val_loss: 22.9108 - val_msle: 22.9108\n",
      "Epoch 3/5\n",
      "307/307 [==============================] - 1s 2ms/step - loss: 23.1158 - msle: 23.1158 - val_loss: 22.9108 - val_msle: 22.9108\n",
      "Epoch 4/5\n",
      "307/307 [==============================] - 0s 2ms/step - loss: 23.1158 - msle: 23.1158 - val_loss: 22.9108 - val_msle: 22.9108\n",
      "Epoch 5/5\n",
      "307/307 [==============================] - 0s 1ms/step - loss: 23.1158 - msle: 23.1158 - val_loss: 22.9108 - val_msle: 22.9108\n"
     ]
    },
    {
     "name": "stderr",
     "output_type": "stream",
     "text": [
      "[I 2024-04-16 21:44:02,469] Trial 17 finished with value: 22.910757064819336 and parameters: {'n_hidden': 1, 'n_neurons': 21, 'learning_rate': 0.000185212998854863}. Best is trial 1 with value: 22.910757064819336.\n"
     ]
    },
    {
     "name": "stdout",
     "output_type": "stream",
     "text": [
      "Epoch 1/5\n",
      "307/307 [==============================] - 1s 2ms/step - loss: 22.7632 - msle: 22.7632 - val_loss: 22.9108 - val_msle: 22.9108\n",
      "Epoch 2/5\n",
      "307/307 [==============================] - 1s 2ms/step - loss: 23.1158 - msle: 23.1158 - val_loss: 22.9108 - val_msle: 22.9108\n",
      "Epoch 3/5\n",
      "307/307 [==============================] - 1s 2ms/step - loss: 23.1158 - msle: 23.1158 - val_loss: 22.9108 - val_msle: 22.9108\n",
      "Epoch 4/5\n",
      "307/307 [==============================] - 1s 2ms/step - loss: 23.1158 - msle: 23.1158 - val_loss: 22.9108 - val_msle: 22.9108\n",
      "Epoch 5/5\n",
      "307/307 [==============================] - 1s 2ms/step - loss: 23.1158 - msle: 23.1158 - val_loss: 22.9108 - val_msle: 22.9108\n"
     ]
    },
    {
     "name": "stderr",
     "output_type": "stream",
     "text": [
      "[I 2024-04-16 21:44:06,342] Trial 18 finished with value: 22.910757064819336 and parameters: {'n_hidden': 4, 'n_neurons': 44, 'learning_rate': 0.009471625763057557}. Best is trial 1 with value: 22.910757064819336.\n"
     ]
    },
    {
     "name": "stdout",
     "output_type": "stream",
     "text": [
      "Epoch 1/5\n",
      "307/307 [==============================] - 1s 2ms/step - loss: 23.1158 - msle: 23.1158 - val_loss: 22.9108 - val_msle: 22.9108\n",
      "Epoch 2/5\n",
      "307/307 [==============================] - 0s 1ms/step - loss: 23.1158 - msle: 23.1158 - val_loss: 22.9108 - val_msle: 22.9108\n",
      "Epoch 3/5\n",
      "307/307 [==============================] - 0s 1ms/step - loss: 23.1158 - msle: 23.1158 - val_loss: 22.9108 - val_msle: 22.9108\n",
      "Epoch 4/5\n",
      "307/307 [==============================] - 0s 1ms/step - loss: 23.1158 - msle: 23.1158 - val_loss: 22.9108 - val_msle: 22.9108\n",
      "Epoch 5/5\n",
      "307/307 [==============================] - 0s 1ms/step - loss: 23.1158 - msle: 23.1158 - val_loss: 22.9108 - val_msle: 22.9108\n"
     ]
    },
    {
     "name": "stderr",
     "output_type": "stream",
     "text": [
      "[I 2024-04-16 21:44:09,259] Trial 19 finished with value: 22.910757064819336 and parameters: {'n_hidden': 1, 'n_neurons': 31, 'learning_rate': 0.0005615217192534236}. Best is trial 1 with value: 22.910757064819336.\n"
     ]
    },
    {
     "name": "stdout",
     "output_type": "stream",
     "text": [
      "Epoch 1/5\n",
      "307/307 [==============================] - 1s 2ms/step - loss: 1.9773 - msle: 1.9773 - val_loss: 2.0312 - val_msle: 2.0312\n",
      "Epoch 2/5\n",
      "307/307 [==============================] - 0s 2ms/step - loss: 1.9028 - msle: 1.9028 - val_loss: 1.9427 - val_msle: 1.9427\n",
      "Epoch 3/5\n",
      "307/307 [==============================] - 0s 2ms/step - loss: 1.7989 - msle: 1.7989 - val_loss: 1.8139 - val_msle: 1.8139\n",
      "Epoch 4/5\n",
      "307/307 [==============================] - 0s 2ms/step - loss: 1.6544 - msle: 1.6544 - val_loss: 1.7029 - val_msle: 1.7029\n",
      "Epoch 5/5\n",
      "307/307 [==============================] - 0s 1ms/step - loss: 1.5451 - msle: 1.5451 - val_loss: 1.4812 - val_msle: 1.4812\n"
     ]
    },
    {
     "name": "stderr",
     "output_type": "stream",
     "text": [
      "[I 2024-04-16 21:44:12,473] Trial 20 finished with value: 1.4812266826629639 and parameters: {'n_hidden': 2, 'n_neurons': 36, 'learning_rate': 0.00027377816972309877}. Best is trial 1 with value: 22.910757064819336.\n"
     ]
    },
    {
     "name": "stdout",
     "output_type": "stream",
     "text": [
      "Epoch 1/5\n",
      "307/307 [==============================] - 2s 2ms/step - loss: 23.1158 - msle: 23.1158 - val_loss: 22.9108 - val_msle: 22.9108\n",
      "Epoch 2/5\n",
      "307/307 [==============================] - 1s 2ms/step - loss: 23.1158 - msle: 23.1158 - val_loss: 22.9108 - val_msle: 22.9108\n",
      "Epoch 3/5\n",
      "307/307 [==============================] - 1s 2ms/step - loss: 23.1158 - msle: 23.1158 - val_loss: 22.9108 - val_msle: 22.9108\n",
      "Epoch 4/5\n",
      "307/307 [==============================] - 1s 2ms/step - loss: 23.1158 - msle: 23.1158 - val_loss: 22.9108 - val_msle: 22.9108\n",
      "Epoch 5/5\n",
      "307/307 [==============================] - 1s 2ms/step - loss: 23.1158 - msle: 23.1158 - val_loss: 22.9108 - val_msle: 22.9108\n"
     ]
    },
    {
     "name": "stderr",
     "output_type": "stream",
     "text": [
      "[I 2024-04-16 21:44:16,671] Trial 21 finished with value: 22.910757064819336 and parameters: {'n_hidden': 6, 'n_neurons': 27, 'learning_rate': 0.0014234926364453508}. Best is trial 1 with value: 22.910757064819336.\n"
     ]
    },
    {
     "name": "stdout",
     "output_type": "stream",
     "text": [
      "Epoch 1/5\n",
      "307/307 [==============================] - 2s 3ms/step - loss: 2.0443 - msle: 2.0443 - val_loss: 2.0170 - val_msle: 2.0170\n",
      "Epoch 2/5\n",
      "307/307 [==============================] - 1s 2ms/step - loss: 1.4865 - msle: 1.4865 - val_loss: 1.1294 - val_msle: 1.1294\n",
      "Epoch 3/5\n",
      "307/307 [==============================] - 1s 2ms/step - loss: 1.1551 - msle: 1.1551 - val_loss: 1.0321 - val_msle: 1.0321\n",
      "Epoch 4/5\n",
      "307/307 [==============================] - 1s 2ms/step - loss: 1.0721 - msle: 1.0721 - val_loss: 1.0621 - val_msle: 1.0621\n",
      "Epoch 5/5\n",
      "307/307 [==============================] - 1s 2ms/step - loss: 1.0292 - msle: 1.0292 - val_loss: 0.9398 - val_msle: 0.9398\n"
     ]
    },
    {
     "name": "stderr",
     "output_type": "stream",
     "text": [
      "[I 2024-04-16 21:44:21,453] Trial 22 finished with value: 0.9397886395454407 and parameters: {'n_hidden': 8, 'n_neurons': 27, 'learning_rate': 0.0023108213871218873}. Best is trial 1 with value: 22.910757064819336.\n"
     ]
    },
    {
     "name": "stdout",
     "output_type": "stream",
     "text": [
      "Epoch 1/5\n",
      "307/307 [==============================] - 2s 2ms/step - loss: 23.1158 - msle: 23.1158 - val_loss: 22.9108 - val_msle: 22.9108\n",
      "Epoch 2/5\n",
      "307/307 [==============================] - 1s 2ms/step - loss: 23.1158 - msle: 23.1158 - val_loss: 22.9108 - val_msle: 22.9108\n",
      "Epoch 3/5\n",
      "307/307 [==============================] - 1s 2ms/step - loss: 23.1158 - msle: 23.1158 - val_loss: 22.9108 - val_msle: 22.9108\n",
      "Epoch 4/5\n",
      "307/307 [==============================] - 1s 2ms/step - loss: 23.1158 - msle: 23.1158 - val_loss: 22.9108 - val_msle: 22.9108\n",
      "Epoch 5/5\n",
      "307/307 [==============================] - 1s 2ms/step - loss: 23.1158 - msle: 23.1158 - val_loss: 22.9108 - val_msle: 22.9108\n"
     ]
    },
    {
     "name": "stderr",
     "output_type": "stream",
     "text": [
      "[I 2024-04-16 21:44:25,558] Trial 23 finished with value: 22.910757064819336 and parameters: {'n_hidden': 6, 'n_neurons': 25, 'learning_rate': 0.0012986887126528346}. Best is trial 1 with value: 22.910757064819336.\n"
     ]
    },
    {
     "name": "stdout",
     "output_type": "stream",
     "text": [
      "Epoch 1/5\n",
      "307/307 [==============================] - 1s 2ms/step - loss: 1.9673 - msle: 1.9673 - val_loss: 1.9213 - val_msle: 1.9213\n",
      "Epoch 2/5\n",
      "307/307 [==============================] - 1s 2ms/step - loss: 1.6767 - msle: 1.6767 - val_loss: 1.5020 - val_msle: 1.5020\n",
      "Epoch 3/5\n",
      "307/307 [==============================] - 1s 2ms/step - loss: 1.3353 - msle: 1.3353 - val_loss: 1.3019 - val_msle: 1.3019\n",
      "Epoch 4/5\n",
      "307/307 [==============================] - 1s 2ms/step - loss: 1.1879 - msle: 1.1879 - val_loss: 1.0907 - val_msle: 1.0907\n",
      "Epoch 5/5\n",
      "307/307 [==============================] - 1s 2ms/step - loss: 1.1312 - msle: 1.1312 - val_loss: 1.0673 - val_msle: 1.0673\n"
     ]
    },
    {
     "name": "stderr",
     "output_type": "stream",
     "text": [
      "[I 2024-04-16 21:44:29,390] Trial 24 finished with value: 1.0673011541366577 and parameters: {'n_hidden': 5, 'n_neurons': 30, 'learning_rate': 0.0005715586613076409}. Best is trial 1 with value: 22.910757064819336.\n"
     ]
    },
    {
     "name": "stdout",
     "output_type": "stream",
     "text": [
      "Epoch 1/5\n",
      "307/307 [==============================] - 3s 2ms/step - loss: 1.9353 - msle: 1.9353 - val_loss: 1.7026 - val_msle: 1.7026\n",
      "Epoch 2/5\n",
      "307/307 [==============================] - 1s 2ms/step - loss: 1.5127 - msle: 1.5127 - val_loss: 1.4627 - val_msle: 1.4627\n",
      "Epoch 3/5\n",
      "307/307 [==============================] - 1s 2ms/step - loss: 1.2602 - msle: 1.2602 - val_loss: 1.1611 - val_msle: 1.1611\n",
      "Epoch 4/5\n",
      "307/307 [==============================] - 1s 2ms/step - loss: 1.1634 - msle: 1.1634 - val_loss: 1.2769 - val_msle: 1.2769\n",
      "Epoch 5/5\n",
      "307/307 [==============================] - 1s 2ms/step - loss: 1.1552 - msle: 1.1552 - val_loss: 1.0999 - val_msle: 1.0999\n"
     ]
    },
    {
     "name": "stderr",
     "output_type": "stream",
     "text": [
      "[I 2024-04-16 21:44:34,664] Trial 25 finished with value: 1.0999464988708496 and parameters: {'n_hidden': 7, 'n_neurons': 50, 'learning_rate': 0.0004114551002519867}. Best is trial 1 with value: 22.910757064819336.\n"
     ]
    },
    {
     "name": "stdout",
     "output_type": "stream",
     "text": [
      "Epoch 1/5\n",
      "307/307 [==============================] - 2s 2ms/step - loss: 1.8484 - msle: 1.8484 - val_loss: 1.2718 - val_msle: 1.2718\n",
      "Epoch 2/5\n",
      "307/307 [==============================] - 1s 2ms/step - loss: 1.2016 - msle: 1.2016 - val_loss: 1.2729 - val_msle: 1.2729\n",
      "Epoch 3/5\n",
      "307/307 [==============================] - 1s 2ms/step - loss: 1.1244 - msle: 1.1244 - val_loss: 0.9955 - val_msle: 0.9955\n",
      "Epoch 4/5\n",
      "307/307 [==============================] - 1s 2ms/step - loss: 1.0698 - msle: 1.0698 - val_loss: 1.1452 - val_msle: 1.1452\n",
      "Epoch 5/5\n",
      "307/307 [==============================] - 1s 2ms/step - loss: 1.0335 - msle: 1.0335 - val_loss: 0.9377 - val_msle: 0.9377\n"
     ]
    },
    {
     "name": "stderr",
     "output_type": "stream",
     "text": [
      "[I 2024-04-16 21:44:38,816] Trial 26 finished with value: 0.9377351999282837 and parameters: {'n_hidden': 7, 'n_neurons': 34, 'learning_rate': 0.0023302688852965465}. Best is trial 1 with value: 22.910757064819336.\n"
     ]
    },
    {
     "name": "stdout",
     "output_type": "stream",
     "text": [
      "Epoch 1/5\n",
      "307/307 [==============================] - 1s 2ms/step - loss: 23.1158 - msle: 23.1158 - val_loss: 22.9108 - val_msle: 22.9108\n",
      "Epoch 2/5\n",
      "307/307 [==============================] - 0s 1ms/step - loss: 23.1158 - msle: 23.1158 - val_loss: 22.9108 - val_msle: 22.9108\n",
      "Epoch 3/5\n",
      "307/307 [==============================] - 0s 1ms/step - loss: 23.1158 - msle: 23.1158 - val_loss: 22.9108 - val_msle: 22.9108\n",
      "Epoch 4/5\n",
      "307/307 [==============================] - 0s 1ms/step - loss: 23.1158 - msle: 23.1158 - val_loss: 22.9108 - val_msle: 22.9108\n",
      "Epoch 5/5\n",
      "307/307 [==============================] - 0s 1ms/step - loss: 23.1158 - msle: 23.1158 - val_loss: 22.9108 - val_msle: 22.9108\n"
     ]
    },
    {
     "name": "stderr",
     "output_type": "stream",
     "text": [
      "[I 2024-04-16 21:44:42,065] Trial 27 finished with value: 22.910757064819336 and parameters: {'n_hidden': 4, 'n_neurons': 21, 'learning_rate': 0.00011426080878701962}. Best is trial 1 with value: 22.910757064819336.\n"
     ]
    },
    {
     "name": "stdout",
     "output_type": "stream",
     "text": [
      "Epoch 1/5\n",
      "307/307 [==============================] - 1s 2ms/step - loss: 2.0129 - msle: 2.0129 - val_loss: 2.0857 - val_msle: 2.0857\n",
      "Epoch 2/5\n",
      "307/307 [==============================] - 0s 1ms/step - loss: 1.9350 - msle: 1.9350 - val_loss: 1.8292 - val_msle: 1.8292\n",
      "Epoch 3/5\n",
      "307/307 [==============================] - 0s 1ms/step - loss: 1.7943 - msle: 1.7943 - val_loss: 1.5108 - val_msle: 1.5108\n",
      "Epoch 4/5\n",
      "307/307 [==============================] - 0s 2ms/step - loss: 1.9226 - msle: 1.9226 - val_loss: 1.9958 - val_msle: 1.9958\n",
      "Epoch 5/5\n",
      "307/307 [==============================] - 0s 2ms/step - loss: 1.8804 - msle: 1.8804 - val_loss: 1.9124 - val_msle: 1.9124\n"
     ]
    },
    {
     "name": "stderr",
     "output_type": "stream",
     "text": [
      "[I 2024-04-16 21:44:45,594] Trial 28 finished with value: 1.9123667478561401 and parameters: {'n_hidden': 5, 'n_neurons': 28, 'learning_rate': 0.0007312531813922919}. Best is trial 1 with value: 22.910757064819336.\n"
     ]
    },
    {
     "name": "stdout",
     "output_type": "stream",
     "text": [
      "Epoch 1/5\n",
      "307/307 [==============================] - 2s 2ms/step - loss: 1.9867 - msle: 1.9867 - val_loss: 1.9836 - val_msle: 1.9836\n",
      "Epoch 2/5\n",
      "307/307 [==============================] - 0s 2ms/step - loss: 1.7075 - msle: 1.7075 - val_loss: 1.7008 - val_msle: 1.7008\n",
      "Epoch 3/5\n",
      "307/307 [==============================] - 0s 2ms/step - loss: 1.2425 - msle: 1.2425 - val_loss: 1.1533 - val_msle: 1.1533\n",
      "Epoch 4/5\n",
      "307/307 [==============================] - 0s 2ms/step - loss: 1.1379 - msle: 1.1379 - val_loss: 1.0770 - val_msle: 1.0770\n",
      "Epoch 5/5\n",
      "307/307 [==============================] - 0s 2ms/step - loss: 1.1129 - msle: 1.1129 - val_loss: 1.0410 - val_msle: 1.0410\n"
     ]
    },
    {
     "name": "stderr",
     "output_type": "stream",
     "text": [
      "[I 2024-04-16 21:44:49,311] Trial 29 finished with value: 1.0409879684448242 and parameters: {'n_hidden': 6, 'n_neurons': 19, 'learning_rate': 0.0009388096657265368}. Best is trial 1 with value: 22.910757064819336.\n"
     ]
    },
    {
     "name": "stdout",
     "output_type": "stream",
     "text": [
      "Epoch 1/5\n",
      "307/307 [==============================] - 1s 2ms/step - loss: 1.9827 - msle: 1.9827 - val_loss: 2.0505 - val_msle: 2.0505\n",
      "Epoch 2/5\n",
      "307/307 [==============================] - 0s 1ms/step - loss: 1.9403 - msle: 1.9403 - val_loss: 2.0019 - val_msle: 2.0019\n",
      "Epoch 3/5\n",
      "307/307 [==============================] - 0s 1ms/step - loss: 1.8830 - msle: 1.8830 - val_loss: 1.9330 - val_msle: 1.9330\n",
      "Epoch 4/5\n",
      "307/307 [==============================] - 0s 1ms/step - loss: 1.8034 - msle: 1.8034 - val_loss: 1.8811 - val_msle: 1.8811\n",
      "Epoch 5/5\n",
      "307/307 [==============================] - 0s 1ms/step - loss: 1.6770 - msle: 1.6770 - val_loss: 1.6636 - val_msle: 1.6636\n"
     ]
    },
    {
     "name": "stderr",
     "output_type": "stream",
     "text": [
      "[I 2024-04-16 21:44:52,346] Trial 30 finished with value: 1.6636109352111816 and parameters: {'n_hidden': 3, 'n_neurons': 38, 'learning_rate': 0.00018966149862947038}. Best is trial 1 with value: 22.910757064819336.\n"
     ]
    },
    {
     "name": "stdout",
     "output_type": "stream",
     "text": [
      "Epoch 1/5\n",
      "307/307 [==============================] - 1s 2ms/step - loss: 2.0022 - msle: 2.0022 - val_loss: 1.9629 - val_msle: 1.9629\n",
      "Epoch 2/5\n",
      "307/307 [==============================] - 0s 1ms/step - loss: 1.7669 - msle: 1.7669 - val_loss: 1.4394 - val_msle: 1.4394\n",
      "Epoch 3/5\n",
      "307/307 [==============================] - 0s 1ms/step - loss: 1.4284 - msle: 1.4284 - val_loss: 1.5097 - val_msle: 1.5097\n",
      "Epoch 4/5\n",
      "307/307 [==============================] - 0s 1ms/step - loss: 1.2808 - msle: 1.2808 - val_loss: 1.2592 - val_msle: 1.2592\n",
      "Epoch 5/5\n",
      "307/307 [==============================] - 0s 1ms/step - loss: 1.1456 - msle: 1.1456 - val_loss: 1.1516 - val_msle: 1.1516\n"
     ]
    },
    {
     "name": "stderr",
     "output_type": "stream",
     "text": [
      "[I 2024-04-16 21:44:55,757] Trial 31 finished with value: 1.1515573263168335 and parameters: {'n_hidden': 5, 'n_neurons': 17, 'learning_rate': 0.0012907356959631102}. Best is trial 1 with value: 22.910757064819336.\n"
     ]
    },
    {
     "name": "stdout",
     "output_type": "stream",
     "text": [
      "Epoch 1/5\n",
      "307/307 [==============================] - 1s 2ms/step - loss: 1.8795 - msle: 1.8795 - val_loss: 2.1154 - val_msle: 2.1154\n",
      "Epoch 2/5\n",
      "307/307 [==============================] - 0s 1ms/step - loss: 1.6539 - msle: 1.6539 - val_loss: 3.0689 - val_msle: 3.0689\n",
      "Epoch 3/5\n",
      "307/307 [==============================] - 0s 1ms/step - loss: 1.5719 - msle: 1.5719 - val_loss: 1.3355 - val_msle: 1.3355\n",
      "Epoch 4/5\n",
      "307/307 [==============================] - 0s 1ms/step - loss: 1.4348 - msle: 1.4348 - val_loss: 1.2512 - val_msle: 1.2512\n",
      "Epoch 5/5\n",
      "307/307 [==============================] - 0s 1ms/step - loss: 1.1743 - msle: 1.1743 - val_loss: 1.1160 - val_msle: 1.1160\n"
     ]
    },
    {
     "name": "stderr",
     "output_type": "stream",
     "text": [
      "[I 2024-04-16 21:44:58,949] Trial 32 finished with value: 1.115987777709961 and parameters: {'n_hidden': 4, 'n_neurons': 16, 'learning_rate': 0.0015251623530410051}. Best is trial 1 with value: 22.910757064819336.\n"
     ]
    },
    {
     "name": "stdout",
     "output_type": "stream",
     "text": [
      "Epoch 1/5\n",
      "307/307 [==============================] - 2s 2ms/step - loss: 2.1708 - msle: 2.1708 - val_loss: 2.0754 - val_msle: 2.0754\n",
      "Epoch 2/5\n",
      "307/307 [==============================] - 1s 2ms/step - loss: 1.9472 - msle: 1.9472 - val_loss: 1.9663 - val_msle: 1.9663\n",
      "Epoch 3/5\n",
      "307/307 [==============================] - 1s 2ms/step - loss: 1.5466 - msle: 1.5466 - val_loss: 1.3226 - val_msle: 1.3226\n",
      "Epoch 4/5\n",
      "307/307 [==============================] - 1s 2ms/step - loss: 1.2374 - msle: 1.2374 - val_loss: 1.1840 - val_msle: 1.1840\n",
      "Epoch 5/5\n",
      "307/307 [==============================] - 1s 2ms/step - loss: 1.1767 - msle: 1.1767 - val_loss: 1.1402 - val_msle: 1.1402\n"
     ]
    },
    {
     "name": "stderr",
     "output_type": "stream",
     "text": [
      "[I 2024-04-16 21:45:03,074] Trial 33 finished with value: 1.1401500701904297 and parameters: {'n_hidden': 8, 'n_neurons': 32, 'learning_rate': 0.0007212164160420029}. Best is trial 1 with value: 22.910757064819336.\n"
     ]
    },
    {
     "name": "stdout",
     "output_type": "stream",
     "text": [
      "Epoch 1/5\n",
      "307/307 [==============================] - 2s 2ms/step - loss: 2.0278 - msle: 2.0278 - val_loss: 2.0696 - val_msle: 2.0696\n",
      "Epoch 2/5\n",
      "307/307 [==============================] - 1s 2ms/step - loss: 1.8217 - msle: 1.8217 - val_loss: 2.0385 - val_msle: 2.0385\n",
      "Epoch 3/5\n",
      "307/307 [==============================] - 1s 2ms/step - loss: 1.3069 - msle: 1.3069 - val_loss: 1.2657 - val_msle: 1.2657\n",
      "Epoch 4/5\n",
      "307/307 [==============================] - 1s 2ms/step - loss: 1.1752 - msle: 1.1752 - val_loss: 1.1262 - val_msle: 1.1262\n",
      "Epoch 5/5\n",
      "307/307 [==============================] - 0s 2ms/step - loss: 1.1385 - msle: 1.1385 - val_loss: 1.0846 - val_msle: 1.0846\n"
     ]
    },
    {
     "name": "stderr",
     "output_type": "stream",
     "text": [
      "[I 2024-04-16 21:45:07,066] Trial 34 finished with value: 1.0845946073532104 and parameters: {'n_hidden': 7, 'n_neurons': 22, 'learning_rate': 0.0010984314860440342}. Best is trial 1 with value: 22.910757064819336.\n"
     ]
    },
    {
     "name": "stdout",
     "output_type": "stream",
     "text": [
      "Epoch 1/5\n",
      "307/307 [==============================] - 1s 2ms/step - loss: 23.1158 - msle: 23.1158 - val_loss: 22.9108 - val_msle: 22.9108\n",
      "Epoch 2/5\n",
      "307/307 [==============================] - 0s 1ms/step - loss: 23.1158 - msle: 23.1158 - val_loss: 22.9108 - val_msle: 22.9108\n",
      "Epoch 3/5\n",
      "307/307 [==============================] - 0s 1ms/step - loss: 23.1158 - msle: 23.1158 - val_loss: 22.9108 - val_msle: 22.9108\n",
      "Epoch 4/5\n",
      "307/307 [==============================] - 0s 1ms/step - loss: 23.1158 - msle: 23.1158 - val_loss: 22.9108 - val_msle: 22.9108\n",
      "Epoch 5/5\n",
      "307/307 [==============================] - 1s 2ms/step - loss: 23.1158 - msle: 23.1158 - val_loss: 22.9108 - val_msle: 22.9108\n"
     ]
    },
    {
     "name": "stderr",
     "output_type": "stream",
     "text": [
      "[I 2024-04-16 21:45:10,598] Trial 35 finished with value: 22.910757064819336 and parameters: {'n_hidden': 5, 'n_neurons': 19, 'learning_rate': 0.0017598884708958065}. Best is trial 1 with value: 22.910757064819336.\n"
     ]
    },
    {
     "name": "stdout",
     "output_type": "stream",
     "text": [
      "Epoch 1/5\n",
      "307/307 [==============================] - 2s 2ms/step - loss: 1.8703 - msle: 1.8703 - val_loss: 1.8662 - val_msle: 1.8662\n",
      "Epoch 2/5\n",
      "307/307 [==============================] - 0s 2ms/step - loss: 1.1962 - msle: 1.1962 - val_loss: 1.2998 - val_msle: 1.2998\n",
      "Epoch 3/5\n",
      "307/307 [==============================] - 0s 2ms/step - loss: 1.0949 - msle: 1.0949 - val_loss: 0.9915 - val_msle: 0.9915\n",
      "Epoch 4/5\n",
      "307/307 [==============================] - 0s 2ms/step - loss: 1.0617 - msle: 1.0617 - val_loss: 1.0552 - val_msle: 1.0552\n",
      "Epoch 5/5\n",
      "307/307 [==============================] - 0s 2ms/step - loss: 1.0257 - msle: 1.0257 - val_loss: 0.9450 - val_msle: 0.9450\n"
     ]
    },
    {
     "name": "stderr",
     "output_type": "stream",
     "text": [
      "[I 2024-04-16 21:45:14,299] Trial 36 finished with value: 0.9450032114982605 and parameters: {'n_hidden': 6, 'n_neurons': 25, 'learning_rate': 0.003841665940251721}. Best is trial 1 with value: 22.910757064819336.\n"
     ]
    },
    {
     "name": "stdout",
     "output_type": "stream",
     "text": [
      "Epoch 1/5\n",
      "307/307 [==============================] - 1s 2ms/step - loss: 23.1158 - msle: 23.1158 - val_loss: 22.9108 - val_msle: 22.9108\n",
      "Epoch 2/5\n",
      "307/307 [==============================] - 0s 1ms/step - loss: 23.1158 - msle: 23.1158 - val_loss: 22.9108 - val_msle: 22.9108\n",
      "Epoch 3/5\n",
      "307/307 [==============================] - 0s 2ms/step - loss: 23.1158 - msle: 23.1158 - val_loss: 22.9108 - val_msle: 22.9108\n",
      "Epoch 4/5\n",
      "307/307 [==============================] - 0s 1ms/step - loss: 23.1158 - msle: 23.1158 - val_loss: 22.9108 - val_msle: 22.9108\n",
      "Epoch 5/5\n",
      "307/307 [==============================] - 0s 1ms/step - loss: 23.1158 - msle: 23.1158 - val_loss: 22.9108 - val_msle: 22.9108\n"
     ]
    },
    {
     "name": "stderr",
     "output_type": "stream",
     "text": [
      "[I 2024-04-16 21:45:17,788] Trial 37 finished with value: 22.910757064819336 and parameters: {'n_hidden': 5, 'n_neurons': 29, 'learning_rate': 0.0008528877828429815}. Best is trial 1 with value: 22.910757064819336.\n"
     ]
    },
    {
     "name": "stdout",
     "output_type": "stream",
     "text": [
      "Epoch 1/5\n",
      "307/307 [==============================] - 1s 1ms/step - loss: 3.0461 - msle: 3.0461 - val_loss: 2.1178 - val_msle: 2.1178\n",
      "Epoch 2/5\n",
      "307/307 [==============================] - 0s 1ms/step - loss: 1.9492 - msle: 1.9492 - val_loss: 2.0244 - val_msle: 2.0244\n",
      "Epoch 3/5\n",
      "307/307 [==============================] - 0s 1ms/step - loss: 1.9047 - msle: 1.9047 - val_loss: 2.0103 - val_msle: 2.0103\n",
      "Epoch 4/5\n",
      "307/307 [==============================] - 0s 1ms/step - loss: 1.8948 - msle: 1.8948 - val_loss: 2.0049 - val_msle: 2.0049\n",
      "Epoch 5/5\n",
      "307/307 [==============================] - 0s 1ms/step - loss: 1.8891 - msle: 1.8891 - val_loss: 1.9988 - val_msle: 1.9988\n"
     ]
    },
    {
     "name": "stderr",
     "output_type": "stream",
     "text": [
      "[I 2024-04-16 21:45:20,132] Trial 38 finished with value: 1.9988200664520264 and parameters: {'n_hidden': 0, 'n_neurons': 33, 'learning_rate': 0.0004080155531096715}. Best is trial 1 with value: 22.910757064819336.\n"
     ]
    },
    {
     "name": "stdout",
     "output_type": "stream",
     "text": [
      "Epoch 1/5\n",
      "307/307 [==============================] - 1s 2ms/step - loss: 22.9940 - msle: 22.9940 - val_loss: 22.9108 - val_msle: 22.9108\n",
      "Epoch 2/5\n",
      "307/307 [==============================] - 0s 1ms/step - loss: 23.1158 - msle: 23.1158 - val_loss: 22.9108 - val_msle: 22.9108\n",
      "Epoch 3/5\n",
      "307/307 [==============================] - 0s 1ms/step - loss: 23.1158 - msle: 23.1158 - val_loss: 22.9108 - val_msle: 22.9108\n",
      "Epoch 4/5\n",
      "307/307 [==============================] - 0s 1ms/step - loss: 23.1158 - msle: 23.1158 - val_loss: 22.9108 - val_msle: 22.9108\n",
      "Epoch 5/5\n",
      "307/307 [==============================] - 0s 1ms/step - loss: 23.1158 - msle: 23.1158 - val_loss: 22.9108 - val_msle: 22.9108\n"
     ]
    },
    {
     "name": "stderr",
     "output_type": "stream",
     "text": [
      "[I 2024-04-16 21:45:23,205] Trial 39 finished with value: 22.910757064819336 and parameters: {'n_hidden': 3, 'n_neurons': 41, 'learning_rate': 0.003208497389675499}. Best is trial 1 with value: 22.910757064819336.\n"
     ]
    },
    {
     "name": "stdout",
     "output_type": "stream",
     "text": [
      "Epoch 1/5\n",
      "307/307 [==============================] - 2s 2ms/step - loss: 23.1158 - msle: 23.1158 - val_loss: 22.9108 - val_msle: 22.9108\n",
      "Epoch 2/5\n",
      "307/307 [==============================] - 0s 2ms/step - loss: 23.1158 - msle: 23.1158 - val_loss: 22.9108 - val_msle: 22.9108\n",
      "Epoch 3/5\n",
      "307/307 [==============================] - 0s 2ms/step - loss: 23.1158 - msle: 23.1158 - val_loss: 22.9108 - val_msle: 22.9108\n",
      "Epoch 4/5\n",
      "307/307 [==============================] - 0s 2ms/step - loss: 23.1158 - msle: 23.1158 - val_loss: 22.9108 - val_msle: 22.9108\n",
      "Epoch 5/5\n",
      "307/307 [==============================] - 1s 2ms/step - loss: 23.1158 - msle: 23.1158 - val_loss: 22.9108 - val_msle: 22.9108\n"
     ]
    },
    {
     "name": "stderr",
     "output_type": "stream",
     "text": [
      "[I 2024-04-16 21:45:26,965] Trial 40 finished with value: 22.910757064819336 and parameters: {'n_hidden': 6, 'n_neurons': 37, 'learning_rate': 0.00024632065886933595}. Best is trial 1 with value: 22.910757064819336.\n"
     ]
    },
    {
     "name": "stdout",
     "output_type": "stream",
     "text": [
      "Epoch 1/5\n",
      "307/307 [==============================] - 1s 1ms/step - loss: 23.1158 - msle: 23.1158 - val_loss: 22.9108 - val_msle: 22.9108\n",
      "Epoch 2/5\n",
      "307/307 [==============================] - 0s 1ms/step - loss: 23.1158 - msle: 23.1158 - val_loss: 22.9108 - val_msle: 22.9108\n",
      "Epoch 3/5\n",
      "307/307 [==============================] - 0s 1ms/step - loss: 23.1158 - msle: 23.1158 - val_loss: 22.9108 - val_msle: 22.9108\n",
      "Epoch 4/5\n",
      "307/307 [==============================] - 0s 1ms/step - loss: 23.1158 - msle: 23.1158 - val_loss: 22.9108 - val_msle: 22.9108\n",
      "Epoch 5/5\n",
      "307/307 [==============================] - 0s 1ms/step - loss: 23.1158 - msle: 23.1158 - val_loss: 22.9108 - val_msle: 22.9108\n"
     ]
    },
    {
     "name": "stderr",
     "output_type": "stream",
     "text": [
      "[I 2024-04-16 21:45:29,343] Trial 41 finished with value: 22.910757064819336 and parameters: {'n_hidden': 0, 'n_neurons': 33, 'learning_rate': 0.0001564337817230253}. Best is trial 1 with value: 22.910757064819336.\n"
     ]
    },
    {
     "name": "stdout",
     "output_type": "stream",
     "text": [
      "Epoch 1/5\n",
      "307/307 [==============================] - 1s 2ms/step - loss: 23.1158 - msle: 23.1158 - val_loss: 22.9108 - val_msle: 22.9108\n",
      "Epoch 2/5\n",
      "307/307 [==============================] - 0s 1ms/step - loss: 23.1158 - msle: 23.1158 - val_loss: 22.9108 - val_msle: 22.9108\n",
      "Epoch 3/5\n",
      "307/307 [==============================] - 0s 1ms/step - loss: 23.1158 - msle: 23.1158 - val_loss: 22.9108 - val_msle: 22.9108\n",
      "Epoch 4/5\n",
      "307/307 [==============================] - 0s 1ms/step - loss: 23.1158 - msle: 23.1158 - val_loss: 22.9108 - val_msle: 22.9108\n",
      "Epoch 5/5\n",
      "307/307 [==============================] - 0s 1ms/step - loss: 23.1158 - msle: 23.1158 - val_loss: 22.9108 - val_msle: 22.9108\n"
     ]
    },
    {
     "name": "stderr",
     "output_type": "stream",
     "text": [
      "[I 2024-04-16 21:45:31,915] Trial 42 finished with value: 22.910757064819336 and parameters: {'n_hidden': 1, 'n_neurons': 31, 'learning_rate': 0.00014050806161193045}. Best is trial 1 with value: 22.910757064819336.\n"
     ]
    },
    {
     "name": "stdout",
     "output_type": "stream",
     "text": [
      "Epoch 1/5\n",
      "307/307 [==============================] - 1s 1ms/step - loss: 23.1158 - msle: 23.1158 - val_loss: 22.9108 - val_msle: 22.9108\n",
      "Epoch 2/5\n",
      "307/307 [==============================] - 0s 1ms/step - loss: 23.1158 - msle: 23.1158 - val_loss: 22.9108 - val_msle: 22.9108\n",
      "Epoch 3/5\n",
      "307/307 [==============================] - 0s 1ms/step - loss: 23.1158 - msle: 23.1158 - val_loss: 22.9108 - val_msle: 22.9108\n",
      "Epoch 4/5\n",
      "307/307 [==============================] - 0s 1ms/step - loss: 23.1158 - msle: 23.1158 - val_loss: 22.9108 - val_msle: 22.9108\n",
      "Epoch 5/5\n",
      "307/307 [==============================] - 0s 1ms/step - loss: 23.1158 - msle: 23.1158 - val_loss: 22.9108 - val_msle: 22.9108\n"
     ]
    },
    {
     "name": "stderr",
     "output_type": "stream",
     "text": [
      "[I 2024-04-16 21:45:34,249] Trial 43 finished with value: 22.910757064819336 and parameters: {'n_hidden': 0, 'n_neurons': 35, 'learning_rate': 0.0002956383078889365}. Best is trial 1 with value: 22.910757064819336.\n"
     ]
    },
    {
     "name": "stdout",
     "output_type": "stream",
     "text": [
      "Epoch 1/5\n",
      "307/307 [==============================] - 1s 2ms/step - loss: 23.1158 - msle: 23.1158 - val_loss: 22.9108 - val_msle: 22.9108\n",
      "Epoch 2/5\n",
      "307/307 [==============================] - 0s 1ms/step - loss: 23.1158 - msle: 23.1158 - val_loss: 22.9108 - val_msle: 22.9108\n",
      "Epoch 3/5\n",
      "307/307 [==============================] - 0s 1ms/step - loss: 23.1158 - msle: 23.1158 - val_loss: 22.9108 - val_msle: 22.9108\n",
      "Epoch 4/5\n",
      "307/307 [==============================] - 0s 1ms/step - loss: 23.1158 - msle: 23.1158 - val_loss: 22.9108 - val_msle: 22.9108\n",
      "Epoch 5/5\n",
      "307/307 [==============================] - 0s 1ms/step - loss: 23.1158 - msle: 23.1158 - val_loss: 22.9108 - val_msle: 22.9108\n"
     ]
    },
    {
     "name": "stderr",
     "output_type": "stream",
     "text": [
      "[I 2024-04-16 21:45:36,848] Trial 44 finished with value: 22.910757064819336 and parameters: {'n_hidden': 1, 'n_neurons': 39, 'learning_rate': 0.0004753424785086975}. Best is trial 1 with value: 22.910757064819336.\n"
     ]
    },
    {
     "name": "stdout",
     "output_type": "stream",
     "text": [
      "Epoch 1/5\n",
      "307/307 [==============================] - 1s 2ms/step - loss: 23.1158 - msle: 23.1158 - val_loss: 22.9108 - val_msle: 22.9108\n",
      "Epoch 2/5\n",
      "307/307 [==============================] - 0s 1ms/step - loss: 23.1158 - msle: 23.1158 - val_loss: 22.9108 - val_msle: 22.9108\n",
      "Epoch 3/5\n",
      "307/307 [==============================] - 0s 1ms/step - loss: 23.1158 - msle: 23.1158 - val_loss: 22.9108 - val_msle: 22.9108\n",
      "Epoch 4/5\n",
      "307/307 [==============================] - 0s 1ms/step - loss: 23.1158 - msle: 23.1158 - val_loss: 22.9108 - val_msle: 22.9108\n",
      "Epoch 5/5\n",
      "307/307 [==============================] - 0s 1ms/step - loss: 23.1158 - msle: 23.1158 - val_loss: 22.9108 - val_msle: 22.9108\n"
     ]
    },
    {
     "name": "stderr",
     "output_type": "stream",
     "text": [
      "[I 2024-04-16 21:45:39,647] Trial 45 finished with value: 22.910757064819336 and parameters: {'n_hidden': 2, 'n_neurons': 27, 'learning_rate': 0.0002103395301626856}. Best is trial 1 with value: 22.910757064819336.\n"
     ]
    },
    {
     "name": "stdout",
     "output_type": "stream",
     "text": [
      "Epoch 1/5\n",
      "307/307 [==============================] - 1s 2ms/step - loss: 23.1158 - msle: 23.1158 - val_loss: 22.9108 - val_msle: 22.9108\n",
      "Epoch 2/5\n",
      "307/307 [==============================] - 0s 1ms/step - loss: 23.1158 - msle: 23.1158 - val_loss: 22.9108 - val_msle: 22.9108\n",
      "Epoch 3/5\n",
      "307/307 [==============================] - 0s 1ms/step - loss: 23.1158 - msle: 23.1158 - val_loss: 22.9108 - val_msle: 22.9108\n",
      "Epoch 4/5\n",
      "307/307 [==============================] - 0s 1ms/step - loss: 23.1158 - msle: 23.1158 - val_loss: 22.9108 - val_msle: 22.9108\n",
      "Epoch 5/5\n",
      "307/307 [==============================] - 0s 1ms/step - loss: 23.1158 - msle: 23.1158 - val_loss: 22.9108 - val_msle: 22.9108\n"
     ]
    },
    {
     "name": "stderr",
     "output_type": "stream",
     "text": [
      "[I 2024-04-16 21:45:42,011] Trial 46 finished with value: 22.910757064819336 and parameters: {'n_hidden': 0, 'n_neurons': 25, 'learning_rate': 0.0003426293657195725}. Best is trial 1 with value: 22.910757064819336.\n"
     ]
    },
    {
     "name": "stdout",
     "output_type": "stream",
     "text": [
      "Epoch 1/5\n",
      "307/307 [==============================] - 1s 2ms/step - loss: 23.1158 - msle: 23.1158 - val_loss: 22.9108 - val_msle: 22.9108\n",
      "Epoch 2/5\n",
      "307/307 [==============================] - 0s 1ms/step - loss: 23.1158 - msle: 23.1158 - val_loss: 22.9108 - val_msle: 22.9108\n",
      "Epoch 3/5\n",
      "307/307 [==============================] - 0s 1ms/step - loss: 23.1158 - msle: 23.1158 - val_loss: 22.9108 - val_msle: 22.9108\n",
      "Epoch 4/5\n",
      "307/307 [==============================] - 0s 1ms/step - loss: 23.1158 - msle: 23.1158 - val_loss: 22.9108 - val_msle: 22.9108\n",
      "Epoch 5/5\n",
      "307/307 [==============================] - 0s 1ms/step - loss: 23.1158 - msle: 23.1158 - val_loss: 22.9108 - val_msle: 22.9108\n"
     ]
    },
    {
     "name": "stderr",
     "output_type": "stream",
     "text": [
      "[I 2024-04-16 21:45:45,307] Trial 47 finished with value: 22.910757064819336 and parameters: {'n_hidden': 4, 'n_neurons': 29, 'learning_rate': 0.0006470220403409835}. Best is trial 1 with value: 22.910757064819336.\n"
     ]
    },
    {
     "name": "stdout",
     "output_type": "stream",
     "text": [
      "Epoch 1/5\n",
      "307/307 [==============================] - 1s 2ms/step - loss: 23.1158 - msle: 23.1158 - val_loss: 22.9108 - val_msle: 22.9108\n",
      "Epoch 2/5\n",
      "307/307 [==============================] - 0s 1ms/step - loss: 23.1158 - msle: 23.1158 - val_loss: 22.9108 - val_msle: 22.9108\n",
      "Epoch 3/5\n",
      "307/307 [==============================] - 0s 1ms/step - loss: 23.1158 - msle: 23.1158 - val_loss: 22.9108 - val_msle: 22.9108\n",
      "Epoch 4/5\n",
      "307/307 [==============================] - 0s 1ms/step - loss: 23.1158 - msle: 23.1158 - val_loss: 22.9108 - val_msle: 22.9108\n",
      "Epoch 5/5\n",
      "307/307 [==============================] - 0s 1ms/step - loss: 23.1158 - msle: 23.1158 - val_loss: 22.9108 - val_msle: 22.9108\n"
     ]
    },
    {
     "name": "stderr",
     "output_type": "stream",
     "text": [
      "[I 2024-04-16 21:45:47,892] Trial 48 finished with value: 22.910757064819336 and parameters: {'n_hidden': 1, 'n_neurons': 42, 'learning_rate': 0.0010636284254197804}. Best is trial 1 with value: 22.910757064819336.\n"
     ]
    },
    {
     "name": "stdout",
     "output_type": "stream",
     "text": [
      "Epoch 1/5\n",
      "307/307 [==============================] - 1s 2ms/step - loss: 23.1158 - msle: 23.1158 - val_loss: 22.9108 - val_msle: 22.9108\n",
      "Epoch 2/5\n",
      "307/307 [==============================] - 0s 1ms/step - loss: 23.1158 - msle: 23.1158 - val_loss: 22.9108 - val_msle: 22.9108\n",
      "Epoch 3/5\n",
      "307/307 [==============================] - 0s 1ms/step - loss: 23.1158 - msle: 23.1158 - val_loss: 22.9108 - val_msle: 22.9108\n",
      "Epoch 4/5\n",
      "307/307 [==============================] - 0s 1ms/step - loss: 23.1158 - msle: 23.1158 - val_loss: 22.9108 - val_msle: 22.9108\n",
      "Epoch 5/5\n",
      "307/307 [==============================] - 0s 1ms/step - loss: 23.1158 - msle: 23.1158 - val_loss: 22.9108 - val_msle: 22.9108\n"
     ]
    },
    {
     "name": "stderr",
     "output_type": "stream",
     "text": [
      "[I 2024-04-16 21:45:50,652] Trial 49 finished with value: 22.910757064819336 and parameters: {'n_hidden': 2, 'n_neurons': 32, 'learning_rate': 0.00010133064316504509}. Best is trial 1 with value: 22.910757064819336.\n"
     ]
    },
    {
     "name": "stdout",
     "output_type": "stream",
     "text": [
      "Epoch 1/5\n",
      "307/307 [==============================] - 1s 1ms/step - loss: 23.1158 - msle: 23.1158 - val_loss: 22.9108 - val_msle: 22.9108\n",
      "Epoch 2/5\n",
      "307/307 [==============================] - 0s 1ms/step - loss: 23.1158 - msle: 23.1158 - val_loss: 22.9108 - val_msle: 22.9108\n",
      "Epoch 3/5\n",
      "307/307 [==============================] - 0s 1ms/step - loss: 23.1158 - msle: 23.1158 - val_loss: 22.9108 - val_msle: 22.9108\n",
      "Epoch 4/5\n",
      "307/307 [==============================] - 0s 1ms/step - loss: 23.1158 - msle: 23.1158 - val_loss: 22.9108 - val_msle: 22.9108\n",
      "Epoch 5/5\n",
      "307/307 [==============================] - 0s 1ms/step - loss: 23.1158 - msle: 23.1158 - val_loss: 22.9108 - val_msle: 22.9108\n"
     ]
    },
    {
     "name": "stderr",
     "output_type": "stream",
     "text": [
      "[I 2024-04-16 21:45:52,998] Trial 50 finished with value: 22.910757064819336 and parameters: {'n_hidden': 0, 'n_neurons': 36, 'learning_rate': 0.0018787521603427651}. Best is trial 1 with value: 22.910757064819336.\n"
     ]
    },
    {
     "name": "stdout",
     "output_type": "stream",
     "text": [
      "Epoch 1/5\n",
      "307/307 [==============================] - 1s 2ms/step - loss: 2.0149 - msle: 2.0149 - val_loss: 2.0742 - val_msle: 2.0742\n",
      "Epoch 2/5\n",
      "307/307 [==============================] - 0s 1ms/step - loss: 1.9691 - msle: 1.9691 - val_loss: 2.0451 - val_msle: 2.0451\n",
      "Epoch 3/5\n",
      "307/307 [==============================] - 0s 1ms/step - loss: 1.9408 - msle: 1.9408 - val_loss: 2.0176 - val_msle: 2.0176\n",
      "Epoch 4/5\n",
      "307/307 [==============================] - 0s 1ms/step - loss: 1.9130 - msle: 1.9130 - val_loss: 1.9833 - val_msle: 1.9833\n",
      "Epoch 5/5\n",
      "307/307 [==============================] - 0s 1ms/step - loss: 1.8841 - msle: 1.8841 - val_loss: 1.9513 - val_msle: 1.9513\n"
     ]
    },
    {
     "name": "stderr",
     "output_type": "stream",
     "text": [
      "[I 2024-04-16 21:45:55,569] Trial 51 finished with value: 1.951327919960022 and parameters: {'n_hidden': 1, 'n_neurons': 21, 'learning_rate': 0.0001727913324669249}. Best is trial 1 with value: 22.910757064819336.\n"
     ]
    },
    {
     "name": "stdout",
     "output_type": "stream",
     "text": [
      "Epoch 1/5\n",
      "307/307 [==============================] - 1s 2ms/step - loss: 23.1158 - msle: 23.1158 - val_loss: 22.9108 - val_msle: 22.9108\n",
      "Epoch 2/5\n",
      "307/307 [==============================] - 0s 1ms/step - loss: 23.1158 - msle: 23.1158 - val_loss: 22.9108 - val_msle: 22.9108\n",
      "Epoch 3/5\n",
      "307/307 [==============================] - 0s 1ms/step - loss: 23.1158 - msle: 23.1158 - val_loss: 22.9108 - val_msle: 22.9108\n",
      "Epoch 4/5\n",
      "307/307 [==============================] - 0s 1ms/step - loss: 23.1158 - msle: 23.1158 - val_loss: 22.9108 - val_msle: 22.9108\n",
      "Epoch 5/5\n",
      "307/307 [==============================] - 0s 1ms/step - loss: 23.1158 - msle: 23.1158 - val_loss: 22.9108 - val_msle: 22.9108\n"
     ]
    },
    {
     "name": "stderr",
     "output_type": "stream",
     "text": [
      "[I 2024-04-16 21:45:58,149] Trial 52 finished with value: 22.910757064819336 and parameters: {'n_hidden': 1, 'n_neurons': 18, 'learning_rate': 0.0001292306117973601}. Best is trial 1 with value: 22.910757064819336.\n"
     ]
    },
    {
     "name": "stdout",
     "output_type": "stream",
     "text": [
      "Epoch 1/5\n",
      "307/307 [==============================] - 1s 2ms/step - loss: 2.2062 - msle: 2.2062 - val_loss: 2.0570 - val_msle: 2.0570\n",
      "Epoch 2/5\n",
      "307/307 [==============================] - 0s 1ms/step - loss: 1.9502 - msle: 1.9502 - val_loss: 2.0174 - val_msle: 2.0174\n",
      "Epoch 3/5\n",
      "307/307 [==============================] - 0s 1ms/step - loss: 1.9075 - msle: 1.9075 - val_loss: 1.9706 - val_msle: 1.9706\n",
      "Epoch 4/5\n",
      "307/307 [==============================] - 0s 1ms/step - loss: 1.8530 - msle: 1.8530 - val_loss: 1.9022 - val_msle: 1.9022\n",
      "Epoch 5/5\n",
      "307/307 [==============================] - 0s 1ms/step - loss: 1.7781 - msle: 1.7781 - val_loss: 1.8064 - val_msle: 1.8064\n"
     ]
    },
    {
     "name": "stderr",
     "output_type": "stream",
     "text": [
      "[I 2024-04-16 21:46:00,905] Trial 53 finished with value: 1.8064241409301758 and parameters: {'n_hidden': 2, 'n_neurons': 20, 'learning_rate': 0.00021621713526324718}. Best is trial 1 with value: 22.910757064819336.\n"
     ]
    },
    {
     "name": "stdout",
     "output_type": "stream",
     "text": [
      "Epoch 1/5\n",
      "307/307 [==============================] - 2s 2ms/step - loss: 23.1158 - msle: 23.1158 - val_loss: 22.9108 - val_msle: 22.9108\n",
      "Epoch 2/5\n",
      "307/307 [==============================] - 0s 2ms/step - loss: 23.1158 - msle: 23.1158 - val_loss: 22.9108 - val_msle: 22.9108\n",
      "Epoch 3/5\n",
      "307/307 [==============================] - 0s 2ms/step - loss: 23.1158 - msle: 23.1158 - val_loss: 22.9108 - val_msle: 22.9108\n",
      "Epoch 4/5\n",
      "307/307 [==============================] - 0s 2ms/step - loss: 23.1158 - msle: 23.1158 - val_loss: 22.9108 - val_msle: 22.9108\n",
      "Epoch 5/5\n",
      "307/307 [==============================] - 1s 2ms/step - loss: 23.1158 - msle: 23.1158 - val_loss: 22.9108 - val_msle: 22.9108\n"
     ]
    },
    {
     "name": "stderr",
     "output_type": "stream",
     "text": [
      "[I 2024-04-16 21:46:04,941] Trial 54 finished with value: 22.910757064819336 and parameters: {'n_hidden': 7, 'n_neurons': 23, 'learning_rate': 0.00025006292079172667}. Best is trial 1 with value: 22.910757064819336.\n"
     ]
    },
    {
     "name": "stdout",
     "output_type": "stream",
     "text": [
      "Epoch 1/5\n",
      "307/307 [==============================] - 1s 2ms/step - loss: 23.1158 - msle: 23.1158 - val_loss: 22.9108 - val_msle: 22.9108\n",
      "Epoch 2/5\n",
      "307/307 [==============================] - 1s 2ms/step - loss: 23.1158 - msle: 23.1158 - val_loss: 22.9108 - val_msle: 22.9108\n",
      "Epoch 3/5\n",
      "307/307 [==============================] - 0s 2ms/step - loss: 23.1158 - msle: 23.1158 - val_loss: 22.9108 - val_msle: 22.9108\n",
      "Epoch 4/5\n",
      "307/307 [==============================] - 0s 1ms/step - loss: 23.1158 - msle: 23.1158 - val_loss: 22.9108 - val_msle: 22.9108\n",
      "Epoch 5/5\n",
      "307/307 [==============================] - 1s 2ms/step - loss: 23.1158 - msle: 23.1158 - val_loss: 22.9108 - val_msle: 22.9108\n"
     ]
    },
    {
     "name": "stderr",
     "output_type": "stream",
     "text": [
      "[I 2024-04-16 21:46:08,269] Trial 55 finished with value: 22.910757064819336 and parameters: {'n_hidden': 1, 'n_neurons': 16, 'learning_rate': 0.0003767864018040461}. Best is trial 1 with value: 22.910757064819336.\n"
     ]
    },
    {
     "name": "stdout",
     "output_type": "stream",
     "text": [
      "Epoch 1/5\n",
      "307/307 [==============================] - 1s 2ms/step - loss: 1.9863 - msle: 1.9863 - val_loss: 2.0394 - val_msle: 2.0394\n",
      "Epoch 2/5\n",
      "307/307 [==============================] - 0s 2ms/step - loss: 1.8555 - msle: 1.8555 - val_loss: 1.7690 - val_msle: 1.7690\n",
      "Epoch 3/5\n",
      "307/307 [==============================] - 1s 2ms/step - loss: 1.5122 - msle: 1.5122 - val_loss: 1.6179 - val_msle: 1.6179\n",
      "Epoch 4/5\n",
      "307/307 [==============================] - 1s 2ms/step - loss: 1.4871 - msle: 1.4871 - val_loss: 1.3657 - val_msle: 1.3657\n",
      "Epoch 5/5\n",
      "307/307 [==============================] - 1s 2ms/step - loss: 1.3756 - msle: 1.3756 - val_loss: 1.3149 - val_msle: 1.3149\n"
     ]
    },
    {
     "name": "stderr",
     "output_type": "stream",
     "text": [
      "[I 2024-04-16 21:46:12,004] Trial 56 finished with value: 1.3149404525756836 and parameters: {'n_hidden': 3, 'n_neurons': 26, 'learning_rate': 0.0005123581400668635}. Best is trial 1 with value: 22.910757064819336.\n"
     ]
    },
    {
     "name": "stdout",
     "output_type": "stream",
     "text": [
      "Epoch 1/5\n",
      "307/307 [==============================] - 2s 3ms/step - loss: 2.0940 - msle: 2.0940 - val_loss: 1.9483 - val_msle: 1.9483\n",
      "Epoch 2/5\n",
      "307/307 [==============================] - 1s 2ms/step - loss: 1.4456 - msle: 1.4456 - val_loss: 1.2887 - val_msle: 1.2887\n",
      "Epoch 3/5\n",
      "307/307 [==============================] - 1s 2ms/step - loss: 1.1608 - msle: 1.1608 - val_loss: 1.0175 - val_msle: 1.0175\n",
      "Epoch 4/5\n",
      "307/307 [==============================] - 1s 2ms/step - loss: 1.0801 - msle: 1.0801 - val_loss: 1.1041 - val_msle: 1.1041\n",
      "Epoch 5/5\n",
      "307/307 [==============================] - 1s 2ms/step - loss: 1.0448 - msle: 1.0448 - val_loss: 0.9719 - val_msle: 0.9719\n"
     ]
    },
    {
     "name": "stderr",
     "output_type": "stream",
     "text": [
      "[I 2024-04-16 21:46:17,129] Trial 57 finished with value: 0.9719101786613464 and parameters: {'n_hidden': 5, 'n_neurons': 23, 'learning_rate': 0.009698802646764804}. Best is trial 1 with value: 22.910757064819336.\n"
     ]
    },
    {
     "name": "stdout",
     "output_type": "stream",
     "text": [
      "Epoch 1/5\n",
      "307/307 [==============================] - 2s 3ms/step - loss: 2.0128 - msle: 2.0128 - val_loss: 2.0755 - val_msle: 2.0755\n",
      "Epoch 2/5\n",
      "307/307 [==============================] - 1s 2ms/step - loss: 1.9156 - msle: 1.9156 - val_loss: 1.8608 - val_msle: 1.8608\n",
      "Epoch 3/5\n",
      "307/307 [==============================] - 1s 2ms/step - loss: 1.5154 - msle: 1.5154 - val_loss: 1.4014 - val_msle: 1.4014\n",
      "Epoch 4/5\n",
      "307/307 [==============================] - 1s 2ms/step - loss: 1.2599 - msle: 1.2599 - val_loss: 1.2133 - val_msle: 1.2133\n",
      "Epoch 5/5\n",
      "307/307 [==============================] - 1s 2ms/step - loss: 1.1818 - msle: 1.1818 - val_loss: 1.1384 - val_msle: 1.1384\n"
     ]
    },
    {
     "name": "stderr",
     "output_type": "stream",
     "text": [
      "[I 2024-04-16 21:46:22,164] Trial 58 finished with value: 1.1384474039077759 and parameters: {'n_hidden': 6, 'n_neurons': 30, 'learning_rate': 0.0002923819010466501}. Best is trial 1 with value: 22.910757064819336.\n"
     ]
    },
    {
     "name": "stdout",
     "output_type": "stream",
     "text": [
      "Epoch 1/5\n",
      "307/307 [==============================] - 3s 3ms/step - loss: 23.1158 - msle: 23.1158 - val_loss: 22.9108 - val_msle: 22.9108\n",
      "Epoch 2/5\n",
      "307/307 [==============================] - 1s 2ms/step - loss: 23.1158 - msle: 23.1158 - val_loss: 22.9108 - val_msle: 22.9108\n",
      "Epoch 3/5\n",
      "307/307 [==============================] - 1s 2ms/step - loss: 23.1158 - msle: 23.1158 - val_loss: 22.9108 - val_msle: 22.9108\n",
      "Epoch 4/5\n",
      "307/307 [==============================] - 1s 2ms/step - loss: 23.1158 - msle: 23.1158 - val_loss: 22.9108 - val_msle: 22.9108\n",
      "Epoch 5/5\n",
      "307/307 [==============================] - 1s 2ms/step - loss: 23.1158 - msle: 23.1158 - val_loss: 22.9108 - val_msle: 22.9108\n"
     ]
    },
    {
     "name": "stderr",
     "output_type": "stream",
     "text": [
      "[I 2024-04-16 21:46:27,160] Trial 59 finished with value: 22.910757064819336 and parameters: {'n_hidden': 4, 'n_neurons': 21, 'learning_rate': 0.0027552410022302918}. Best is trial 1 with value: 22.910757064819336.\n"
     ]
    },
    {
     "name": "stdout",
     "output_type": "stream",
     "text": [
      "Epoch 1/5\n",
      "307/307 [==============================] - 1s 2ms/step - loss: 4.8936 - msle: 4.8936 - val_loss: 3.5435 - val_msle: 3.5435\n",
      "Epoch 2/5\n",
      "307/307 [==============================] - 0s 1ms/step - loss: 2.3535 - msle: 2.3535 - val_loss: 2.1684 - val_msle: 2.1684\n",
      "Epoch 3/5\n",
      "307/307 [==============================] - 0s 1ms/step - loss: 2.0264 - msle: 2.0264 - val_loss: 2.0972 - val_msle: 2.0972\n",
      "Epoch 4/5\n",
      "307/307 [==============================] - 0s 1ms/step - loss: 1.9611 - msle: 1.9611 - val_loss: 2.0252 - val_msle: 2.0252\n",
      "Epoch 5/5\n",
      "307/307 [==============================] - 0s 1ms/step - loss: 1.8983 - msle: 1.8983 - val_loss: 1.9586 - val_msle: 1.9586\n"
     ]
    },
    {
     "name": "stderr",
     "output_type": "stream",
     "text": [
      "[I 2024-04-16 21:46:29,927] Trial 60 finished with value: 1.9585983753204346 and parameters: {'n_hidden': 0, 'n_neurons': 34, 'learning_rate': 0.0006417268640988735}. Best is trial 1 with value: 22.910757064819336.\n"
     ]
    },
    {
     "name": "stdout",
     "output_type": "stream",
     "text": [
      "Epoch 1/5\n",
      "307/307 [==============================] - 1s 2ms/step - loss: 23.1158 - msle: 23.1158 - val_loss: 22.9108 - val_msle: 22.9108\n",
      "Epoch 2/5\n",
      "307/307 [==============================] - 1s 2ms/step - loss: 23.1158 - msle: 23.1158 - val_loss: 22.9108 - val_msle: 22.9108\n",
      "Epoch 3/5\n",
      "307/307 [==============================] - 1s 2ms/step - loss: 23.1158 - msle: 23.1158 - val_loss: 22.9108 - val_msle: 22.9108\n",
      "Epoch 4/5\n",
      "307/307 [==============================] - 1s 2ms/step - loss: 23.1158 - msle: 23.1158 - val_loss: 22.9108 - val_msle: 22.9108\n",
      "Epoch 5/5\n",
      "307/307 [==============================] - 1s 2ms/step - loss: 23.1158 - msle: 23.1158 - val_loss: 22.9108 - val_msle: 22.9108\n"
     ]
    },
    {
     "name": "stderr",
     "output_type": "stream",
     "text": [
      "[I 2024-04-16 21:46:33,873] Trial 61 finished with value: 22.910757064819336 and parameters: {'n_hidden': 4, 'n_neurons': 45, 'learning_rate': 0.005861984900550135}. Best is trial 1 with value: 22.910757064819336.\n"
     ]
    },
    {
     "name": "stdout",
     "output_type": "stream",
     "text": [
      "Epoch 1/5\n",
      "307/307 [==============================] - 1s 2ms/step - loss: 1.9963 - msle: 1.9963 - val_loss: 2.0584 - val_msle: 2.0584\n",
      "Epoch 2/5\n",
      "307/307 [==============================] - 1s 2ms/step - loss: 1.9448 - msle: 1.9448 - val_loss: 2.0015 - val_msle: 2.0015\n",
      "Epoch 3/5\n",
      "307/307 [==============================] - 1s 2ms/step - loss: 1.8671 - msle: 1.8671 - val_loss: 1.8965 - val_msle: 1.8965\n",
      "Epoch 4/5\n",
      "307/307 [==============================] - 1s 2ms/step - loss: 1.7380 - msle: 1.7380 - val_loss: 1.7884 - val_msle: 1.7884\n",
      "Epoch 5/5\n",
      "307/307 [==============================] - 1s 2ms/step - loss: 1.5846 - msle: 1.5846 - val_loss: 1.5725 - val_msle: 1.5725\n"
     ]
    },
    {
     "name": "stderr",
     "output_type": "stream",
     "text": [
      "[I 2024-04-16 21:46:37,594] Trial 62 finished with value: 1.572519302368164 and parameters: {'n_hidden': 3, 'n_neurons': 50, 'learning_rate': 0.00018657109721346497}. Best is trial 1 with value: 22.910757064819336.\n"
     ]
    },
    {
     "name": "stdout",
     "output_type": "stream",
     "text": [
      "Epoch 1/5\n",
      "307/307 [==============================] - 2s 2ms/step - loss: 23.1158 - msle: 23.1158 - val_loss: 22.9108 - val_msle: 22.9108\n",
      "Epoch 2/5\n",
      "307/307 [==============================] - 1s 2ms/step - loss: 23.1158 - msle: 23.1158 - val_loss: 22.9108 - val_msle: 22.9108\n",
      "Epoch 3/5\n",
      "307/307 [==============================] - 1s 2ms/step - loss: 23.1158 - msle: 23.1158 - val_loss: 22.9108 - val_msle: 22.9108\n",
      "Epoch 4/5\n",
      "307/307 [==============================] - 1s 2ms/step - loss: 23.1158 - msle: 23.1158 - val_loss: 22.9108 - val_msle: 22.9108\n",
      "Epoch 5/5\n",
      "307/307 [==============================] - 1s 2ms/step - loss: 23.1158 - msle: 23.1158 - val_loss: 22.9108 - val_msle: 22.9108\n"
     ]
    },
    {
     "name": "stderr",
     "output_type": "stream",
     "text": [
      "[I 2024-04-16 21:46:41,728] Trial 63 finished with value: 22.910757064819336 and parameters: {'n_hidden': 5, 'n_neurons': 43, 'learning_rate': 0.008590601229315455}. Best is trial 1 with value: 22.910757064819336.\n"
     ]
    },
    {
     "name": "stdout",
     "output_type": "stream",
     "text": [
      "Epoch 1/5\n",
      "307/307 [==============================] - 2s 2ms/step - loss: 1.7683 - msle: 1.7683 - val_loss: 1.0899 - val_msle: 1.0899\n",
      "Epoch 2/5\n",
      "307/307 [==============================] - 1s 2ms/step - loss: 1.1574 - msle: 1.1574 - val_loss: 1.3992 - val_msle: 1.3992\n",
      "Epoch 3/5\n",
      "307/307 [==============================] - 1s 2ms/step - loss: 1.1327 - msle: 1.1327 - val_loss: 0.9817 - val_msle: 0.9817\n",
      "Epoch 4/5\n",
      "307/307 [==============================] - 1s 2ms/step - loss: 1.0509 - msle: 1.0509 - val_loss: 1.1435 - val_msle: 1.1435\n",
      "Epoch 5/5\n",
      "307/307 [==============================] - 1s 2ms/step - loss: 1.0287 - msle: 1.0287 - val_loss: 0.9145 - val_msle: 0.9145\n"
     ]
    },
    {
     "name": "stderr",
     "output_type": "stream",
     "text": [
      "[I 2024-04-16 21:46:45,966] Trial 64 finished with value: 0.9144737720489502 and parameters: {'n_hidden': 5, 'n_neurons': 46, 'learning_rate': 0.004629849700495839}. Best is trial 1 with value: 22.910757064819336.\n"
     ]
    },
    {
     "name": "stdout",
     "output_type": "stream",
     "text": [
      "Epoch 1/5\n",
      "307/307 [==============================] - 2s 2ms/step - loss: 1.9233 - msle: 1.9233 - val_loss: 1.7368 - val_msle: 1.7368\n",
      "Epoch 2/5\n",
      "307/307 [==============================] - 1s 2ms/step - loss: 1.6557 - msle: 1.6557 - val_loss: 1.5128 - val_msle: 1.5128\n",
      "Epoch 3/5\n",
      "307/307 [==============================] - 1s 2ms/step - loss: 1.5128 - msle: 1.5128 - val_loss: 1.8863 - val_msle: 1.8863\n",
      "Epoch 4/5\n",
      "307/307 [==============================] - 1s 2ms/step - loss: 1.4718 - msle: 1.4718 - val_loss: 2.6442 - val_msle: 2.6442\n",
      "Epoch 5/5\n",
      "307/307 [==============================] - 1s 2ms/step - loss: 1.3543 - msle: 1.3543 - val_loss: 1.1200 - val_msle: 1.1200\n"
     ]
    },
    {
     "name": "stderr",
     "output_type": "stream",
     "text": [
      "[I 2024-04-16 21:46:49,902] Trial 65 finished with value: 1.1200240850448608 and parameters: {'n_hidden': 4, 'n_neurons': 18, 'learning_rate': 0.0012221078548654732}. Best is trial 1 with value: 22.910757064819336.\n"
     ]
    },
    {
     "name": "stdout",
     "output_type": "stream",
     "text": [
      "Epoch 1/5\n",
      "307/307 [==============================] - 2s 2ms/step - loss: 23.1158 - msle: 23.1158 - val_loss: 22.9108 - val_msle: 22.9108\n",
      "Epoch 2/5\n",
      "307/307 [==============================] - 1s 2ms/step - loss: 23.1158 - msle: 23.1158 - val_loss: 22.9108 - val_msle: 22.9108\n",
      "Epoch 3/5\n",
      "307/307 [==============================] - 1s 2ms/step - loss: 23.1158 - msle: 23.1158 - val_loss: 22.9108 - val_msle: 22.9108\n",
      "Epoch 4/5\n",
      "307/307 [==============================] - 1s 2ms/step - loss: 23.1158 - msle: 23.1158 - val_loss: 22.9108 - val_msle: 22.9108\n",
      "Epoch 5/5\n",
      "307/307 [==============================] - 1s 2ms/step - loss: 23.1158 - msle: 23.1158 - val_loss: 22.9108 - val_msle: 22.9108\n"
     ]
    },
    {
     "name": "stderr",
     "output_type": "stream",
     "text": [
      "[I 2024-04-16 21:46:54,316] Trial 66 finished with value: 22.910757064819336 and parameters: {'n_hidden': 6, 'n_neurons': 48, 'learning_rate': 0.0001355984408736654}. Best is trial 1 with value: 22.910757064819336.\n"
     ]
    },
    {
     "name": "stdout",
     "output_type": "stream",
     "text": [
      "Epoch 1/5\n",
      "307/307 [==============================] - 1s 2ms/step - loss: 23.1158 - msle: 23.1158 - val_loss: 22.9108 - val_msle: 22.9108\n",
      "Epoch 2/5\n",
      "307/307 [==============================] - 0s 2ms/step - loss: 23.1158 - msle: 23.1158 - val_loss: 22.9108 - val_msle: 22.9108\n",
      "Epoch 3/5\n",
      "307/307 [==============================] - 1s 2ms/step - loss: 23.1158 - msle: 23.1158 - val_loss: 22.9108 - val_msle: 22.9108\n",
      "Epoch 4/5\n",
      "307/307 [==============================] - 1s 2ms/step - loss: 23.1158 - msle: 23.1158 - val_loss: 22.9108 - val_msle: 22.9108\n",
      "Epoch 5/5\n",
      "307/307 [==============================] - 0s 2ms/step - loss: 23.1158 - msle: 23.1158 - val_loss: 22.9108 - val_msle: 22.9108\n"
     ]
    },
    {
     "name": "stderr",
     "output_type": "stream",
     "text": [
      "[I 2024-04-16 21:46:57,641] Trial 67 finished with value: 22.910757064819336 and parameters: {'n_hidden': 2, 'n_neurons': 24, 'learning_rate': 0.0009146222671625481}. Best is trial 1 with value: 22.910757064819336.\n"
     ]
    },
    {
     "name": "stdout",
     "output_type": "stream",
     "text": [
      "Epoch 1/5\n",
      "307/307 [==============================] - 2s 2ms/step - loss: 23.1158 - msle: 23.1158 - val_loss: 22.9108 - val_msle: 22.9108\n",
      "Epoch 2/5\n",
      "307/307 [==============================] - 1s 2ms/step - loss: 23.1158 - msle: 23.1158 - val_loss: 22.9108 - val_msle: 22.9108\n",
      "Epoch 3/5\n",
      "307/307 [==============================] - 1s 2ms/step - loss: 23.1158 - msle: 23.1158 - val_loss: 22.9108 - val_msle: 22.9108\n",
      "Epoch 4/5\n",
      "307/307 [==============================] - 1s 2ms/step - loss: 23.1158 - msle: 23.1158 - val_loss: 22.9108 - val_msle: 22.9108\n",
      "Epoch 5/5\n",
      "307/307 [==============================] - 1s 2ms/step - loss: 23.1158 - msle: 23.1158 - val_loss: 22.9108 - val_msle: 22.9108\n"
     ]
    },
    {
     "name": "stderr",
     "output_type": "stream",
     "text": [
      "[I 2024-04-16 21:47:01,885] Trial 68 finished with value: 22.910757064819336 and parameters: {'n_hidden': 6, 'n_neurons': 28, 'learning_rate': 0.0001603480518632735}. Best is trial 1 with value: 22.910757064819336.\n"
     ]
    },
    {
     "name": "stdout",
     "output_type": "stream",
     "text": [
      "Epoch 1/5\n",
      "307/307 [==============================] - 2s 2ms/step - loss: 23.1158 - msle: 23.1158 - val_loss: 22.9108 - val_msle: 22.9108\n",
      "Epoch 2/5\n",
      "307/307 [==============================] - 1s 2ms/step - loss: 23.1158 - msle: 23.1158 - val_loss: 22.9108 - val_msle: 22.9108\n",
      "Epoch 3/5\n",
      "307/307 [==============================] - 1s 2ms/step - loss: 23.1158 - msle: 23.1158 - val_loss: 22.9108 - val_msle: 22.9108\n",
      "Epoch 4/5\n",
      "307/307 [==============================] - 1s 2ms/step - loss: 23.1158 - msle: 23.1158 - val_loss: 22.9108 - val_msle: 22.9108\n",
      "Epoch 5/5\n",
      "307/307 [==============================] - 1s 2ms/step - loss: 23.1158 - msle: 23.1158 - val_loss: 22.9108 - val_msle: 22.9108\n"
     ]
    },
    {
     "name": "stderr",
     "output_type": "stream",
     "text": [
      "[I 2024-04-16 21:47:05,847] Trial 69 finished with value: 22.910757064819336 and parameters: {'n_hidden': 5, 'n_neurons': 31, 'learning_rate': 0.001554770303980047}. Best is trial 1 with value: 22.910757064819336.\n"
     ]
    },
    {
     "name": "stdout",
     "output_type": "stream",
     "text": [
      "Epoch 1/5\n",
      "307/307 [==============================] - 1s 2ms/step - loss: 1.8125 - msle: 1.8125 - val_loss: 1.1250 - val_msle: 1.1250\n",
      "Epoch 2/5\n",
      "307/307 [==============================] - 1s 2ms/step - loss: 1.1642 - msle: 1.1642 - val_loss: 1.2333 - val_msle: 1.2333\n",
      "Epoch 3/5\n",
      "307/307 [==============================] - 1s 2ms/step - loss: 1.0879 - msle: 1.0879 - val_loss: 1.0145 - val_msle: 1.0145\n",
      "Epoch 4/5\n",
      "307/307 [==============================] - 1s 2ms/step - loss: 1.0462 - msle: 1.0462 - val_loss: 1.0480 - val_msle: 1.0480\n",
      "Epoch 5/5\n",
      "307/307 [==============================] - 1s 2ms/step - loss: 1.0093 - msle: 1.0093 - val_loss: 0.8560 - val_msle: 0.8560\n"
     ]
    },
    {
     "name": "stderr",
     "output_type": "stream",
     "text": [
      "[I 2024-04-16 21:47:09,597] Trial 70 finished with value: 0.8559598326683044 and parameters: {'n_hidden': 4, 'n_neurons': 26, 'learning_rate': 0.006999380646859083}. Best is trial 1 with value: 22.910757064819336.\n"
     ]
    },
    {
     "name": "stdout",
     "output_type": "stream",
     "text": [
      "Epoch 1/5\n",
      "307/307 [==============================] - 1s 2ms/step - loss: 23.1158 - msle: 23.1158 - val_loss: 22.9108 - val_msle: 22.9108\n",
      "Epoch 2/5\n",
      "307/307 [==============================] - 0s 1ms/step - loss: 23.1158 - msle: 23.1158 - val_loss: 22.9108 - val_msle: 22.9108\n",
      "Epoch 3/5\n",
      "307/307 [==============================] - 0s 2ms/step - loss: 23.1158 - msle: 23.1158 - val_loss: 22.9108 - val_msle: 22.9108\n",
      "Epoch 4/5\n",
      "307/307 [==============================] - 0s 1ms/step - loss: 23.1158 - msle: 23.1158 - val_loss: 22.9108 - val_msle: 22.9108\n",
      "Epoch 5/5\n",
      "307/307 [==============================] - 0s 2ms/step - loss: 23.1158 - msle: 23.1158 - val_loss: 22.9108 - val_msle: 22.9108\n"
     ]
    },
    {
     "name": "stderr",
     "output_type": "stream",
     "text": [
      "[I 2024-04-16 21:47:12,618] Trial 71 finished with value: 22.910757064819336 and parameters: {'n_hidden': 1, 'n_neurons': 31, 'learning_rate': 0.0005703239115392608}. Best is trial 1 with value: 22.910757064819336.\n"
     ]
    },
    {
     "name": "stdout",
     "output_type": "stream",
     "text": [
      "Epoch 1/5\n",
      "307/307 [==============================] - 1s 2ms/step - loss: 5.1728 - msle: 5.1728 - val_loss: 4.8089 - val_msle: 4.8089\n",
      "Epoch 2/5\n",
      "307/307 [==============================] - 0s 1ms/step - loss: 3.9716 - msle: 3.9716 - val_loss: 3.4667 - val_msle: 3.4667\n",
      "Epoch 3/5\n",
      "307/307 [==============================] - 0s 1ms/step - loss: 2.6583 - msle: 2.6583 - val_loss: 2.2916 - val_msle: 2.2916\n",
      "Epoch 4/5\n",
      "307/307 [==============================] - 0s 1ms/step - loss: 2.1000 - msle: 2.1000 - val_loss: 2.1723 - val_msle: 2.1723\n",
      "Epoch 5/5\n",
      "307/307 [==============================] - 0s 1ms/step - loss: 2.0585 - msle: 2.0585 - val_loss: 2.1391 - val_msle: 2.1391\n"
     ]
    },
    {
     "name": "stderr",
     "output_type": "stream",
     "text": [
      "[I 2024-04-16 21:47:15,385] Trial 72 finished with value: 2.1391313076019287 and parameters: {'n_hidden': 0, 'n_neurons': 29, 'learning_rate': 0.0002680011356656384}. Best is trial 1 with value: 22.910757064819336.\n"
     ]
    },
    {
     "name": "stdout",
     "output_type": "stream",
     "text": [
      "Epoch 1/5\n",
      "307/307 [==============================] - 1s 2ms/step - loss: 23.1158 - msle: 23.1158 - val_loss: 22.9108 - val_msle: 22.9108\n",
      "Epoch 2/5\n",
      "307/307 [==============================] - 1s 2ms/step - loss: 23.1158 - msle: 23.1158 - val_loss: 22.9108 - val_msle: 22.9108\n",
      "Epoch 3/5\n",
      "307/307 [==============================] - 0s 2ms/step - loss: 23.1158 - msle: 23.1158 - val_loss: 22.9108 - val_msle: 22.9108\n",
      "Epoch 4/5\n",
      "307/307 [==============================] - 0s 1ms/step - loss: 23.1158 - msle: 23.1158 - val_loss: 22.9108 - val_msle: 22.9108\n",
      "Epoch 5/5\n",
      "307/307 [==============================] - 0s 1ms/step - loss: 23.1158 - msle: 23.1158 - val_loss: 22.9108 - val_msle: 22.9108\n"
     ]
    },
    {
     "name": "stderr",
     "output_type": "stream",
     "text": [
      "[I 2024-04-16 21:47:18,516] Trial 73 finished with value: 22.910757064819336 and parameters: {'n_hidden': 1, 'n_neurons': 34, 'learning_rate': 0.00044803326535592644}. Best is trial 1 with value: 22.910757064819336.\n"
     ]
    },
    {
     "name": "stdout",
     "output_type": "stream",
     "text": [
      "Epoch 1/5\n",
      "307/307 [==============================] - 1s 2ms/step - loss: 2.0064 - msle: 2.0064 - val_loss: 2.0396 - val_msle: 2.0396\n",
      "Epoch 2/5\n",
      "307/307 [==============================] - 1s 2ms/step - loss: 1.9131 - msle: 1.9131 - val_loss: 1.8917 - val_msle: 1.8917\n",
      "Epoch 3/5\n",
      "307/307 [==============================] - 1s 2ms/step - loss: 1.7196 - msle: 1.7196 - val_loss: 1.6242 - val_msle: 1.6242\n",
      "Epoch 4/5\n",
      "307/307 [==============================] - 1s 2ms/step - loss: 1.5632 - msle: 1.5632 - val_loss: 1.5812 - val_msle: 1.5812\n",
      "Epoch 5/5\n",
      "307/307 [==============================] - 0s 2ms/step - loss: 1.5195 - msle: 1.5195 - val_loss: 1.3927 - val_msle: 1.3927\n"
     ]
    },
    {
     "name": "stderr",
     "output_type": "stream",
     "text": [
      "[I 2024-04-16 21:47:22,149] Trial 74 finished with value: 1.392703890800476 and parameters: {'n_hidden': 3, 'n_neurons': 36, 'learning_rate': 0.00032653987496156185}. Best is trial 1 with value: 22.910757064819336.\n"
     ]
    },
    {
     "name": "stdout",
     "output_type": "stream",
     "text": [
      "Epoch 1/5\n",
      "307/307 [==============================] - 1s 2ms/step - loss: 1.9457 - msle: 1.9457 - val_loss: 1.9430 - val_msle: 1.9430\n",
      "Epoch 2/5\n",
      "307/307 [==============================] - 1s 2ms/step - loss: 1.7759 - msle: 1.7759 - val_loss: 1.6951 - val_msle: 1.6951\n",
      "Epoch 3/5\n",
      "307/307 [==============================] - 0s 2ms/step - loss: 1.5544 - msle: 1.5544 - val_loss: 1.6697 - val_msle: 1.6697\n",
      "Epoch 4/5\n",
      "307/307 [==============================] - 0s 2ms/step - loss: 1.4468 - msle: 1.4468 - val_loss: 1.3486 - val_msle: 1.3486\n",
      "Epoch 5/5\n",
      "307/307 [==============================] - 0s 2ms/step - loss: 1.3931 - msle: 1.3931 - val_loss: 1.3111 - val_msle: 1.3111\n"
     ]
    },
    {
     "name": "stderr",
     "output_type": "stream",
     "text": [
      "[I 2024-04-16 21:47:25,456] Trial 75 finished with value: 1.3110682964324951 and parameters: {'n_hidden': 2, 'n_neurons': 33, 'learning_rate': 0.0007480463081569216}. Best is trial 1 with value: 22.910757064819336.\n"
     ]
    },
    {
     "name": "stdout",
     "output_type": "stream",
     "text": [
      "Epoch 1/5\n",
      "307/307 [==============================] - 1s 2ms/step - loss: 1.9726 - msle: 1.9726 - val_loss: 1.9875 - val_msle: 1.9875\n",
      "Epoch 2/5\n",
      "307/307 [==============================] - 0s 2ms/step - loss: 1.8315 - msle: 1.8315 - val_loss: 1.8282 - val_msle: 1.8282\n",
      "Epoch 3/5\n",
      "307/307 [==============================] - 0s 2ms/step - loss: 1.6929 - msle: 1.6929 - val_loss: 1.6815 - val_msle: 1.6815\n",
      "Epoch 4/5\n",
      "307/307 [==============================] - 0s 1ms/step - loss: 1.5702 - msle: 1.5702 - val_loss: 1.5951 - val_msle: 1.5951\n",
      "Epoch 5/5\n",
      "307/307 [==============================] - 0s 1ms/step - loss: 1.4966 - msle: 1.4966 - val_loss: 1.7069 - val_msle: 1.7069\n"
     ]
    },
    {
     "name": "stderr",
     "output_type": "stream",
     "text": [
      "[I 2024-04-16 21:47:28,459] Trial 76 finished with value: 1.7068535089492798 and parameters: {'n_hidden': 1, 'n_neurons': 38, 'learning_rate': 0.0003842293446295209}. Best is trial 1 with value: 22.910757064819336.\n"
     ]
    },
    {
     "name": "stdout",
     "output_type": "stream",
     "text": [
      "Epoch 1/5\n",
      "307/307 [==============================] - 1s 2ms/step - loss: 7.6730 - msle: 7.6730 - val_loss: 6.9072 - val_msle: 6.9072\n",
      "Epoch 2/5\n",
      "307/307 [==============================] - 0s 1ms/step - loss: 5.3562 - msle: 5.3562 - val_loss: 3.9777 - val_msle: 3.9777\n",
      "Epoch 3/5\n",
      "307/307 [==============================] - 0s 1ms/step - loss: 2.4406 - msle: 2.4406 - val_loss: 2.0972 - val_msle: 2.0972\n",
      "Epoch 4/5\n",
      "307/307 [==============================] - 0s 1ms/step - loss: 1.9431 - msle: 1.9431 - val_loss: 2.0241 - val_msle: 2.0241\n",
      "Epoch 5/5\n",
      "307/307 [==============================] - 0s 1ms/step - loss: 1.8809 - msle: 1.8809 - val_loss: 1.9619 - val_msle: 1.9619\n"
     ]
    },
    {
     "name": "stderr",
     "output_type": "stream",
     "text": [
      "[I 2024-04-16 21:47:31,160] Trial 77 finished with value: 1.961901068687439 and parameters: {'n_hidden': 0, 'n_neurons': 32, 'learning_rate': 0.0006142842115849113}. Best is trial 1 with value: 22.910757064819336.\n"
     ]
    },
    {
     "name": "stdout",
     "output_type": "stream",
     "text": [
      "Epoch 1/5\n",
      "307/307 [==============================] - 2s 3ms/step - loss: 23.1158 - msle: 23.1158 - val_loss: 22.9108 - val_msle: 22.9108\n",
      "Epoch 2/5\n",
      "307/307 [==============================] - 1s 2ms/step - loss: 23.1158 - msle: 23.1158 - val_loss: 22.9108 - val_msle: 22.9108\n",
      "Epoch 3/5\n",
      "307/307 [==============================] - 1s 2ms/step - loss: 23.1158 - msle: 23.1158 - val_loss: 22.9108 - val_msle: 22.9108\n",
      "Epoch 4/5\n",
      "307/307 [==============================] - 1s 2ms/step - loss: 23.1158 - msle: 23.1158 - val_loss: 22.9108 - val_msle: 22.9108\n",
      "Epoch 5/5\n",
      "307/307 [==============================] - 1s 2ms/step - loss: 23.1158 - msle: 23.1158 - val_loss: 22.9108 - val_msle: 22.9108\n"
     ]
    },
    {
     "name": "stderr",
     "output_type": "stream",
     "text": [
      "[I 2024-04-16 21:47:35,893] Trial 78 finished with value: 22.910757064819336 and parameters: {'n_hidden': 8, 'n_neurons': 17, 'learning_rate': 0.0008400770816710426}. Best is trial 1 with value: 22.910757064819336.\n"
     ]
    },
    {
     "name": "stdout",
     "output_type": "stream",
     "text": [
      "Epoch 1/5\n",
      "307/307 [==============================] - 1s 2ms/step - loss: 23.1158 - msle: 23.1158 - val_loss: 22.9108 - val_msle: 22.9108\n",
      "Epoch 2/5\n",
      "307/307 [==============================] - 0s 2ms/step - loss: 23.1158 - msle: 23.1158 - val_loss: 22.9108 - val_msle: 22.9108\n",
      "Epoch 3/5\n",
      "307/307 [==============================] - 0s 2ms/step - loss: 23.1158 - msle: 23.1158 - val_loss: 22.9108 - val_msle: 22.9108\n",
      "Epoch 4/5\n",
      "307/307 [==============================] - 0s 2ms/step - loss: 23.1158 - msle: 23.1158 - val_loss: 22.9108 - val_msle: 22.9108\n",
      "Epoch 5/5\n",
      "307/307 [==============================] - 0s 2ms/step - loss: 23.1158 - msle: 23.1158 - val_loss: 22.9108 - val_msle: 22.9108\n"
     ]
    },
    {
     "name": "stderr",
     "output_type": "stream",
     "text": [
      "[I 2024-04-16 21:47:39,090] Trial 79 finished with value: 22.910757064819336 and parameters: {'n_hidden': 2, 'n_neurons': 20, 'learning_rate': 0.00021753617306289135}. Best is trial 1 with value: 22.910757064819336.\n"
     ]
    },
    {
     "name": "stdout",
     "output_type": "stream",
     "text": [
      "Epoch 1/5\n",
      "307/307 [==============================] - 2s 3ms/step - loss: 1.8207 - msle: 1.8207 - val_loss: 1.6089 - val_msle: 1.6089\n",
      "Epoch 2/5\n",
      "307/307 [==============================] - 1s 2ms/step - loss: 1.2340 - msle: 1.2340 - val_loss: 1.4597 - val_msle: 1.4597\n",
      "Epoch 3/5\n",
      "307/307 [==============================] - 1s 2ms/step - loss: 1.1097 - msle: 1.1097 - val_loss: 1.0749 - val_msle: 1.0749\n",
      "Epoch 4/5\n",
      "307/307 [==============================] - 1s 2ms/step - loss: 1.0376 - msle: 1.0376 - val_loss: 0.9666 - val_msle: 0.9666\n",
      "Epoch 5/5\n",
      "307/307 [==============================] - 1s 2ms/step - loss: 0.9794 - msle: 0.9794 - val_loss: 0.8486 - val_msle: 0.8486\n"
     ]
    },
    {
     "name": "stderr",
     "output_type": "stream",
     "text": [
      "[I 2024-04-16 21:47:43,611] Trial 80 finished with value: 0.8485887050628662 and parameters: {'n_hidden': 7, 'n_neurons': 30, 'learning_rate': 0.0010241036460972221}. Best is trial 1 with value: 22.910757064819336.\n"
     ]
    },
    {
     "name": "stdout",
     "output_type": "stream",
     "text": [
      "Epoch 1/5\n",
      "307/307 [==============================] - 2s 2ms/step - loss: 23.1158 - msle: 23.1158 - val_loss: 22.9108 - val_msle: 22.9108\n",
      "Epoch 2/5\n",
      "307/307 [==============================] - 1s 2ms/step - loss: 23.1158 - msle: 23.1158 - val_loss: 22.9108 - val_msle: 22.9108\n",
      "Epoch 3/5\n",
      "307/307 [==============================] - 1s 2ms/step - loss: 23.1158 - msle: 23.1158 - val_loss: 22.9108 - val_msle: 22.9108\n",
      "Epoch 4/5\n",
      "307/307 [==============================] - 1s 2ms/step - loss: 23.1158 - msle: 23.1158 - val_loss: 22.9108 - val_msle: 22.9108\n",
      "Epoch 5/5\n",
      "307/307 [==============================] - 1s 2ms/step - loss: 23.1158 - msle: 23.1158 - val_loss: 22.9108 - val_msle: 22.9108\n"
     ]
    },
    {
     "name": "stderr",
     "output_type": "stream",
     "text": [
      "[I 2024-04-16 21:47:47,945] Trial 81 finished with value: 22.910757064819336 and parameters: {'n_hidden': 6, 'n_neurons': 27, 'learning_rate': 0.0014462302106136372}. Best is trial 1 with value: 22.910757064819336.\n"
     ]
    },
    {
     "name": "stdout",
     "output_type": "stream",
     "text": [
      "Epoch 1/5\n",
      "307/307 [==============================] - 2s 2ms/step - loss: 1.7860 - msle: 1.7860 - val_loss: 1.2611 - val_msle: 1.2611\n",
      "Epoch 2/5\n",
      "307/307 [==============================] - 1s 2ms/step - loss: 1.2131 - msle: 1.2131 - val_loss: 1.3230 - val_msle: 1.3230\n",
      "Epoch 3/5\n",
      "307/307 [==============================] - 1s 2ms/step - loss: 1.1243 - msle: 1.1243 - val_loss: 1.0471 - val_msle: 1.0471\n",
      "Epoch 4/5\n",
      "307/307 [==============================] - 1s 2ms/step - loss: 1.0809 - msle: 1.0809 - val_loss: 1.0659 - val_msle: 1.0659\n",
      "Epoch 5/5\n",
      "307/307 [==============================] - 1s 2ms/step - loss: 1.0618 - msle: 1.0618 - val_loss: 0.9757 - val_msle: 0.9757\n"
     ]
    },
    {
     "name": "stderr",
     "output_type": "stream",
     "text": [
      "[I 2024-04-16 21:47:51,955] Trial 82 finished with value: 0.9757479429244995 and parameters: {'n_hidden': 5, 'n_neurons': 28, 'learning_rate': 0.00185110465369801}. Best is trial 1 with value: 22.910757064819336.\n"
     ]
    },
    {
     "name": "stdout",
     "output_type": "stream",
     "text": [
      "Epoch 1/5\n",
      "307/307 [==============================] - 2s 2ms/step - loss: 23.1158 - msle: 23.1158 - val_loss: 22.9108 - val_msle: 22.9108\n",
      "Epoch 2/5\n",
      "307/307 [==============================] - 1s 2ms/step - loss: 23.1158 - msle: 23.1158 - val_loss: 22.9108 - val_msle: 22.9108\n",
      "Epoch 3/5\n",
      "307/307 [==============================] - 1s 2ms/step - loss: 23.1158 - msle: 23.1158 - val_loss: 22.9108 - val_msle: 22.9108\n",
      "Epoch 4/5\n",
      "307/307 [==============================] - 1s 2ms/step - loss: 23.1158 - msle: 23.1158 - val_loss: 22.9108 - val_msle: 22.9108\n",
      "Epoch 5/5\n",
      "307/307 [==============================] - 1s 2ms/step - loss: 23.1158 - msle: 23.1158 - val_loss: 22.9108 - val_msle: 22.9108\n"
     ]
    },
    {
     "name": "stderr",
     "output_type": "stream",
     "text": [
      "[I 2024-04-16 21:47:56,138] Trial 83 finished with value: 22.910757064819336 and parameters: {'n_hidden': 6, 'n_neurons': 26, 'learning_rate': 0.0011720068900806172}. Best is trial 1 with value: 22.910757064819336.\n"
     ]
    },
    {
     "name": "stdout",
     "output_type": "stream",
     "text": [
      "Epoch 1/5\n",
      "307/307 [==============================] - 2s 2ms/step - loss: 23.1158 - msle: 23.1158 - val_loss: 22.9108 - val_msle: 22.9108\n",
      "Epoch 2/5\n",
      "307/307 [==============================] - 1s 2ms/step - loss: 23.1158 - msle: 23.1158 - val_loss: 22.9108 - val_msle: 22.9108\n",
      "Epoch 3/5\n",
      "307/307 [==============================] - 1s 2ms/step - loss: 23.1158 - msle: 23.1158 - val_loss: 22.9108 - val_msle: 22.9108\n",
      "Epoch 4/5\n",
      "307/307 [==============================] - 1s 2ms/step - loss: 23.1158 - msle: 23.1158 - val_loss: 22.9108 - val_msle: 22.9108\n",
      "Epoch 5/5\n",
      "307/307 [==============================] - 1s 2ms/step - loss: 23.1158 - msle: 23.1158 - val_loss: 22.9108 - val_msle: 22.9108\n"
     ]
    },
    {
     "name": "stderr",
     "output_type": "stream",
     "text": [
      "[I 2024-04-16 21:48:00,305] Trial 84 finished with value: 22.910757064819336 and parameters: {'n_hidden': 6, 'n_neurons': 22, 'learning_rate': 0.002312337513752803}. Best is trial 1 with value: 22.910757064819336.\n"
     ]
    },
    {
     "name": "stdout",
     "output_type": "stream",
     "text": [
      "Epoch 1/5\n",
      "307/307 [==============================] - 2s 2ms/step - loss: 23.1158 - msle: 23.1158 - val_loss: 22.9108 - val_msle: 22.9108\n",
      "Epoch 2/5\n",
      "307/307 [==============================] - 1s 2ms/step - loss: 23.1158 - msle: 23.1158 - val_loss: 22.9108 - val_msle: 22.9108\n",
      "Epoch 3/5\n",
      "307/307 [==============================] - 1s 2ms/step - loss: 23.1158 - msle: 23.1158 - val_loss: 22.9108 - val_msle: 22.9108\n",
      "Epoch 4/5\n",
      "307/307 [==============================] - 1s 2ms/step - loss: 23.1158 - msle: 23.1158 - val_loss: 22.9108 - val_msle: 22.9108\n",
      "Epoch 5/5\n",
      "307/307 [==============================] - 1s 2ms/step - loss: 23.1158 - msle: 23.1158 - val_loss: 22.9108 - val_msle: 22.9108\n"
     ]
    },
    {
     "name": "stderr",
     "output_type": "stream",
     "text": [
      "[I 2024-04-16 21:48:04,762] Trial 85 finished with value: 22.910757064819336 and parameters: {'n_hidden': 7, 'n_neurons': 24, 'learning_rate': 0.002715355671521428}. Best is trial 1 with value: 22.910757064819336.\n"
     ]
    },
    {
     "name": "stdout",
     "output_type": "stream",
     "text": [
      "Epoch 1/5\n",
      "307/307 [==============================] - 1s 2ms/step - loss: 6.2243 - msle: 6.2243 - val_loss: 5.4647 - val_msle: 5.4647\n",
      "Epoch 2/5\n",
      "307/307 [==============================] - 0s 1ms/step - loss: 4.0233 - msle: 4.0233 - val_loss: 2.8494 - val_msle: 2.8494\n",
      "Epoch 3/5\n",
      "307/307 [==============================] - 0s 1ms/step - loss: 2.2321 - msle: 2.2321 - val_loss: 2.2572 - val_msle: 2.2572\n",
      "Epoch 4/5\n",
      "307/307 [==============================] - 0s 1ms/step - loss: 2.1077 - msle: 2.1077 - val_loss: 2.1934 - val_msle: 2.1934\n",
      "Epoch 5/5\n",
      "307/307 [==============================] - 0s 1ms/step - loss: 2.0519 - msle: 2.0519 - val_loss: 2.1360 - val_msle: 2.1360\n"
     ]
    },
    {
     "name": "stderr",
     "output_type": "stream",
     "text": [
      "[I 2024-04-16 21:48:07,530] Trial 86 finished with value: 2.1359705924987793 and parameters: {'n_hidden': 0, 'n_neurons': 35, 'learning_rate': 0.0005028628651502445}. Best is trial 1 with value: 22.910757064819336.\n"
     ]
    },
    {
     "name": "stdout",
     "output_type": "stream",
     "text": [
      "Epoch 1/5\n",
      "307/307 [==============================] - 1s 2ms/step - loss: 2.0740 - msle: 2.0740 - val_loss: 2.0961 - val_msle: 2.0961\n",
      "Epoch 2/5\n",
      "307/307 [==============================] - 1s 2ms/step - loss: 1.9978 - msle: 1.9978 - val_loss: 2.0680 - val_msle: 2.0680\n",
      "Epoch 3/5\n",
      "307/307 [==============================] - 1s 2ms/step - loss: 1.9551 - msle: 1.9551 - val_loss: 2.0046 - val_msle: 2.0046\n",
      "Epoch 4/5\n",
      "307/307 [==============================] - 1s 2ms/step - loss: 1.8027 - msle: 1.8027 - val_loss: 1.6984 - val_msle: 1.6984\n",
      "Epoch 5/5\n",
      "307/307 [==============================] - 1s 2ms/step - loss: 1.5495 - msle: 1.5495 - val_loss: 1.3455 - val_msle: 1.3455\n"
     ]
    },
    {
     "name": "stderr",
     "output_type": "stream",
     "text": [
      "[I 2024-04-16 21:48:11,297] Trial 87 finished with value: 1.3454515933990479 and parameters: {'n_hidden': 4, 'n_neurons': 29, 'learning_rate': 0.001344788792290581}. Best is trial 1 with value: 22.910757064819336.\n"
     ]
    },
    {
     "name": "stdout",
     "output_type": "stream",
     "text": [
      "Epoch 1/5\n",
      "307/307 [==============================] - 2s 2ms/step - loss: 23.1158 - msle: 23.1158 - val_loss: 22.9108 - val_msle: 22.9108\n",
      "Epoch 2/5\n",
      "307/307 [==============================] - 1s 2ms/step - loss: 23.1158 - msle: 23.1158 - val_loss: 22.9108 - val_msle: 22.9108\n",
      "Epoch 3/5\n",
      "307/307 [==============================] - 1s 2ms/step - loss: 23.1158 - msle: 23.1158 - val_loss: 22.9108 - val_msle: 22.9108\n",
      "Epoch 4/5\n",
      "307/307 [==============================] - 1s 2ms/step - loss: 23.1158 - msle: 23.1158 - val_loss: 22.9108 - val_msle: 22.9108\n",
      "Epoch 5/5\n",
      "307/307 [==============================] - 1s 2ms/step - loss: 23.1158 - msle: 23.1158 - val_loss: 22.9108 - val_msle: 22.9108\n"
     ]
    },
    {
     "name": "stderr",
     "output_type": "stream",
     "text": [
      "[I 2024-04-16 21:48:15,769] Trial 88 finished with value: 22.910757064819336 and parameters: {'n_hidden': 7, 'n_neurons': 27, 'learning_rate': 0.00011653380375950998}. Best is trial 1 with value: 22.910757064819336.\n"
     ]
    },
    {
     "name": "stdout",
     "output_type": "stream",
     "text": [
      "Epoch 1/5\n",
      "307/307 [==============================] - 1s 2ms/step - loss: 23.1158 - msle: 23.1158 - val_loss: 22.9108 - val_msle: 22.9108\n",
      "Epoch 2/5\n",
      "307/307 [==============================] - 1s 2ms/step - loss: 23.1158 - msle: 23.1158 - val_loss: 22.9108 - val_msle: 22.9108\n",
      "Epoch 3/5\n",
      "307/307 [==============================] - 1s 2ms/step - loss: 23.1158 - msle: 23.1158 - val_loss: 22.9108 - val_msle: 22.9108\n",
      "Epoch 4/5\n",
      "307/307 [==============================] - 0s 2ms/step - loss: 23.1158 - msle: 23.1158 - val_loss: 22.9108 - val_msle: 22.9108\n",
      "Epoch 5/5\n",
      "307/307 [==============================] - 0s 2ms/step - loss: 23.1158 - msle: 23.1158 - val_loss: 22.9108 - val_msle: 22.9108\n"
     ]
    },
    {
     "name": "stderr",
     "output_type": "stream",
     "text": [
      "[I 2024-04-16 21:48:19,258] Trial 89 finished with value: 22.910757064819336 and parameters: {'n_hidden': 3, 'n_neurons': 32, 'learning_rate': 0.001597193591441126}. Best is trial 1 with value: 22.910757064819336.\n"
     ]
    },
    {
     "name": "stdout",
     "output_type": "stream",
     "text": [
      "Epoch 1/5\n",
      "307/307 [==============================] - 1s 2ms/step - loss: 1.9350 - msle: 1.9350 - val_loss: 1.9083 - val_msle: 1.9083\n",
      "Epoch 2/5\n",
      "307/307 [==============================] - 0s 1ms/step - loss: 1.7204 - msle: 1.7204 - val_loss: 1.6773 - val_msle: 1.6773\n",
      "Epoch 3/5\n",
      "307/307 [==============================] - 0s 1ms/step - loss: 1.5341 - msle: 1.5341 - val_loss: 1.5036 - val_msle: 1.5036\n",
      "Epoch 4/5\n",
      "307/307 [==============================] - 1s 2ms/step - loss: 1.4090 - msle: 1.4090 - val_loss: 1.3915 - val_msle: 1.3915\n",
      "Epoch 5/5\n",
      "307/307 [==============================] - 0s 1ms/step - loss: 1.3523 - msle: 1.3523 - val_loss: 1.3335 - val_msle: 1.3335\n"
     ]
    },
    {
     "name": "stderr",
     "output_type": "stream",
     "text": [
      "[I 2024-04-16 21:48:22,405] Trial 90 finished with value: 1.3335363864898682 and parameters: {'n_hidden': 1, 'n_neurons': 30, 'learning_rate': 0.0007006926238289162}. Best is trial 1 with value: 22.910757064819336.\n"
     ]
    },
    {
     "name": "stdout",
     "output_type": "stream",
     "text": [
      "Epoch 1/5\n",
      "307/307 [==============================] - 2s 2ms/step - loss: 23.1158 - msle: 23.1158 - val_loss: 22.9108 - val_msle: 22.9108\n",
      "Epoch 2/5\n",
      "307/307 [==============================] - 1s 2ms/step - loss: 23.1158 - msle: 23.1158 - val_loss: 22.9108 - val_msle: 22.9108\n",
      "Epoch 3/5\n",
      "307/307 [==============================] - 1s 2ms/step - loss: 23.1158 - msle: 23.1158 - val_loss: 22.9108 - val_msle: 22.9108\n",
      "Epoch 4/5\n",
      "307/307 [==============================] - 1s 2ms/step - loss: 23.1158 - msle: 23.1158 - val_loss: 22.9108 - val_msle: 22.9108\n",
      "Epoch 5/5\n",
      "307/307 [==============================] - 1s 2ms/step - loss: 23.1158 - msle: 23.1158 - val_loss: 22.9108 - val_msle: 22.9108\n"
     ]
    },
    {
     "name": "stderr",
     "output_type": "stream",
     "text": [
      "[I 2024-04-16 21:48:26,639] Trial 91 finished with value: 22.910757064819336 and parameters: {'n_hidden': 6, 'n_neurons': 26, 'learning_rate': 0.0014233869262149346}. Best is trial 1 with value: 22.910757064819336.\n"
     ]
    },
    {
     "name": "stdout",
     "output_type": "stream",
     "text": [
      "Epoch 1/5\n",
      "307/307 [==============================] - 2s 2ms/step - loss: 23.1158 - msle: 23.1158 - val_loss: 22.9108 - val_msle: 22.9108\n",
      "Epoch 2/5\n",
      "307/307 [==============================] - 1s 2ms/step - loss: 23.1158 - msle: 23.1158 - val_loss: 22.9108 - val_msle: 22.9108\n",
      "Epoch 3/5\n",
      "307/307 [==============================] - 1s 2ms/step - loss: 23.1158 - msle: 23.1158 - val_loss: 22.9108 - val_msle: 22.9108\n",
      "Epoch 4/5\n",
      "307/307 [==============================] - 1s 2ms/step - loss: 23.1158 - msle: 23.1158 - val_loss: 22.9108 - val_msle: 22.9108\n",
      "Epoch 5/5\n",
      "307/307 [==============================] - 1s 2ms/step - loss: 23.1158 - msle: 23.1158 - val_loss: 22.9108 - val_msle: 22.9108\n"
     ]
    },
    {
     "name": "stderr",
     "output_type": "stream",
     "text": [
      "[I 2024-04-16 21:48:30,890] Trial 92 finished with value: 22.910757064819336 and parameters: {'n_hidden': 6, 'n_neurons': 25, 'learning_rate': 0.0009567416689643187}. Best is trial 1 with value: 22.910757064819336.\n"
     ]
    },
    {
     "name": "stdout",
     "output_type": "stream",
     "text": [
      "Epoch 1/5\n",
      "307/307 [==============================] - 2s 2ms/step - loss: 1.8037 - msle: 1.8037 - val_loss: 1.3631 - val_msle: 1.3631\n",
      "Epoch 2/5\n",
      "307/307 [==============================] - 1s 2ms/step - loss: 1.2405 - msle: 1.2405 - val_loss: 1.1367 - val_msle: 1.1367\n",
      "Epoch 3/5\n",
      "307/307 [==============================] - 1s 2ms/step - loss: 1.1376 - msle: 1.1376 - val_loss: 1.0268 - val_msle: 1.0268\n",
      "Epoch 4/5\n",
      "307/307 [==============================] - 1s 2ms/step - loss: 1.0915 - msle: 1.0915 - val_loss: 1.0571 - val_msle: 1.0571\n",
      "Epoch 5/5\n",
      "307/307 [==============================] - 1s 2ms/step - loss: 1.0571 - msle: 1.0571 - val_loss: 0.9658 - val_msle: 0.9658\n"
     ]
    },
    {
     "name": "stderr",
     "output_type": "stream",
     "text": [
      "[I 2024-04-16 21:48:34,820] Trial 93 finished with value: 0.9658344388008118 and parameters: {'n_hidden': 5, 'n_neurons': 22, 'learning_rate': 0.0020882855739074954}. Best is trial 1 with value: 22.910757064819336.\n"
     ]
    },
    {
     "name": "stdout",
     "output_type": "stream",
     "text": [
      "Epoch 1/5\n",
      "307/307 [==============================] - 2s 2ms/step - loss: 23.1158 - msle: 23.1158 - val_loss: 22.9108 - val_msle: 22.9108\n",
      "Epoch 2/5\n",
      "307/307 [==============================] - 1s 2ms/step - loss: 23.1158 - msle: 23.1158 - val_loss: 22.9108 - val_msle: 22.9108\n",
      "Epoch 3/5\n",
      "307/307 [==============================] - 1s 2ms/step - loss: 23.1158 - msle: 23.1158 - val_loss: 22.9108 - val_msle: 22.9108\n",
      "Epoch 4/5\n",
      "307/307 [==============================] - 1s 2ms/step - loss: 23.1158 - msle: 23.1158 - val_loss: 22.9108 - val_msle: 22.9108\n",
      "Epoch 5/5\n",
      "307/307 [==============================] - 1s 2ms/step - loss: 23.1158 - msle: 23.1158 - val_loss: 22.9108 - val_msle: 22.9108\n"
     ]
    },
    {
     "name": "stderr",
     "output_type": "stream",
     "text": [
      "[I 2024-04-16 21:48:39,086] Trial 94 finished with value: 22.910757064819336 and parameters: {'n_hidden': 6, 'n_neurons': 40, 'learning_rate': 0.001203842502583775}. Best is trial 1 with value: 22.910757064819336.\n"
     ]
    },
    {
     "name": "stdout",
     "output_type": "stream",
     "text": [
      "Epoch 1/5\n",
      "307/307 [==============================] - 2s 2ms/step - loss: 23.1158 - msle: 23.1158 - val_loss: 22.9108 - val_msle: 22.9108\n",
      "Epoch 2/5\n",
      "307/307 [==============================] - 1s 2ms/step - loss: 23.1158 - msle: 23.1158 - val_loss: 22.9108 - val_msle: 22.9108\n",
      "Epoch 3/5\n",
      "307/307 [==============================] - 1s 2ms/step - loss: 23.1158 - msle: 23.1158 - val_loss: 22.9108 - val_msle: 22.9108\n",
      "Epoch 4/5\n",
      "307/307 [==============================] - 1s 2ms/step - loss: 23.1158 - msle: 23.1158 - val_loss: 22.9108 - val_msle: 22.9108\n",
      "Epoch 5/5\n",
      "307/307 [==============================] - 1s 2ms/step - loss: 23.1158 - msle: 23.1158 - val_loss: 22.9108 - val_msle: 22.9108\n"
     ]
    },
    {
     "name": "stderr",
     "output_type": "stream",
     "text": [
      "[I 2024-04-16 21:48:42,997] Trial 95 finished with value: 22.910757064819336 and parameters: {'n_hidden': 5, 'n_neurons': 24, 'learning_rate': 0.0016346110151140014}. Best is trial 1 with value: 22.910757064819336.\n"
     ]
    },
    {
     "name": "stdout",
     "output_type": "stream",
     "text": [
      "Epoch 1/5\n",
      "307/307 [==============================] - 3s 3ms/step - loss: 2.1937 - msle: 2.1937 - val_loss: 2.0707 - val_msle: 2.0707\n",
      "Epoch 2/5\n",
      "307/307 [==============================] - 1s 2ms/step - loss: 1.9616 - msle: 1.9616 - val_loss: 2.0403 - val_msle: 2.0403\n",
      "Epoch 3/5\n",
      "307/307 [==============================] - 1s 2ms/step - loss: 1.9008 - msle: 1.9008 - val_loss: 1.9097 - val_msle: 1.9097\n",
      "Epoch 4/5\n",
      "307/307 [==============================] - 1s 2ms/step - loss: 1.6101 - msle: 1.6101 - val_loss: 1.4417 - val_msle: 1.4417\n",
      "Epoch 5/5\n",
      "307/307 [==============================] - 1s 2ms/step - loss: 1.2778 - msle: 1.2778 - val_loss: 1.2075 - val_msle: 1.2075\n"
     ]
    },
    {
     "name": "stderr",
     "output_type": "stream",
     "text": [
      "[I 2024-04-16 21:48:49,005] Trial 96 finished with value: 1.2075234651565552 and parameters: {'n_hidden': 7, 'n_neurons': 20, 'learning_rate': 0.00036887373061373057}. Best is trial 1 with value: 22.910757064819336.\n"
     ]
    },
    {
     "name": "stdout",
     "output_type": "stream",
     "text": [
      "Epoch 1/5\n",
      "307/307 [==============================] - 1s 2ms/step - loss: 1.9138 - msle: 1.9138 - val_loss: 2.1435 - val_msle: 2.1435\n",
      "Epoch 2/5\n",
      "307/307 [==============================] - 1s 2ms/step - loss: 1.6223 - msle: 1.6223 - val_loss: 1.4029 - val_msle: 1.4029\n",
      "Epoch 3/5\n",
      "307/307 [==============================] - 1s 2ms/step - loss: 1.3888 - msle: 1.3888 - val_loss: 1.1392 - val_msle: 1.1392\n",
      "Epoch 4/5\n",
      "307/307 [==============================] - 1s 2ms/step - loss: 1.1179 - msle: 1.1179 - val_loss: 1.0301 - val_msle: 1.0301\n",
      "Epoch 5/5\n",
      "307/307 [==============================] - 1s 2ms/step - loss: 1.0582 - msle: 1.0582 - val_loss: 1.0016 - val_msle: 1.0016\n"
     ]
    },
    {
     "name": "stderr",
     "output_type": "stream",
     "text": [
      "[I 2024-04-16 21:48:52,993] Trial 97 finished with value: 1.0015885829925537 and parameters: {'n_hidden': 4, 'n_neurons': 28, 'learning_rate': 0.0020126222863883973}. Best is trial 1 with value: 22.910757064819336.\n"
     ]
    },
    {
     "name": "stdout",
     "output_type": "stream",
     "text": [
      "Epoch 1/5\n",
      "307/307 [==============================] - 1s 2ms/step - loss: 1.9014 - msle: 1.9014 - val_loss: 1.8960 - val_msle: 1.8960\n",
      "Epoch 2/5\n",
      "307/307 [==============================] - 0s 2ms/step - loss: 1.7389 - msle: 1.7389 - val_loss: 1.7022 - val_msle: 1.7022\n",
      "Epoch 3/5\n",
      "307/307 [==============================] - 0s 2ms/step - loss: 1.5695 - msle: 1.5695 - val_loss: 1.5215 - val_msle: 1.5215\n",
      "Epoch 4/5\n",
      "307/307 [==============================] - 0s 2ms/step - loss: 1.4547 - msle: 1.4547 - val_loss: 1.4351 - val_msle: 1.4351\n",
      "Epoch 5/5\n",
      "307/307 [==============================] - 0s 2ms/step - loss: 1.3897 - msle: 1.3897 - val_loss: 1.3463 - val_msle: 1.3463\n"
     ]
    },
    {
     "name": "stderr",
     "output_type": "stream",
     "text": [
      "[I 2024-04-16 21:48:56,166] Trial 98 finished with value: 1.3462544679641724 and parameters: {'n_hidden': 1, 'n_neurons': 19, 'learning_rate': 0.000801913068246844}. Best is trial 1 with value: 22.910757064819336.\n"
     ]
    },
    {
     "name": "stdout",
     "output_type": "stream",
     "text": [
      "Epoch 1/5\n",
      "307/307 [==============================] - 2s 2ms/step - loss: 23.1158 - msle: 23.1158 - val_loss: 22.9108 - val_msle: 22.9108\n",
      "Epoch 2/5\n",
      "307/307 [==============================] - 1s 2ms/step - loss: 23.1158 - msle: 23.1158 - val_loss: 22.9108 - val_msle: 22.9108\n",
      "Epoch 3/5\n",
      "307/307 [==============================] - 1s 2ms/step - loss: 23.1158 - msle: 23.1158 - val_loss: 22.9108 - val_msle: 22.9108\n",
      "Epoch 4/5\n",
      "307/307 [==============================] - 1s 2ms/step - loss: 23.1158 - msle: 23.1158 - val_loss: 22.9108 - val_msle: 22.9108\n",
      "Epoch 5/5\n",
      "307/307 [==============================] - 1s 2ms/step - loss: 23.1158 - msle: 23.1158 - val_loss: 22.9108 - val_msle: 22.9108\n"
     ]
    },
    {
     "name": "stderr",
     "output_type": "stream",
     "text": [
      "[I 2024-04-16 21:49:00,279] Trial 99 finished with value: 22.910757064819336 and parameters: {'n_hidden': 5, 'n_neurons': 25, 'learning_rate': 0.00018560432398704026}. Best is trial 1 with value: 22.910757064819336.\n"
     ]
    },
    {
     "name": "stdout",
     "output_type": "stream",
     "text": [
      "Number of finished trials: 100\n",
      "Best trial:\n",
      "  Value: 22.910757064819336\n",
      "  Params: \n",
      "    n_hidden: 1\n",
      "    n_neurons: 29\n",
      "    learning_rate: 0.00037760516612011163\n"
     ]
    }
   ],
   "source": [
    "import optuna\n",
    "\n",
    "study = optuna.create_study(direction=\"maximize\")\n",
    "study.optimize(objective, n_trials=100, timeout=600)\n",
    "\n",
    "print(\"Number of finished trials: {}\".format(len(study.trials)))\n",
    "\n",
    "print(\"Best trial:\")\n",
    "trial = study.best_trial\n",
    "\n",
    "print(\"  Value: {}\".format(trial.value))\n",
    "\n",
    "print(\"  Params: \")\n",
    "for key, value in trial.params.items():\n",
    "    print(\"    {}: {}\".format(key, value))"
   ]
  },
  {
   "cell_type": "markdown",
   "metadata": {
    "id": "cQoU9uS1lkM0"
   },
   "source": [
    "## Parte 5 - Pipeline\n",
    "\n",
    "\n",
    "\n",
    "*   Incorporar el estimador con mejor desempeño a un *pipeline* similar al implementado en el taller 3. Puede ser útil la librería [scikeras](https://adriangb.com/scikeras/stable/migration.html).\n",
    "*   Subir los resultados de los datos *test* a la página de la competencia.\n",
    "\n"
   ]
  },
  {
   "cell_type": "code",
   "execution_count": null,
   "metadata": {
    "colab": {
     "base_uri": "https://localhost:8080/"
    },
    "id": "hXPwnG-rhKN2",
    "outputId": "1f40a4c8-e48a-4cdb-bf22-03e86d33ae5e"
   },
   "outputs": [],
   "source": [
    "from sklearn.pipeline import Pipeline\n",
    "from sklearn.compose import ColumnTransformer\n",
    "\n",
    "categorical_cols = [\"season\", \"holiday\", \"workingday\", \"weather\", \"hour\", \"weekday\", \"month\", \"year\"]\n",
    "numerical_cols = [\"temp\", \"atemp\", \"humidty\", \"windspeed\"]\n",
    "\n",
    "preprocess = Pipeline([\n",
    "    ('encoding', \n",
    "])"
   ]
  },
  {
   "cell_type": "code",
   "execution_count": null,
   "metadata": {},
   "outputs": [],
   "source": []
  },
  {
   "cell_type": "markdown",
   "metadata": {},
   "source": [
    "## Parte 6 - Shapley Values\n",
    "\n",
    "- Siguiendo el [ejemplo](https://shap.readthedocs.io/en/latest/example_notebooks/overviews/An%20introduction%20to%20explainable%20AI%20with%20Shapley%20values.html) presentado en la sección *Explaining a non-additive boosted tree model* de la librería *shap*. Encuentre los shapley values para el mejor modelo que haya encontrado.\n",
    "- Elija una muestra y mediante la función *shap.plots.waterfall* observe la explicación de la predicción del modelo.\n",
    "\n",
    "Más explicación de los Shapley Values y su uso en la interpretabilidad de modelos de aprendizaje automático se puede encontrar [aquí](https://christophm.github.io/interpretable-ml-book/shapley.html)."
   ]
  },
  {
   "cell_type": "code",
   "execution_count": null,
   "metadata": {},
   "outputs": [],
   "source": []
  }
 ],
 "metadata": {
  "colab": {
   "collapsed_sections": [],
   "name": "Taller5_demanda_de_bicicletas_con_NNs_solucion.ipynb",
   "provenance": [],
   "toc_visible": true
  },
  "kernelspec": {
   "display_name": "Python 3 (ipykernel)",
   "language": "python",
   "name": "python3"
  },
  "language_info": {
   "codemirror_mode": {
    "name": "ipython",
    "version": 3
   },
   "file_extension": ".py",
   "mimetype": "text/x-python",
   "name": "python",
   "nbconvert_exporter": "python",
   "pygments_lexer": "ipython3",
   "version": "3.11.8"
  },
  "varInspector": {
   "cols": {
    "lenName": 16,
    "lenType": 16,
    "lenVar": 40
   },
   "kernels_config": {
    "python": {
     "delete_cmd_postfix": "",
     "delete_cmd_prefix": "del ",
     "library": "var_list.py",
     "varRefreshCmd": "print(var_dic_list())"
    },
    "r": {
     "delete_cmd_postfix": ") ",
     "delete_cmd_prefix": "rm(",
     "library": "var_list.r",
     "varRefreshCmd": "cat(var_dic_list()) "
    }
   },
   "types_to_exclude": [
    "module",
    "function",
    "builtin_function_or_method",
    "instance",
    "_Feature"
   ],
   "window_display": false
  },
  "vscode": {
   "interpreter": {
    "hash": "cf9ed6eb9f80a715f753bb5491e7f879990bf814a1e5372a2cadce9b619c9f4f"
   }
  }
 },
 "nbformat": 4,
 "nbformat_minor": 4
}

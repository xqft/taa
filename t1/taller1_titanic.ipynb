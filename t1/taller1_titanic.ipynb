{
 "cells": [
  {
   "cell_type": "markdown",
   "id": "56e6df09",
   "metadata": {
    "id": "presidential-train"
   },
   "source": [
    "#  <center> Taller  de Aprendizaje Automático </center>\n",
    "##  <center> Taller 1: Titanic  </center>"
   ]
  },
  {
   "cell_type": "markdown",
   "id": "641ec10d",
   "metadata": {
    "id": "functioning-mortality"
   },
   "source": [
    "En esta actividad se trabajará con el dataset [Titanic](https://www.kaggle.com/c/titanic/overview) disponible en Kaggle. El objetivo es predecir si un pasajero sobrevivirá a partir de atributos personales. La descripción de los atributos se encuentra en la misma [página](https://www.kaggle.com/c/titanic/data) en que se pueden bajar los datos. "
   ]
  },
  {
   "cell_type": "markdown",
   "id": "cf515408",
   "metadata": {
    "id": "immediate-rwanda"
   },
   "source": [
    "## Objetivos Generales del Taller\n",
    " - Abordar un problema de aprendizaje automático de punta a punta\n",
    " - Familiarizarse con la biblioteca **pandas** para levantar y explorar los datos\n",
    " - Familiarizarse con los **pipelines** de **scikit-learn** como una forma de resolver un problema en forma ordenada."
   ]
  },
  {
   "cell_type": "markdown",
   "id": "dce3faac",
   "metadata": {
    "id": "graphic-longitude"
   },
   "source": [
    "## Formas de trabajo \n",
    "\n",
    "Se podrá elegir entre dos formas de trabajo: instalación local o Colab. Para trabajar en clase Colab es completamente adecuado. Para ejecutar corridas que demanden mucho tiempo (por ejemplo, búsqueda de hiperparámetros) puede ser conveniente trabajar localmente. A continuación se explica cómo proceder en cada caso. Cualquiera sea la elección se recomienda trabajar con `scikit-learn>1.1.0`."
   ]
  },
  {
   "cell_type": "markdown",
   "id": "bd1f2c8d",
   "metadata": {
    "id": "similar-surgery"
   },
   "source": [
    "### Opción 1: Trabajar localmente"
   ]
  },
  {
   "cell_type": "markdown",
   "id": "6a69d951",
   "metadata": {
    "id": "40f58d99"
   },
   "source": [
    "####  Ambiente de Trabajo"
   ]
  },
  {
   "cell_type": "markdown",
   "id": "5337d0a6",
   "metadata": {
    "id": "2ceaed09"
   },
   "source": [
    "Deberá trabajar en su propio ambiente de desarrollo. Ej: **conda environment**.  En caso de no contar con uno deberá crearlo ejecutando la siguiente línea de comando: \n",
    "\n",
    "`conda create -n TAA-py311 python=3.11`  \n",
    "\n",
    "Una vez creado se procede a activarlo: \n",
    "\n",
    "`conda activate TAA-py311`  \n",
    "\n",
    "Una vez activado se instalan en el entorno los paquetes que se utilizaran: \n",
    "\n",
    "`pip install numpy matplotlib pandas \"scikit-learn>1.1.0\" notebook`   \n",
    "\n",
    "Una vez finalizada la instalación abra el Jupyter Notebook:\n",
    "\n",
    "`jupyter-notebook`"
   ]
  },
  {
   "cell_type": "markdown",
   "id": "71a72bc4",
   "metadata": {
    "id": "fresh-prize"
   },
   "source": [
    "Los paquetes faltantes se pueden instalar desde el notebook haciendo:    \n",
    "\n",
    "`!pip install paquete_faltante`"
   ]
  },
  {
   "cell_type": "markdown",
   "id": "e83900c9",
   "metadata": {
    "id": "baeed628",
    "jp-MarkdownHeadingCollapsed": true
   },
   "source": [
    "####  Configuración del API token "
   ]
  },
  {
   "cell_type": "markdown",
   "id": "0f84354a",
   "metadata": {
    "id": "65511396"
   },
   "source": [
    "A continuación, vaya a su cuenta de [Kaggle](https://www.kaggle.com/) (o cree una si aún no lo ha hecho), haga clic en el icono de perfil en la esquina superior derecha de la pantalla y seleccione \"Your Account\" en la lista desplegable. Luego, seleccione la viñeta \"Account\" y haga clic en \"Create new API token\". Entonces un archivo llamado kaggle.json se descargará automáticamente a su carpeta de descargas. Este archivo contiene sus credenciales de inicio de sesión para permitirle acceder a la API."
   ]
  },
  {
   "cell_type": "markdown",
   "id": "5679841f",
   "metadata": {
    "id": "078a13be"
   },
   "source": [
    "Cree (en caso de no existir) la carpeta `.kaggle`. Modifique *nombre_usuario* por el nombre del usuario donde está trabajando."
   ]
  },
  {
   "cell_type": "markdown",
   "id": "634e8a7b",
   "metadata": {
    "id": "efficient-thailand",
    "jp-MarkdownHeadingCollapsed": true
   },
   "source": [
    "### Opción 2:  Trabajar en *Colab*. "
   ]
  },
  {
   "cell_type": "markdown",
   "id": "a1ee4a73",
   "metadata": {
    "id": "compound-criminal"
   },
   "source": [
    "Se puede trabajar en Google Colab. Para ello es necesario contar con una cuenta de **google drive** y ejecutar un notebook almacenado en dicha cuenta. De lo contrario, no se conservarán los cambios realizados en la sesión. En caso de ya contar con una cuenta, se puede abrir el notebook y luego ir a `Archivo-->Guardar una copia en drive`.  \n",
    "\n",
    "<table align=\"left\">\n",
    "  <td>\n",
    "    <a target=\"_blank\" href=\"https://colab.research.google.com/github/TAA-fing/TAA-2024/blob/main/talleres/taller1_titanic.ipynb\"><img src=\"https://www.tensorflow.org/images/colab_logo_32px.png\" />Ejecutar en Google Colab</a>\n",
    "  </td>\n",
    "</table>"
   ]
  },
  {
   "cell_type": "markdown",
   "id": "a637c9fa",
   "metadata": {
    "id": "e_rith_Skga5"
   },
   "source": [
    "La siguiente celda monta el disco personal del drive:"
   ]
  },
  {
   "cell_type": "markdown",
   "id": "7559ffd0-b664-4a65-aef7-7a7107a8b487",
   "metadata": {},
   "source": [
    "####  Configuración del API token en Colab"
   ]
  },
  {
   "cell_type": "markdown",
   "id": "6d5f5528",
   "metadata": {
    "id": "9WC47WBdkeqj"
   },
   "source": [
    "A continuación, vaya a su cuenta de [Kaggle](https://www.kaggle.com/) (o cree una si aún no lo ha hecho), haga clic en el icono de perfil en la esquina superior derecha de la pantalla y seleccione \"Your Account\" en la lista desplegable. Luego, seleccione la viñeta \"Settings\" y en la sección API haga clic en \"Create new token\". Entonces un archivo llamado kaggle.json se descargará automáticamente a su carpeta de descargas. Este archivo contiene sus credenciales de inicio de sesión para permitirle acceder a la API."
   ]
  },
  {
   "cell_type": "markdown",
   "id": "1034537a",
   "metadata": {
    "id": "changing-enhancement"
   },
   "source": [
    "La siguiente celda realiza la configuración necesaria para obtener datos desde la plataforma Kaggle. Le solicitará que suba el archivo kaggle.json descargado anteriormente."
   ]
  },
  {
   "cell_type": "markdown",
   "id": "f029977e-fb92-4680-8b71-2a4bcf26ff57",
   "metadata": {},
   "source": [
    "## Descarga de los datos"
   ]
  },
  {
   "cell_type": "markdown",
   "id": "d82f8112-3316-4325-869f-693ae24ff829",
   "metadata": {},
   "source": [
    "###  Unirse a la competición"
   ]
  },
  {
   "cell_type": "markdown",
   "id": "25b171b7-ee0b-43a2-be69-5ada231a1146",
   "metadata": {},
   "source": [
    "Vaya a la competición de [Titanic](https://www.kaggle.com/c/titanic) en Kaggle y presione **Join Competition**. "
   ]
  },
  {
   "cell_type": "markdown",
   "id": "d50f73ee-3d4d-4ca8-9ed6-ec93b14c8b64",
   "metadata": {},
   "source": [
    "###  Instalar el paquete *kaggle*"
   ]
  },
  {
   "cell_type": "markdown",
   "id": "ab102661",
   "metadata": {
    "id": "a8d1d5d7"
   },
   "source": [
    "Para obtener los datos de Kaggle primero se instalará la librería de **Kaggle**"
   ]
  },
  {
   "cell_type": "code",
   "execution_count": 30,
   "id": "b3e53070",
   "metadata": {
    "ExecuteTime": {
     "end_time": "2023-03-08T11:54:51.678223Z",
     "start_time": "2023-03-08T11:54:50.184110Z"
    },
    "id": "7a237ab0",
    "scrolled": true
   },
   "outputs": [],
   "source": [
    "%%script true\n",
    "!pip install kaggle"
   ]
  },
  {
   "cell_type": "markdown",
   "id": "8d0de337",
   "metadata": {
    "id": "616b3cae"
   },
   "source": [
    "Si la instalación fue exitosa, el siguiente comando debería mostrar una lista de todas las competiciones activas de Kaggle. "
   ]
  },
  {
   "cell_type": "code",
   "execution_count": 31,
   "id": "b769ca4a",
   "metadata": {
    "id": "c2435eef",
    "outputId": "ebf3675e-9000-405a-fcf0-46b3d4d5d4f8"
   },
   "outputs": [],
   "source": [
    "%%script true\n",
    "!mv ../.kaggle/ ~\n",
    "!kaggle competitions list"
   ]
  },
  {
   "cell_type": "markdown",
   "id": "87bb5824-2df1-400c-ae4e-a95ea5647a8f",
   "metadata": {},
   "source": [
    "####  Descargar y descomprimir los datos"
   ]
  },
  {
   "cell_type": "markdown",
   "id": "d9032e65",
   "metadata": {
    "id": "fossil-australian"
   },
   "source": [
    "Ejecutar el siguiente comando para bajar los datos de la competencia *titanic*."
   ]
  },
  {
   "cell_type": "code",
   "execution_count": 32,
   "id": "de5aee66",
   "metadata": {
    "colab": {
     "base_uri": "https://localhost:8080/"
    },
    "executionInfo": {
     "elapsed": 2104,
     "status": "ok",
     "timestamp": 1645451663400,
     "user": {
      "displayName": "Emiliano Acevedo",
      "photoUrl": "https://lh3.googleusercontent.com/a/default-user=s64",
      "userId": "09255842080725499836"
     },
     "user_tz": 180
    },
    "id": "independent-eagle",
    "outputId": "bfe00bd3-81a5-487f-e60f-8b6e2ce1a189"
   },
   "outputs": [],
   "source": [
    "%%script true\n",
    "!kaggle competitions download -c titanic"
   ]
  },
  {
   "cell_type": "markdown",
   "id": "7ca61700",
   "metadata": {
    "id": "e60a6af5"
   },
   "source": [
    "Descomprima el archivo descargado:"
   ]
  },
  {
   "cell_type": "code",
   "execution_count": 33,
   "id": "5891d0bb",
   "metadata": {
    "id": "0c354714",
    "outputId": "61a66a02-6248-4c03-a6a6-b1eb711b2970"
   },
   "outputs": [],
   "source": [
    "%%script true\n",
    "# Forma 1\n",
    "# !unzip titanic.zip\n",
    "\n",
    "# Forma 2\n",
    "import zipfile\n",
    "with zipfile.ZipFile(\"titanic.zip\",\"r\") as zip_ref:\n",
    "    zip_ref.extractall(\"./\")"
   ]
  },
  {
   "cell_type": "markdown",
   "id": "e1ad0f59",
   "metadata": {
    "id": "selected-expression"
   },
   "source": [
    "##  Parte 1 - Carga de datos"
   ]
  },
  {
   "cell_type": "markdown",
   "id": "cc06be81",
   "metadata": {
    "id": "hundred-impact"
   },
   "source": [
    "#### Ejercicios:\n",
    "\n",
    " - Levantar el conjunto de entrenamiento utilizando el método `read_csv()` de la biblioteca **pandas**. \n",
    " - Explorar los métodos `head()`, `info()` y `describe()` para obtener información relevante de los datos. "
   ]
  },
  {
   "cell_type": "code",
   "execution_count": 34,
   "id": "e8f54886",
   "metadata": {},
   "outputs": [
    {
     "name": "stdout",
     "output_type": "stream",
     "text": [
      "Requirement already satisfied: pandas in /opt/conda/lib/python3.10/site-packages (2.2.1)\n",
      "Requirement already satisfied: matplotlib in /opt/conda/lib/python3.10/site-packages (3.8.3)\n",
      "Requirement already satisfied: scikit-learn in /opt/conda/lib/python3.10/site-packages (1.4.1.post1)\n",
      "Requirement already satisfied: pytz>=2020.1 in /opt/conda/lib/python3.10/site-packages (from pandas) (2022.1)\n",
      "Requirement already satisfied: python-dateutil>=2.8.2 in /opt/conda/lib/python3.10/site-packages (from pandas) (2.8.2)\n",
      "Requirement already satisfied: numpy<2,>=1.22.4 in /opt/conda/lib/python3.10/site-packages (from pandas) (1.26.4)\n",
      "Requirement already satisfied: tzdata>=2022.7 in /opt/conda/lib/python3.10/site-packages (from pandas) (2024.1)\n",
      "Requirement already satisfied: pillow>=8 in /opt/conda/lib/python3.10/site-packages (from matplotlib) (10.2.0)\n",
      "Requirement already satisfied: packaging>=20.0 in /opt/conda/lib/python3.10/site-packages (from matplotlib) (21.3)\n",
      "Requirement already satisfied: fonttools>=4.22.0 in /opt/conda/lib/python3.10/site-packages (from matplotlib) (4.50.0)\n",
      "Requirement already satisfied: cycler>=0.10 in /opt/conda/lib/python3.10/site-packages (from matplotlib) (0.12.1)\n",
      "Requirement already satisfied: pyparsing>=2.3.1 in /opt/conda/lib/python3.10/site-packages (from matplotlib) (3.0.9)\n",
      "Requirement already satisfied: contourpy>=1.0.1 in /opt/conda/lib/python3.10/site-packages (from matplotlib) (1.2.0)\n",
      "Requirement already satisfied: kiwisolver>=1.3.1 in /opt/conda/lib/python3.10/site-packages (from matplotlib) (1.4.5)\n",
      "Requirement already satisfied: joblib>=1.2.0 in /opt/conda/lib/python3.10/site-packages (from scikit-learn) (1.3.2)\n",
      "Requirement already satisfied: threadpoolctl>=2.0.0 in /opt/conda/lib/python3.10/site-packages (from scikit-learn) (3.3.0)\n",
      "Requirement already satisfied: scipy>=1.6.0 in /opt/conda/lib/python3.10/site-packages (from scikit-learn) (1.12.0)\n",
      "Requirement already satisfied: six>=1.5 in /opt/conda/lib/python3.10/site-packages (from python-dateutil>=2.8.2->pandas) (1.16.0)\n"
     ]
    }
   ],
   "source": [
    "!pip install pandas matplotlib scikit-learn"
   ]
  },
  {
   "cell_type": "code",
   "execution_count": 35,
   "id": "53a6cc07",
   "metadata": {},
   "outputs": [],
   "source": [
    "import pandas as pd"
   ]
  },
  {
   "cell_type": "code",
   "execution_count": 36,
   "id": "36125d16-15eb-43b1-94e1-692f7aa75c90",
   "metadata": {},
   "outputs": [],
   "source": [
    "data_train = pd.read_csv('train.csv')"
   ]
  },
  {
   "cell_type": "code",
   "execution_count": 37,
   "id": "970240d0",
   "metadata": {},
   "outputs": [
    {
     "data": {
      "text/html": [
       "<div>\n",
       "<style scoped>\n",
       "    .dataframe tbody tr th:only-of-type {\n",
       "        vertical-align: middle;\n",
       "    }\n",
       "\n",
       "    .dataframe tbody tr th {\n",
       "        vertical-align: top;\n",
       "    }\n",
       "\n",
       "    .dataframe thead th {\n",
       "        text-align: right;\n",
       "    }\n",
       "</style>\n",
       "<table border=\"1\" class=\"dataframe\">\n",
       "  <thead>\n",
       "    <tr style=\"text-align: right;\">\n",
       "      <th></th>\n",
       "      <th>PassengerId</th>\n",
       "      <th>Survived</th>\n",
       "      <th>Pclass</th>\n",
       "      <th>Age</th>\n",
       "      <th>SibSp</th>\n",
       "      <th>Parch</th>\n",
       "      <th>Fare</th>\n",
       "    </tr>\n",
       "  </thead>\n",
       "  <tbody>\n",
       "    <tr>\n",
       "      <th>count</th>\n",
       "      <td>891.000000</td>\n",
       "      <td>891.000000</td>\n",
       "      <td>891.000000</td>\n",
       "      <td>714.000000</td>\n",
       "      <td>891.000000</td>\n",
       "      <td>891.000000</td>\n",
       "      <td>891.000000</td>\n",
       "    </tr>\n",
       "    <tr>\n",
       "      <th>mean</th>\n",
       "      <td>446.000000</td>\n",
       "      <td>0.383838</td>\n",
       "      <td>2.308642</td>\n",
       "      <td>29.699118</td>\n",
       "      <td>0.523008</td>\n",
       "      <td>0.381594</td>\n",
       "      <td>32.204208</td>\n",
       "    </tr>\n",
       "    <tr>\n",
       "      <th>std</th>\n",
       "      <td>257.353842</td>\n",
       "      <td>0.486592</td>\n",
       "      <td>0.836071</td>\n",
       "      <td>14.526497</td>\n",
       "      <td>1.102743</td>\n",
       "      <td>0.806057</td>\n",
       "      <td>49.693429</td>\n",
       "    </tr>\n",
       "    <tr>\n",
       "      <th>min</th>\n",
       "      <td>1.000000</td>\n",
       "      <td>0.000000</td>\n",
       "      <td>1.000000</td>\n",
       "      <td>0.420000</td>\n",
       "      <td>0.000000</td>\n",
       "      <td>0.000000</td>\n",
       "      <td>0.000000</td>\n",
       "    </tr>\n",
       "    <tr>\n",
       "      <th>25%</th>\n",
       "      <td>223.500000</td>\n",
       "      <td>0.000000</td>\n",
       "      <td>2.000000</td>\n",
       "      <td>20.125000</td>\n",
       "      <td>0.000000</td>\n",
       "      <td>0.000000</td>\n",
       "      <td>7.910400</td>\n",
       "    </tr>\n",
       "    <tr>\n",
       "      <th>50%</th>\n",
       "      <td>446.000000</td>\n",
       "      <td>0.000000</td>\n",
       "      <td>3.000000</td>\n",
       "      <td>28.000000</td>\n",
       "      <td>0.000000</td>\n",
       "      <td>0.000000</td>\n",
       "      <td>14.454200</td>\n",
       "    </tr>\n",
       "    <tr>\n",
       "      <th>75%</th>\n",
       "      <td>668.500000</td>\n",
       "      <td>1.000000</td>\n",
       "      <td>3.000000</td>\n",
       "      <td>38.000000</td>\n",
       "      <td>1.000000</td>\n",
       "      <td>0.000000</td>\n",
       "      <td>31.000000</td>\n",
       "    </tr>\n",
       "    <tr>\n",
       "      <th>max</th>\n",
       "      <td>891.000000</td>\n",
       "      <td>1.000000</td>\n",
       "      <td>3.000000</td>\n",
       "      <td>80.000000</td>\n",
       "      <td>8.000000</td>\n",
       "      <td>6.000000</td>\n",
       "      <td>512.329200</td>\n",
       "    </tr>\n",
       "  </tbody>\n",
       "</table>\n",
       "</div>"
      ],
      "text/plain": [
       "       PassengerId    Survived      Pclass         Age       SibSp  \\\n",
       "count   891.000000  891.000000  891.000000  714.000000  891.000000   \n",
       "mean    446.000000    0.383838    2.308642   29.699118    0.523008   \n",
       "std     257.353842    0.486592    0.836071   14.526497    1.102743   \n",
       "min       1.000000    0.000000    1.000000    0.420000    0.000000   \n",
       "25%     223.500000    0.000000    2.000000   20.125000    0.000000   \n",
       "50%     446.000000    0.000000    3.000000   28.000000    0.000000   \n",
       "75%     668.500000    1.000000    3.000000   38.000000    1.000000   \n",
       "max     891.000000    1.000000    3.000000   80.000000    8.000000   \n",
       "\n",
       "            Parch        Fare  \n",
       "count  891.000000  891.000000  \n",
       "mean     0.381594   32.204208  \n",
       "std      0.806057   49.693429  \n",
       "min      0.000000    0.000000  \n",
       "25%      0.000000    7.910400  \n",
       "50%      0.000000   14.454200  \n",
       "75%      0.000000   31.000000  \n",
       "max      6.000000  512.329200  "
      ]
     },
     "execution_count": 37,
     "metadata": {},
     "output_type": "execute_result"
    }
   ],
   "source": [
    "data_train.describe()"
   ]
  },
  {
   "cell_type": "code",
   "execution_count": 38,
   "id": "108980b1",
   "metadata": {},
   "outputs": [
    {
     "data": {
      "text/html": [
       "<div>\n",
       "<style scoped>\n",
       "    .dataframe tbody tr th:only-of-type {\n",
       "        vertical-align: middle;\n",
       "    }\n",
       "\n",
       "    .dataframe tbody tr th {\n",
       "        vertical-align: top;\n",
       "    }\n",
       "\n",
       "    .dataframe thead th {\n",
       "        text-align: right;\n",
       "    }\n",
       "</style>\n",
       "<table border=\"1\" class=\"dataframe\">\n",
       "  <thead>\n",
       "    <tr style=\"text-align: right;\">\n",
       "      <th></th>\n",
       "      <th>PassengerId</th>\n",
       "      <th>Survived</th>\n",
       "      <th>Pclass</th>\n",
       "      <th>Name</th>\n",
       "      <th>Sex</th>\n",
       "      <th>Age</th>\n",
       "      <th>SibSp</th>\n",
       "      <th>Parch</th>\n",
       "      <th>Ticket</th>\n",
       "      <th>Fare</th>\n",
       "      <th>Cabin</th>\n",
       "      <th>Embarked</th>\n",
       "    </tr>\n",
       "  </thead>\n",
       "  <tbody>\n",
       "    <tr>\n",
       "      <th>0</th>\n",
       "      <td>1</td>\n",
       "      <td>0</td>\n",
       "      <td>3</td>\n",
       "      <td>Braund, Mr. Owen Harris</td>\n",
       "      <td>male</td>\n",
       "      <td>22.0</td>\n",
       "      <td>1</td>\n",
       "      <td>0</td>\n",
       "      <td>A/5 21171</td>\n",
       "      <td>7.2500</td>\n",
       "      <td>NaN</td>\n",
       "      <td>S</td>\n",
       "    </tr>\n",
       "    <tr>\n",
       "      <th>1</th>\n",
       "      <td>2</td>\n",
       "      <td>1</td>\n",
       "      <td>1</td>\n",
       "      <td>Cumings, Mrs. John Bradley (Florence Briggs Th...</td>\n",
       "      <td>female</td>\n",
       "      <td>38.0</td>\n",
       "      <td>1</td>\n",
       "      <td>0</td>\n",
       "      <td>PC 17599</td>\n",
       "      <td>71.2833</td>\n",
       "      <td>C85</td>\n",
       "      <td>C</td>\n",
       "    </tr>\n",
       "    <tr>\n",
       "      <th>2</th>\n",
       "      <td>3</td>\n",
       "      <td>1</td>\n",
       "      <td>3</td>\n",
       "      <td>Heikkinen, Miss. Laina</td>\n",
       "      <td>female</td>\n",
       "      <td>26.0</td>\n",
       "      <td>0</td>\n",
       "      <td>0</td>\n",
       "      <td>STON/O2. 3101282</td>\n",
       "      <td>7.9250</td>\n",
       "      <td>NaN</td>\n",
       "      <td>S</td>\n",
       "    </tr>\n",
       "    <tr>\n",
       "      <th>3</th>\n",
       "      <td>4</td>\n",
       "      <td>1</td>\n",
       "      <td>1</td>\n",
       "      <td>Futrelle, Mrs. Jacques Heath (Lily May Peel)</td>\n",
       "      <td>female</td>\n",
       "      <td>35.0</td>\n",
       "      <td>1</td>\n",
       "      <td>0</td>\n",
       "      <td>113803</td>\n",
       "      <td>53.1000</td>\n",
       "      <td>C123</td>\n",
       "      <td>S</td>\n",
       "    </tr>\n",
       "    <tr>\n",
       "      <th>4</th>\n",
       "      <td>5</td>\n",
       "      <td>0</td>\n",
       "      <td>3</td>\n",
       "      <td>Allen, Mr. William Henry</td>\n",
       "      <td>male</td>\n",
       "      <td>35.0</td>\n",
       "      <td>0</td>\n",
       "      <td>0</td>\n",
       "      <td>373450</td>\n",
       "      <td>8.0500</td>\n",
       "      <td>NaN</td>\n",
       "      <td>S</td>\n",
       "    </tr>\n",
       "  </tbody>\n",
       "</table>\n",
       "</div>"
      ],
      "text/plain": [
       "   PassengerId  Survived  Pclass  \\\n",
       "0            1         0       3   \n",
       "1            2         1       1   \n",
       "2            3         1       3   \n",
       "3            4         1       1   \n",
       "4            5         0       3   \n",
       "\n",
       "                                                Name     Sex   Age  SibSp  \\\n",
       "0                            Braund, Mr. Owen Harris    male  22.0      1   \n",
       "1  Cumings, Mrs. John Bradley (Florence Briggs Th...  female  38.0      1   \n",
       "2                             Heikkinen, Miss. Laina  female  26.0      0   \n",
       "3       Futrelle, Mrs. Jacques Heath (Lily May Peel)  female  35.0      1   \n",
       "4                           Allen, Mr. William Henry    male  35.0      0   \n",
       "\n",
       "   Parch            Ticket     Fare Cabin Embarked  \n",
       "0      0         A/5 21171   7.2500   NaN        S  \n",
       "1      0          PC 17599  71.2833   C85        C  \n",
       "2      0  STON/O2. 3101282   7.9250   NaN        S  \n",
       "3      0            113803  53.1000  C123        S  \n",
       "4      0            373450   8.0500   NaN        S  "
      ]
     },
     "execution_count": 38,
     "metadata": {},
     "output_type": "execute_result"
    }
   ],
   "source": [
    "data_train.head()"
   ]
  },
  {
   "cell_type": "code",
   "execution_count": 39,
   "id": "78821e1c",
   "metadata": {},
   "outputs": [
    {
     "name": "stdout",
     "output_type": "stream",
     "text": [
      "<class 'pandas.core.frame.DataFrame'>\n",
      "RangeIndex: 891 entries, 0 to 890\n",
      "Data columns (total 12 columns):\n",
      " #   Column       Non-Null Count  Dtype  \n",
      "---  ------       --------------  -----  \n",
      " 0   PassengerId  891 non-null    int64  \n",
      " 1   Survived     891 non-null    int64  \n",
      " 2   Pclass       891 non-null    int64  \n",
      " 3   Name         891 non-null    object \n",
      " 4   Sex          891 non-null    object \n",
      " 5   Age          714 non-null    float64\n",
      " 6   SibSp        891 non-null    int64  \n",
      " 7   Parch        891 non-null    int64  \n",
      " 8   Ticket       891 non-null    object \n",
      " 9   Fare         891 non-null    float64\n",
      " 10  Cabin        204 non-null    object \n",
      " 11  Embarked     889 non-null    object \n",
      "dtypes: float64(2), int64(5), object(5)\n",
      "memory usage: 83.7+ KB\n"
     ]
    }
   ],
   "source": [
    "data_train.info()"
   ]
  },
  {
   "cell_type": "markdown",
   "id": "4c36e4b4",
   "metadata": {
    "id": "amber-scenario"
   },
   "source": [
    "## Parte 2 - Exploración con pandas"
   ]
  },
  {
   "cell_type": "markdown",
   "id": "78b551e2",
   "metadata": {
    "id": "inclusive-ministry",
    "solution2": "shown",
    "solution2_first": true
   },
   "source": [
    "#### Ejemplos de manipulación con Pandas  "
   ]
  },
  {
   "cell_type": "markdown",
   "id": "29fe4d41",
   "metadata": {
    "id": "secure-davis",
    "solution2": "shown"
   },
   "source": [
    "**1)** Ejemplo de filtrado utilizando `df.loc[..]`. ¿Quiénes eran los pasajeros mayores de 60 años que viajaban en tercera clase? ¿Cuáles sobrevivieron?"
   ]
  },
  {
   "cell_type": "code",
   "execution_count": 40,
   "id": "d96579c7",
   "metadata": {
    "ExecuteTime": {
     "end_time": "2022-02-21T11:31:58.517283Z",
     "start_time": "2022-02-21T11:31:58.493347Z"
    },
    "id": "convertible-liver",
    "outputId": "5a7282e5-9d58-44cc-d955-a4e76dd1422b",
    "solution2": "shown"
   },
   "outputs": [
    {
     "data": {
      "text/html": [
       "<div>\n",
       "<style scoped>\n",
       "    .dataframe tbody tr th:only-of-type {\n",
       "        vertical-align: middle;\n",
       "    }\n",
       "\n",
       "    .dataframe tbody tr th {\n",
       "        vertical-align: top;\n",
       "    }\n",
       "\n",
       "    .dataframe thead th {\n",
       "        text-align: right;\n",
       "    }\n",
       "</style>\n",
       "<table border=\"1\" class=\"dataframe\">\n",
       "  <thead>\n",
       "    <tr style=\"text-align: right;\">\n",
       "      <th></th>\n",
       "      <th>PassengerId</th>\n",
       "      <th>Survived</th>\n",
       "      <th>Pclass</th>\n",
       "      <th>Name</th>\n",
       "      <th>Sex</th>\n",
       "      <th>Age</th>\n",
       "      <th>SibSp</th>\n",
       "      <th>Parch</th>\n",
       "      <th>Ticket</th>\n",
       "      <th>Fare</th>\n",
       "      <th>Cabin</th>\n",
       "      <th>Embarked</th>\n",
       "    </tr>\n",
       "  </thead>\n",
       "  <tbody>\n",
       "    <tr>\n",
       "      <th>116</th>\n",
       "      <td>117</td>\n",
       "      <td>0</td>\n",
       "      <td>3</td>\n",
       "      <td>Connors, Mr. Patrick</td>\n",
       "      <td>male</td>\n",
       "      <td>70.5</td>\n",
       "      <td>0</td>\n",
       "      <td>0</td>\n",
       "      <td>370369</td>\n",
       "      <td>7.7500</td>\n",
       "      <td>NaN</td>\n",
       "      <td>Q</td>\n",
       "    </tr>\n",
       "    <tr>\n",
       "      <th>280</th>\n",
       "      <td>281</td>\n",
       "      <td>0</td>\n",
       "      <td>3</td>\n",
       "      <td>Duane, Mr. Frank</td>\n",
       "      <td>male</td>\n",
       "      <td>65.0</td>\n",
       "      <td>0</td>\n",
       "      <td>0</td>\n",
       "      <td>336439</td>\n",
       "      <td>7.7500</td>\n",
       "      <td>NaN</td>\n",
       "      <td>Q</td>\n",
       "    </tr>\n",
       "    <tr>\n",
       "      <th>326</th>\n",
       "      <td>327</td>\n",
       "      <td>0</td>\n",
       "      <td>3</td>\n",
       "      <td>Nysveen, Mr. Johan Hansen</td>\n",
       "      <td>male</td>\n",
       "      <td>61.0</td>\n",
       "      <td>0</td>\n",
       "      <td>0</td>\n",
       "      <td>345364</td>\n",
       "      <td>6.2375</td>\n",
       "      <td>NaN</td>\n",
       "      <td>S</td>\n",
       "    </tr>\n",
       "    <tr>\n",
       "      <th>483</th>\n",
       "      <td>484</td>\n",
       "      <td>1</td>\n",
       "      <td>3</td>\n",
       "      <td>Turkula, Mrs. (Hedwig)</td>\n",
       "      <td>female</td>\n",
       "      <td>63.0</td>\n",
       "      <td>0</td>\n",
       "      <td>0</td>\n",
       "      <td>4134</td>\n",
       "      <td>9.5875</td>\n",
       "      <td>NaN</td>\n",
       "      <td>S</td>\n",
       "    </tr>\n",
       "    <tr>\n",
       "      <th>851</th>\n",
       "      <td>852</td>\n",
       "      <td>0</td>\n",
       "      <td>3</td>\n",
       "      <td>Svensson, Mr. Johan</td>\n",
       "      <td>male</td>\n",
       "      <td>74.0</td>\n",
       "      <td>0</td>\n",
       "      <td>0</td>\n",
       "      <td>347060</td>\n",
       "      <td>7.7750</td>\n",
       "      <td>NaN</td>\n",
       "      <td>S</td>\n",
       "    </tr>\n",
       "  </tbody>\n",
       "</table>\n",
       "</div>"
      ],
      "text/plain": [
       "     PassengerId  Survived  Pclass                       Name     Sex   Age  \\\n",
       "116          117         0       3       Connors, Mr. Patrick    male  70.5   \n",
       "280          281         0       3           Duane, Mr. Frank    male  65.0   \n",
       "326          327         0       3  Nysveen, Mr. Johan Hansen    male  61.0   \n",
       "483          484         1       3     Turkula, Mrs. (Hedwig)  female  63.0   \n",
       "851          852         0       3        Svensson, Mr. Johan    male  74.0   \n",
       "\n",
       "     SibSp  Parch  Ticket    Fare Cabin Embarked  \n",
       "116      0      0  370369  7.7500   NaN        Q  \n",
       "280      0      0  336439  7.7500   NaN        Q  \n",
       "326      0      0  345364  6.2375   NaN        S  \n",
       "483      0      0    4134  9.5875   NaN        S  \n",
       "851      0      0  347060  7.7750   NaN        S  "
      ]
     },
     "execution_count": 40,
     "metadata": {},
     "output_type": "execute_result"
    }
   ],
   "source": [
    "data_train.loc[(data_train['Age'] > 60) & (data_train['Pclass'] == 3)]"
   ]
  },
  {
   "cell_type": "code",
   "execution_count": 41,
   "id": "05d27ef7",
   "metadata": {
    "ExecuteTime": {
     "end_time": "2022-02-21T11:31:59.100114Z",
     "start_time": "2022-02-21T11:31:59.077168Z"
    },
    "id": "environmental-merchandise",
    "outputId": "226ab91c-0f1e-4ea4-d3af-aae76847d359",
    "solution2": "shown"
   },
   "outputs": [
    {
     "data": {
      "text/html": [
       "<div>\n",
       "<style scoped>\n",
       "    .dataframe tbody tr th:only-of-type {\n",
       "        vertical-align: middle;\n",
       "    }\n",
       "\n",
       "    .dataframe tbody tr th {\n",
       "        vertical-align: top;\n",
       "    }\n",
       "\n",
       "    .dataframe thead th {\n",
       "        text-align: right;\n",
       "    }\n",
       "</style>\n",
       "<table border=\"1\" class=\"dataframe\">\n",
       "  <thead>\n",
       "    <tr style=\"text-align: right;\">\n",
       "      <th></th>\n",
       "      <th>PassengerId</th>\n",
       "      <th>Survived</th>\n",
       "      <th>Pclass</th>\n",
       "      <th>Name</th>\n",
       "      <th>Sex</th>\n",
       "      <th>Age</th>\n",
       "      <th>SibSp</th>\n",
       "      <th>Parch</th>\n",
       "      <th>Ticket</th>\n",
       "      <th>Fare</th>\n",
       "      <th>Cabin</th>\n",
       "      <th>Embarked</th>\n",
       "    </tr>\n",
       "  </thead>\n",
       "  <tbody>\n",
       "    <tr>\n",
       "      <th>483</th>\n",
       "      <td>484</td>\n",
       "      <td>1</td>\n",
       "      <td>3</td>\n",
       "      <td>Turkula, Mrs. (Hedwig)</td>\n",
       "      <td>female</td>\n",
       "      <td>63.0</td>\n",
       "      <td>0</td>\n",
       "      <td>0</td>\n",
       "      <td>4134</td>\n",
       "      <td>9.5875</td>\n",
       "      <td>NaN</td>\n",
       "      <td>S</td>\n",
       "    </tr>\n",
       "  </tbody>\n",
       "</table>\n",
       "</div>"
      ],
      "text/plain": [
       "     PassengerId  Survived  Pclass                    Name     Sex   Age  \\\n",
       "483          484         1       3  Turkula, Mrs. (Hedwig)  female  63.0   \n",
       "\n",
       "     SibSp  Parch Ticket    Fare Cabin Embarked  \n",
       "483      0      0   4134  9.5875   NaN        S  "
      ]
     },
     "execution_count": 41,
     "metadata": {},
     "output_type": "execute_result"
    }
   ],
   "source": [
    "data_train.loc[(data_train['Age'] > 60) & (data_train['Pclass'] == 3) & (data_train['Survived'] == 1)]"
   ]
  },
  {
   "cell_type": "markdown",
   "id": "82a9ada0",
   "metadata": {
    "id": "fallen-province",
    "solution2": "shown"
   },
   "source": [
    "**2)**  Ejemplo de manipular columnas y filas de dataframes. Generar un vector con las etiquetas a partir del nombre."
   ]
  },
  {
   "cell_type": "code",
   "execution_count": 42,
   "id": "c6c28f26",
   "metadata": {
    "ExecuteTime": {
     "end_time": "2022-02-21T11:32:00.227091Z",
     "start_time": "2022-02-21T11:32:00.213130Z"
    },
    "id": "continental-cabin",
    "outputId": "183e77c5-ec62-4bf6-b0cc-c0df6e19f5bd",
    "solution2": "shown"
   },
   "outputs": [
    {
     "data": {
      "text/plain": [
       "0      0\n",
       "1      1\n",
       "2      1\n",
       "3      1\n",
       "4      0\n",
       "      ..\n",
       "886    0\n",
       "887    1\n",
       "888    0\n",
       "889    1\n",
       "890    0\n",
       "Name: Survived, Length: 891, dtype: int64"
      ]
     },
     "execution_count": 42,
     "metadata": {},
     "output_type": "execute_result"
    }
   ],
   "source": [
    "y_target = data_train['Survived']\n",
    "y_target"
   ]
  },
  {
   "cell_type": "code",
   "execution_count": 43,
   "id": "c73da135",
   "metadata": {
    "ExecuteTime": {
     "end_time": "2022-02-21T11:32:00.748080Z",
     "start_time": "2022-02-21T11:32:00.738107Z"
    },
    "id": "charitable-dominant",
    "outputId": "490a4278-b32f-4774-82de-86a29957a789",
    "solution2": "shown"
   },
   "outputs": [
    {
     "data": {
      "text/plain": [
       "0      0\n",
       "1      1\n",
       "2      1\n",
       "3      1\n",
       "4      0\n",
       "      ..\n",
       "886    0\n",
       "887    1\n",
       "888    0\n",
       "889    1\n",
       "890    0\n",
       "Name: Survived, Length: 891, dtype: int64"
      ]
     },
     "execution_count": 43,
     "metadata": {},
     "output_type": "execute_result"
    }
   ],
   "source": [
    "y_target = data_train.loc[:, 'Survived']\n",
    "y_target"
   ]
  },
  {
   "cell_type": "markdown",
   "id": "2c2262fc-66ba-4a4e-b223-9a9a54140913",
   "metadata": {},
   "source": [
    "**3)** Generar el vector de etiquetas a partir del número de la columna.  "
   ]
  },
  {
   "cell_type": "code",
   "execution_count": 44,
   "id": "b49dbb48",
   "metadata": {
    "ExecuteTime": {
     "end_time": "2022-02-21T11:32:01.299941Z",
     "start_time": "2022-02-21T11:32:01.278002Z"
    },
    "id": "received-mother",
    "outputId": "b7195108-8ce0-49df-9d06-9466f0401618",
    "solution2": "shown"
   },
   "outputs": [
    {
     "name": "stdout",
     "output_type": "stream",
     "text": [
      "['PassengerId', 'Survived', 'Pclass', 'Name', 'Sex', 'Age', 'SibSp', 'Parch', 'Ticket', 'Fare', 'Cabin', 'Embarked']\n",
      "1\n"
     ]
    },
    {
     "data": {
      "text/plain": [
       "0      0\n",
       "1      1\n",
       "2      1\n",
       "3      1\n",
       "4      0\n",
       "      ..\n",
       "886    0\n",
       "887    1\n",
       "888    0\n",
       "889    1\n",
       "890    0\n",
       "Name: Survived, Length: 891, dtype: int64"
      ]
     },
     "execution_count": 44,
     "metadata": {},
     "output_type": "execute_result"
    }
   ],
   "source": [
    "column_names = data_train.columns.to_list()\n",
    "print(column_names)\n",
    "\n",
    "index_survived = column_names.index('Survived')\n",
    "print(index_survived)\n",
    "\n",
    "y_target = data_train.iloc[:,index_survived]\n",
    "y_target"
   ]
  },
  {
   "cell_type": "markdown",
   "id": "c3c447ee",
   "metadata": {
    "id": "coated-million"
   },
   "source": [
    "#### Ejercicios:\n",
    " - Identificar el atributo a predecir \n",
    " - Obtener el porcentaje de pasajeros del conjunto de entrenamiento que sobrevivió. ¿Es un problema de clases desbalanceadas? \n",
    " - Identificar los atributos numéricos y categóricos.\n",
    " - En caso de contar con datos categóricos identifique las categorías.\n",
    " - Obtener el porcentaje de pasajeros dentro de cada categoría que sobrevivió. Asegúrese de poder responder preguntas del tipo: ¿Qué porcentaje de mujeres sobrevivieron? ¿Cuál fue el porcentaje de paraseros de primera clase (PClass 1) que sobrevivió?)\n",
    " - Identificar y cuantificar datos faltantes.\n"
   ]
  },
  {
   "cell_type": "markdown",
   "id": "73e05bf8",
   "metadata": {},
   "source": [
    "El atributo a predecir es Survived"
   ]
  },
  {
   "cell_type": "code",
   "execution_count": 45,
   "id": "d56c7c3a-f76f-472f-a0b9-26a4eb35717c",
   "metadata": {},
   "outputs": [
    {
     "data": {
      "text/plain": [
       "0.3838383838383838"
      ]
     },
     "execution_count": 45,
     "metadata": {},
     "output_type": "execute_result"
    }
   ],
   "source": [
    "survived_ratio = data_train['Survived'].value_counts(normalize=True)[1]\n",
    "survived_ratio"
   ]
  },
  {
   "cell_type": "markdown",
   "id": "56cd84a7",
   "metadata": {},
   "source": [
    "El problema es moderadamente desbalanceado"
   ]
  },
  {
   "cell_type": "code",
   "execution_count": 46,
   "id": "f1dbba1e",
   "metadata": {},
   "outputs": [
    {
     "data": {
      "text/html": [
       "<div>\n",
       "<style scoped>\n",
       "    .dataframe tbody tr th:only-of-type {\n",
       "        vertical-align: middle;\n",
       "    }\n",
       "\n",
       "    .dataframe tbody tr th {\n",
       "        vertical-align: top;\n",
       "    }\n",
       "\n",
       "    .dataframe thead th {\n",
       "        text-align: right;\n",
       "    }\n",
       "</style>\n",
       "<table border=\"1\" class=\"dataframe\">\n",
       "  <thead>\n",
       "    <tr style=\"text-align: right;\">\n",
       "      <th></th>\n",
       "      <th>PassengerId</th>\n",
       "      <th>Survived</th>\n",
       "      <th>Pclass</th>\n",
       "      <th>Name</th>\n",
       "      <th>Sex</th>\n",
       "      <th>Age</th>\n",
       "      <th>SibSp</th>\n",
       "      <th>Parch</th>\n",
       "      <th>Ticket</th>\n",
       "      <th>Fare</th>\n",
       "      <th>Cabin</th>\n",
       "      <th>Embarked</th>\n",
       "    </tr>\n",
       "  </thead>\n",
       "  <tbody>\n",
       "    <tr>\n",
       "      <th>0</th>\n",
       "      <td>1</td>\n",
       "      <td>0</td>\n",
       "      <td>3</td>\n",
       "      <td>Braund, Mr. Owen Harris</td>\n",
       "      <td>male</td>\n",
       "      <td>22.0</td>\n",
       "      <td>1</td>\n",
       "      <td>0</td>\n",
       "      <td>A/5 21171</td>\n",
       "      <td>7.2500</td>\n",
       "      <td>NaN</td>\n",
       "      <td>S</td>\n",
       "    </tr>\n",
       "    <tr>\n",
       "      <th>1</th>\n",
       "      <td>2</td>\n",
       "      <td>1</td>\n",
       "      <td>1</td>\n",
       "      <td>Cumings, Mrs. John Bradley (Florence Briggs Th...</td>\n",
       "      <td>female</td>\n",
       "      <td>38.0</td>\n",
       "      <td>1</td>\n",
       "      <td>0</td>\n",
       "      <td>PC 17599</td>\n",
       "      <td>71.2833</td>\n",
       "      <td>C85</td>\n",
       "      <td>C</td>\n",
       "    </tr>\n",
       "    <tr>\n",
       "      <th>2</th>\n",
       "      <td>3</td>\n",
       "      <td>1</td>\n",
       "      <td>3</td>\n",
       "      <td>Heikkinen, Miss. Laina</td>\n",
       "      <td>female</td>\n",
       "      <td>26.0</td>\n",
       "      <td>0</td>\n",
       "      <td>0</td>\n",
       "      <td>STON/O2. 3101282</td>\n",
       "      <td>7.9250</td>\n",
       "      <td>NaN</td>\n",
       "      <td>S</td>\n",
       "    </tr>\n",
       "    <tr>\n",
       "      <th>3</th>\n",
       "      <td>4</td>\n",
       "      <td>1</td>\n",
       "      <td>1</td>\n",
       "      <td>Futrelle, Mrs. Jacques Heath (Lily May Peel)</td>\n",
       "      <td>female</td>\n",
       "      <td>35.0</td>\n",
       "      <td>1</td>\n",
       "      <td>0</td>\n",
       "      <td>113803</td>\n",
       "      <td>53.1000</td>\n",
       "      <td>C123</td>\n",
       "      <td>S</td>\n",
       "    </tr>\n",
       "    <tr>\n",
       "      <th>4</th>\n",
       "      <td>5</td>\n",
       "      <td>0</td>\n",
       "      <td>3</td>\n",
       "      <td>Allen, Mr. William Henry</td>\n",
       "      <td>male</td>\n",
       "      <td>35.0</td>\n",
       "      <td>0</td>\n",
       "      <td>0</td>\n",
       "      <td>373450</td>\n",
       "      <td>8.0500</td>\n",
       "      <td>NaN</td>\n",
       "      <td>S</td>\n",
       "    </tr>\n",
       "  </tbody>\n",
       "</table>\n",
       "</div>"
      ],
      "text/plain": [
       "   PassengerId  Survived  Pclass  \\\n",
       "0            1         0       3   \n",
       "1            2         1       1   \n",
       "2            3         1       3   \n",
       "3            4         1       1   \n",
       "4            5         0       3   \n",
       "\n",
       "                                                Name     Sex   Age  SibSp  \\\n",
       "0                            Braund, Mr. Owen Harris    male  22.0      1   \n",
       "1  Cumings, Mrs. John Bradley (Florence Briggs Th...  female  38.0      1   \n",
       "2                             Heikkinen, Miss. Laina  female  26.0      0   \n",
       "3       Futrelle, Mrs. Jacques Heath (Lily May Peel)  female  35.0      1   \n",
       "4                           Allen, Mr. William Henry    male  35.0      0   \n",
       "\n",
       "   Parch            Ticket     Fare Cabin Embarked  \n",
       "0      0         A/5 21171   7.2500   NaN        S  \n",
       "1      0          PC 17599  71.2833   C85        C  \n",
       "2      0  STON/O2. 3101282   7.9250   NaN        S  \n",
       "3      0            113803  53.1000  C123        S  \n",
       "4      0            373450   8.0500   NaN        S  "
      ]
     },
     "execution_count": 46,
     "metadata": {},
     "output_type": "execute_result"
    }
   ],
   "source": [
    "data_train.head()"
   ]
  },
  {
   "cell_type": "code",
   "execution_count": 47,
   "id": "64747240",
   "metadata": {},
   "outputs": [
    {
     "data": {
      "text/plain": [
       "array([0, 1, 2, 5, 3, 4, 6])"
      ]
     },
     "execution_count": 47,
     "metadata": {},
     "output_type": "execute_result"
    }
   ],
   "source": [
    "data_train['Parch'].unique()"
   ]
  },
  {
   "cell_type": "code",
   "execution_count": 48,
   "id": "2122012d",
   "metadata": {},
   "outputs": [],
   "source": [
    "numerical_attr = pd.Series(['Age', 'Fare'])\n",
    "categorical_attr = pd.Series(['Pclass', 'Sex', 'SibSp', 'Parch', 'Cabin', 'Embarked'])"
   ]
  },
  {
   "cell_type": "code",
   "execution_count": 49,
   "id": "d2c96c61",
   "metadata": {},
   "outputs": [
    {
     "name": "stderr",
     "output_type": "stream",
     "text": [
      "/tmp/ipykernel_10469/852761177.py:1: DeprecationWarning: DataFrameGroupBy.apply operated on the grouping columns. This behavior is deprecated, and in a future version of pandas the grouping columns will be excluded from the operation. Either pass `include_groups=False` to exclude the groupings or explicitly select the grouping columns after groupby to silence this warning.\n",
      "  data_train.groupby('Pclass').apply(lambda df: df['Survived'].value_counts(normalize=True)[1])\n"
     ]
    },
    {
     "data": {
      "text/plain": [
       "Pclass\n",
       "1    0.629630\n",
       "2    0.472826\n",
       "3    0.242363\n",
       "dtype: float64"
      ]
     },
     "execution_count": 49,
     "metadata": {},
     "output_type": "execute_result"
    }
   ],
   "source": [
    "data_train.groupby('Pclass').apply(lambda df: df['Survived'].value_counts(normalize=True)[1])"
   ]
  },
  {
   "cell_type": "markdown",
   "id": "9113b5af",
   "metadata": {
    "id": "featured-pharmacy"
   },
   "source": [
    "## Parte 3 - Descubrir y visualizar los datos para obtener información relevante.  \n"
   ]
  },
  {
   "cell_type": "markdown",
   "id": "5a7429d5",
   "metadata": {
    "id": "broadband-tsunami"
   },
   "source": [
    " - Explore [métodos de visualización](https://pandas.pydata.org/pandas-docs/stable/reference/api/pandas.DataFrame.plot.html) con **pandas**. Para graficar con *pandas* es necesario importar *matplotlib*. Puede ser útil comparar los histogramas de cada clase contra los histogramas de supervivencia en cada clase. \n",
    " - Estudie la correlación de las características con la etiqueta a predecir. Se sugiere utilizar el método `corr()`.\n",
    " - Concluya que factores tuvieron mayor incidencia en la supervivencia o no de un pasajero."
   ]
  },
  {
   "cell_type": "code",
   "execution_count": 50,
   "id": "a362e944",
   "metadata": {},
   "outputs": [
    {
     "data": {
      "text/plain": [
       "Survived       1.000000\n",
       "Pclass         0.338481\n",
       "Fare           0.257307\n",
       "Parch          0.081629\n",
       "Age            0.077221\n",
       "SibSp          0.035322\n",
       "PassengerId    0.005007\n",
       "Name: Survived, dtype: float64"
      ]
     },
     "execution_count": 50,
     "metadata": {},
     "output_type": "execute_result"
    }
   ],
   "source": [
    "data_train.corr(numeric_only=True)['Survived'].map(abs).sort_values(ascending=False)"
   ]
  },
  {
   "cell_type": "markdown",
   "id": "76032391",
   "metadata": {
    "ExecuteTime": {
     "end_time": "2022-02-14T13:43:12.322654Z",
     "start_time": "2022-02-14T13:43:12.318666Z"
    },
    "id": "duplicate-landing"
   },
   "source": [
    "## Parte 4 - Un Primer Pipeline "
   ]
  },
  {
   "cell_type": "markdown",
   "id": "3321b311",
   "metadata": {
    "id": "retired-first"
   },
   "source": [
    "- Construir un **pipeline** que realice el preprocesamiento de los datos necesario para que éstos puedan ser utilizados por un clasificador de *sklearn*. Dicho preprocesamiento deberá en primera instancia realizar las siguientes tareas:\n",
    "\n",
    "    1. Descartar los atributos *Cabin*, *Name* y *Ticket*.\n",
    "    2. Rellenar datos faltantes con algún criterio elegido"
   ]
  },
  {
   "cell_type": "code",
   "execution_count": 51,
   "id": "74f56f37",
   "metadata": {},
   "outputs": [
    {
     "data": {
      "text/plain": [
       "PassengerId      0\n",
       "Survived         0\n",
       "Pclass           0\n",
       "Name             0\n",
       "Sex              0\n",
       "Age            177\n",
       "SibSp            0\n",
       "Parch            0\n",
       "Ticket           0\n",
       "Fare             0\n",
       "Cabin          687\n",
       "Embarked         2\n",
       "dtype: int64"
      ]
     },
     "execution_count": 51,
     "metadata": {},
     "output_type": "execute_result"
    }
   ],
   "source": [
    "data_train.isnull().sum()"
   ]
  },
  {
   "cell_type": "code",
   "execution_count": 52,
   "id": "91b4f96f",
   "metadata": {},
   "outputs": [
    {
     "data": {
      "text/plain": [
       "<Axes: >"
      ]
     },
     "execution_count": 52,
     "metadata": {},
     "output_type": "execute_result"
    },
    {
     "data": {
      "image/png": "[encoded data removed]",
      "text/plain": [
       "<Figure size 432x288 with 1 Axes>"
      ]
     },
     "metadata": {
      "needs_background": "light"
     },
     "output_type": "display_data"
    }
   ],
   "source": [
    "data_train['Age'].hist(bins=30)"
   ]
  },
  {
   "cell_type": "code",
   "execution_count": 53,
   "id": "78514e6e",
   "metadata": {},
   "outputs": [
    {
     "data": {
      "text/plain": [
       "PassengerId    0.036847\n",
       "Survived      -0.077221\n",
       "Pclass        -0.369226\n",
       "Age            1.000000\n",
       "SibSp         -0.308247\n",
       "Parch         -0.189119\n",
       "Fare           0.096067\n",
       "Name: Age, dtype: float64"
      ]
     },
     "execution_count": 53,
     "metadata": {},
     "output_type": "execute_result"
    }
   ],
   "source": [
    "data_train.corr(numeric_only=True)['Age']"
   ]
  },
  {
   "cell_type": "markdown",
   "id": "f6e12d88",
   "metadata": {},
   "source": [
    "No hay correlacion entre las variables y la edad, entonces lo meojr es rellenar con una media."
   ]
  },
  {
   "cell_type": "code",
   "execution_count": 62,
   "id": "de5282b0",
   "metadata": {},
   "outputs": [],
   "source": [
    "from sklearn.pipeline import Pipeline\n",
    "from sklearn.impute import SimpleImputer\n",
    "from sklearn.compose import ColumnTransformer\n",
    "from sklearn.preprocessing import OneHotEncoder\n",
    "\n",
    "age_pipeline = Pipeline([\n",
    "    ('imputer', SimpleImputer(strategy='mean')),\n",
    "])\n",
    "\n",
    "embarked_pipeline = Pipeline([\n",
    "    ('imputer', SimpleImputer(strategy='most_frequent')),\n",
    "    ('discretizer', OneHotEncoder()),\n",
    "])\n",
    "\n",
    "preprocessing_pipeline_default = ColumnTransformer([\n",
    "    ('age', age_pipeline, ['Age']),\n",
    "    ('embarked', embarked_pipeline, ['Embarked', 'Sex']),\n",
    "    ('drop', 'drop', ['Cabin', 'Name', 'Ticket', 'Survived'])\n",
    "], remainder='passthrough')\n",
    "\n",
    "#preprocessing_pipeline_default.fit(data_train)"
   ]
  },
  {
   "cell_type": "markdown",
   "id": "8b794507",
   "metadata": {
    "id": "answering-yacht",
    "solution2": "hidden",
    "solution2_first": true
   },
   "source": [
    "- Acceda a los elementos del pipeline. Para acceder a las distintas transformaciones se usa `named_transformers_` y para acceder a los steps de cada transformación `named_steps`  "
   ]
  },
  {
   "cell_type": "code",
   "execution_count": 55,
   "id": "cac06e15",
   "metadata": {
    "ExecuteTime": {
     "end_time": "2022-02-21T11:32:41.314068Z",
     "start_time": "2022-02-21T11:32:41.291125Z"
    },
    "id": "latest-grass",
    "outputId": "aba6d625-f665-4cfb-a9f3-7ba5b4639782",
    "solution2": "hidden"
   },
   "outputs": [
    {
     "ename": "NotFittedError",
     "evalue": "This ColumnTransformer instance is not fitted yet. Call 'fit' with appropriate arguments before using this estimator.",
     "output_type": "error",
     "traceback": [
      "\u001b[0;31m---------------------------------------------------------------------------\u001b[0m",
      "\u001b[0;31mNotFittedError\u001b[0m                            Traceback (most recent call last)",
      "Input \u001b[0;32mIn [55]\u001b[0m, in \u001b[0;36m<cell line: 1>\u001b[0;34m()\u001b[0m\n\u001b[0;32m----> 1\u001b[0m \u001b[43mpreprocessing_pipeline_default\u001b[49m\u001b[38;5;241;43m.\u001b[39;49m\u001b[43mget_feature_names_out\u001b[49m\u001b[43m(\u001b[49m\u001b[43m)\u001b[49m\n",
      "File \u001b[0;32m/opt/conda/lib/python3.10/site-packages/sklearn/compose/_column_transformer.py:557\u001b[0m, in \u001b[0;36mColumnTransformer.get_feature_names_out\u001b[0;34m(self, input_features)\u001b[0m\n\u001b[1;32m    537\u001b[0m \u001b[38;5;28;01mdef\u001b[39;00m \u001b[38;5;21mget_feature_names_out\u001b[39m(\u001b[38;5;28mself\u001b[39m, input_features\u001b[38;5;241m=\u001b[39m\u001b[38;5;28;01mNone\u001b[39;00m):\n\u001b[1;32m    538\u001b[0m     \u001b[38;5;124;03m\"\"\"Get output feature names for transformation.\u001b[39;00m\n\u001b[1;32m    539\u001b[0m \n\u001b[1;32m    540\u001b[0m \u001b[38;5;124;03m    Parameters\u001b[39;00m\n\u001b[0;32m   (...)\u001b[0m\n\u001b[1;32m    555\u001b[0m \u001b[38;5;124;03m        Transformed feature names.\u001b[39;00m\n\u001b[1;32m    556\u001b[0m \u001b[38;5;124;03m    \"\"\"\u001b[39;00m\n\u001b[0;32m--> 557\u001b[0m     \u001b[43mcheck_is_fitted\u001b[49m\u001b[43m(\u001b[49m\u001b[38;5;28;43mself\u001b[39;49m\u001b[43m)\u001b[49m\n\u001b[1;32m    558\u001b[0m     input_features \u001b[38;5;241m=\u001b[39m _check_feature_names_in(\u001b[38;5;28mself\u001b[39m, input_features)\n\u001b[1;32m    560\u001b[0m     \u001b[38;5;66;03m# List of tuples (name, feature_names_out)\u001b[39;00m\n",
      "File \u001b[0;32m/opt/conda/lib/python3.10/site-packages/sklearn/utils/validation.py:1622\u001b[0m, in \u001b[0;36mcheck_is_fitted\u001b[0;34m(estimator, attributes, msg, all_or_any)\u001b[0m\n\u001b[1;32m   1619\u001b[0m     \u001b[38;5;28;01mraise\u001b[39;00m \u001b[38;5;167;01mTypeError\u001b[39;00m(\u001b[38;5;124m\"\u001b[39m\u001b[38;5;132;01m%s\u001b[39;00m\u001b[38;5;124m is not an estimator instance.\u001b[39m\u001b[38;5;124m\"\u001b[39m \u001b[38;5;241m%\u001b[39m (estimator))\n\u001b[1;32m   1621\u001b[0m \u001b[38;5;28;01mif\u001b[39;00m \u001b[38;5;129;01mnot\u001b[39;00m _is_fitted(estimator, attributes, all_or_any):\n\u001b[0;32m-> 1622\u001b[0m     \u001b[38;5;28;01mraise\u001b[39;00m NotFittedError(msg \u001b[38;5;241m%\u001b[39m {\u001b[38;5;124m\"\u001b[39m\u001b[38;5;124mname\u001b[39m\u001b[38;5;124m\"\u001b[39m: \u001b[38;5;28mtype\u001b[39m(estimator)\u001b[38;5;241m.\u001b[39m\u001b[38;5;18m__name__\u001b[39m})\n",
      "\u001b[0;31mNotFittedError\u001b[0m: This ColumnTransformer instance is not fitted yet. Call 'fit' with appropriate arguments before using this estimator."
     ]
    }
   ],
   "source": [
    "preprocessing_pipeline_default.get_feature_names_out()"
   ]
  },
  {
   "cell_type": "code",
   "execution_count": null,
   "id": "9249a1d2",
   "metadata": {
    "ExecuteTime": {
     "end_time": "2022-02-21T11:32:41.977263Z",
     "start_time": "2022-02-21T11:32:41.963303Z"
    },
    "id": "subject-console",
    "outputId": "6062fb00-a79f-4e74-8b1e-81411192a3b0",
    "scrolled": true,
    "solution2": "hidden"
   },
   "outputs": [
    {
     "data": {
      "text/plain": [
       "{'age': Pipeline(steps=[('imputer', SimpleImputer())]),\n",
       " 'embarked': Pipeline(steps=[('imputer', SimpleImputer(strategy='most_frequent')),\n",
       "                 ('discretizer', OneHotEncoder())]),\n",
       " 'drop': 'drop',\n",
       " 'remainder': FunctionTransformer(accept_sparse=True, check_inverse=False,\n",
       "                     feature_names_out='one-to-one')}"
      ]
     },
     "execution_count": 28,
     "metadata": {},
     "output_type": "execute_result"
    }
   ],
   "source": [
    "preprocessing_pipeline_default.named_transformers_"
   ]
  },
  {
   "cell_type": "code",
   "execution_count": null,
   "id": "0f22c30c",
   "metadata": {
    "ExecuteTime": {
     "end_time": "2022-02-21T11:32:42.722270Z",
     "start_time": "2022-02-21T11:32:42.714294Z"
    },
    "id": "double-scoop",
    "outputId": "9955fc90-5ba6-40b1-d5a3-c610d77943ba",
    "solution2": "hidden"
   },
   "outputs": [
    {
     "ename": "KeyError",
     "evalue": "'cat'",
     "output_type": "error",
     "traceback": [
      "\u001b[0;31m---------------------------------------------------------------------------\u001b[0m",
      "\u001b[0;31mKeyError\u001b[0m                                  Traceback (most recent call last)",
      "Input \u001b[0;32mIn [29]\u001b[0m, in \u001b[0;36m<cell line: 1>\u001b[0;34m()\u001b[0m\n\u001b[0;32m----> 1\u001b[0m \u001b[43mpreprocessing_pipeline_default\u001b[49m\u001b[38;5;241;43m.\u001b[39;49m\u001b[43mnamed_transformers_\u001b[49m\u001b[43m[\u001b[49m\u001b[38;5;124;43m'\u001b[39;49m\u001b[38;5;124;43mcat\u001b[39;49m\u001b[38;5;124;43m'\u001b[39;49m\u001b[43m]\u001b[49m\u001b[38;5;241m.\u001b[39mnamed_steps[\u001b[38;5;124m'\u001b[39m\u001b[38;5;124mohe\u001b[39m\u001b[38;5;124m'\u001b[39m]\u001b[38;5;241m.\u001b[39mcategories_\n",
      "File \u001b[0;32m/opt/conda/lib/python3.10/site-packages/sklearn/utils/_bunch.py:39\u001b[0m, in \u001b[0;36mBunch.__getitem__\u001b[0;34m(self, key)\u001b[0m\n\u001b[1;32m     34\u001b[0m \u001b[38;5;28;01mif\u001b[39;00m key \u001b[38;5;129;01min\u001b[39;00m \u001b[38;5;28mself\u001b[39m\u001b[38;5;241m.\u001b[39m\u001b[38;5;18m__dict__\u001b[39m\u001b[38;5;241m.\u001b[39mget(\u001b[38;5;124m\"\u001b[39m\u001b[38;5;124m_deprecated_key_to_warnings\u001b[39m\u001b[38;5;124m\"\u001b[39m, {}):\n\u001b[1;32m     35\u001b[0m     warnings\u001b[38;5;241m.\u001b[39mwarn(\n\u001b[1;32m     36\u001b[0m         \u001b[38;5;28mself\u001b[39m\u001b[38;5;241m.\u001b[39m_deprecated_key_to_warnings[key],\n\u001b[1;32m     37\u001b[0m         \u001b[38;5;167;01mFutureWarning\u001b[39;00m,\n\u001b[1;32m     38\u001b[0m     )\n\u001b[0;32m---> 39\u001b[0m \u001b[38;5;28;01mreturn\u001b[39;00m \u001b[38;5;28;43msuper\u001b[39;49m\u001b[43m(\u001b[49m\u001b[43m)\u001b[49m\u001b[38;5;241;43m.\u001b[39;49m\u001b[38;5;21;43m__getitem__\u001b[39;49m\u001b[43m(\u001b[49m\u001b[43mkey\u001b[49m\u001b[43m)\u001b[49m\n",
      "\u001b[0;31mKeyError\u001b[0m: 'cat'"
     ]
    }
   ],
   "source": [
    "preprocessing_pipeline_default.named_transformers_['cat'].named_steps['ohe'].categories_"
   ]
  },
  {
   "cell_type": "markdown",
   "id": "0272bb0d",
   "metadata": {
    "id": "earlier-board"
   },
   "source": [
    "## Parte 5 - Un Segundo Pipeline"
   ]
  },
  {
   "cell_type": "markdown",
   "id": "a16e2a2e",
   "metadata": {
    "id": "lesser-teacher"
   },
   "source": [
    "- Realizar un **pipeline** que utilice como único atributo el género del pasajero. "
   ]
  },
  {
   "cell_type": "code",
   "execution_count": 56,
   "id": "024f90a7",
   "metadata": {},
   "outputs": [],
   "source": [
    "sex_pipeline = Pipeline([\n",
    "    ('discretize', OneHotEncoder())\n",
    "])\n",
    "\n",
    "only_sex_pipeline = ColumnTransformer([\n",
    "    ('sex', sex_pipeline, ['Sex'])\n",
    "], remainder='drop')\n",
    "\n",
    "#only_sex_pipeline.fit(data_train)"
   ]
  },
  {
   "cell_type": "markdown",
   "id": "66340f80",
   "metadata": {
    "id": "faced-climb"
   },
   "source": [
    "## Parte 6 - Clasificación con Regresión Logística"
   ]
  },
  {
   "cell_type": "markdown",
   "id": "5ad84773",
   "metadata": {
    "id": "massive-burst"
   },
   "source": [
    "- Con los datos procesados por los pipelines de la Parte 4 y Parte 5 entrenar un modelo de *Regresión Logística* con parámetros por defecto y estimar el desempeño mediante validación cruzada 5-folds.\n",
    "- Observe los desempeños obtenidos. ¿Qué puede decir sobre los datos? ¿Y sobre el modelo?"
   ]
  },
  {
   "cell_type": "code",
   "execution_count": 63,
   "id": "6df7145e",
   "metadata": {},
   "outputs": [],
   "source": [
    "from sklearn.linear_model import LogisticRegression\n",
    "from sklearn.model_selection import train_test_split\n",
    "\n",
    "labels = data_train['Survived']\n",
    "X_train, X_test, y_train, y_test = train_test_split(\n",
    "    data_train, labels, test_size=0.2, random_state=42\n",
    ")\n",
    "\n",
    "full_pipeline = Pipeline([\n",
    "    ('preprocessing', preprocessing_pipeline_default),\n",
    "    ('logistic', LogisticRegression())\n",
    "])\n",
    "\n",
    "sex_pipeline = Pipeline([\n",
    "    ('preprocessing', only_sex_pipeline),\n",
    "    ('logistic', LogisticRegression())\n",
    "])"
   ]
  },
  {
   "cell_type": "code",
   "execution_count": 58,
   "id": "93619baf",
   "metadata": {},
   "outputs": [],
   "source": [
    "from sklearn.model_selection import cross_val_score"
   ]
  },
  {
   "cell_type": "code",
   "execution_count": 65,
   "id": "8f6911d5",
   "metadata": {},
   "outputs": [
    {
     "name": "stderr",
     "output_type": "stream",
     "text": [
      "/opt/conda/lib/python3.10/site-packages/sklearn/linear_model/_logistic.py:469: ConvergenceWarning: lbfgs failed to converge (status=1):\n",
      "STOP: TOTAL NO. of ITERATIONS REACHED LIMIT.\n",
      "\n",
      "Increase the number of iterations (max_iter) or scale the data as shown in:\n",
      "    https://scikit-learn.org/stable/modules/preprocessing.html\n",
      "Please also refer to the documentation for alternative solver options:\n",
      "    https://scikit-learn.org/stable/modules/linear_model.html#logistic-regression\n",
      "  n_iter_i = _check_optimize_result(\n",
      "/opt/conda/lib/python3.10/site-packages/sklearn/linear_model/_logistic.py:469: ConvergenceWarning: lbfgs failed to converge (status=1):\n",
      "STOP: TOTAL NO. of ITERATIONS REACHED LIMIT.\n",
      "\n",
      "Increase the number of iterations (max_iter) or scale the data as shown in:\n",
      "    https://scikit-learn.org/stable/modules/preprocessing.html\n",
      "Please also refer to the documentation for alternative solver options:\n",
      "    https://scikit-learn.org/stable/modules/linear_model.html#logistic-regression\n",
      "  n_iter_i = _check_optimize_result(\n",
      "/opt/conda/lib/python3.10/site-packages/sklearn/linear_model/_logistic.py:469: ConvergenceWarning: lbfgs failed to converge (status=1):\n",
      "STOP: TOTAL NO. of ITERATIONS REACHED LIMIT.\n",
      "\n",
      "Increase the number of iterations (max_iter) or scale the data as shown in:\n",
      "    https://scikit-learn.org/stable/modules/preprocessing.html\n",
      "Please also refer to the documentation for alternative solver options:\n",
      "    https://scikit-learn.org/stable/modules/linear_model.html#logistic-regression\n",
      "  n_iter_i = _check_optimize_result(\n",
      "/opt/conda/lib/python3.10/site-packages/sklearn/linear_model/_logistic.py:469: ConvergenceWarning: lbfgs failed to converge (status=1):\n",
      "STOP: TOTAL NO. of ITERATIONS REACHED LIMIT.\n",
      "\n",
      "Increase the number of iterations (max_iter) or scale the data as shown in:\n",
      "    https://scikit-learn.org/stable/modules/preprocessing.html\n",
      "Please also refer to the documentation for alternative solver options:\n",
      "    https://scikit-learn.org/stable/modules/linear_model.html#logistic-regression\n",
      "  n_iter_i = _check_optimize_result(\n",
      "/opt/conda/lib/python3.10/site-packages/sklearn/linear_model/_logistic.py:469: ConvergenceWarning: lbfgs failed to converge (status=1):\n",
      "STOP: TOTAL NO. of ITERATIONS REACHED LIMIT.\n",
      "\n",
      "Increase the number of iterations (max_iter) or scale the data as shown in:\n",
      "    https://scikit-learn.org/stable/modules/preprocessing.html\n",
      "Please also refer to the documentation for alternative solver options:\n",
      "    https://scikit-learn.org/stable/modules/linear_model.html#logistic-regression\n",
      "  n_iter_i = _check_optimize_result(\n"
     ]
    },
    {
     "data": {
      "text/plain": [
       "0.7823112171238467"
      ]
     },
     "execution_count": 65,
     "metadata": {},
     "output_type": "execute_result"
    }
   ],
   "source": [
    "full_score = cross_val_score(full_pipeline, data_train, labels, cv=5)\n",
    "full_score.mean()"
   ]
  },
  {
   "cell_type": "code",
   "execution_count": 66,
   "id": "4defc107",
   "metadata": {},
   "outputs": [
    {
     "data": {
      "text/plain": [
       "0.7867365513778168"
      ]
     },
     "execution_count": 66,
     "metadata": {},
     "output_type": "execute_result"
    }
   ],
   "source": [
    "sex_score = cross_val_score(sex_pipeline, data_train, labels, cv=5)\n",
    "sex_score.mean()"
   ]
  },
  {
   "cell_type": "markdown",
   "id": "2fdb958d",
   "metadata": {
    "ExecuteTime": {
     "end_time": "2022-02-14T14:27:14.408426Z",
     "start_time": "2022-02-14T14:27:14.398454Z"
    },
    "heading_collapsed": true,
    "id": "entertaining-asian"
   },
   "source": [
    "## Parte 7 - Busqueda de Hiperparámetros"
   ]
  },
  {
   "cell_type": "markdown",
   "id": "85fa9ade",
   "metadata": {
    "hidden": true,
    "id": "friendly-melissa"
   },
   "source": [
    "- Utilizar *Grid Search* para encontrar el valor óptimo del parámetro *C* del mejor clasificador de *Regresión Logística* obtenido de la parte anterior. "
   ]
  },
  {
   "cell_type": "code",
   "execution_count": null,
   "id": "3035cc1b",
   "metadata": {
    "hidden": true
   },
   "outputs": [],
   "source": []
  },
  {
   "cell_type": "markdown",
   "id": "5fe5e557",
   "metadata": {
    "id": "stunning-price"
   },
   "source": [
    "## Parte 8 - Guardar Modelo"
   ]
  },
  {
   "cell_type": "markdown",
   "id": "062acf1b",
   "metadata": {
    "id": "prompt-capture"
   },
   "source": [
    "- Guarde el modelo obtenido de la parte anterior.\n",
    " \n",
    "*Observación: Es usual que entrenar modelos tome un tiempo considerable por lo que el guardado del modelo resulta de vital importancia.*"
   ]
  },
  {
   "cell_type": "code",
   "execution_count": null,
   "id": "0e64efe9",
   "metadata": {},
   "outputs": [],
   "source": []
  },
  {
   "cell_type": "markdown",
   "id": "0a8595f3",
   "metadata": {
    "id": "careful-biology"
   },
   "source": [
    "## Parte 9 - Generar predicciones en conjunto de test"
   ]
  },
  {
   "cell_type": "markdown",
   "id": "979a7d96",
   "metadata": {
    "id": "induced-working"
   },
   "source": [
    "- Levante el modelo guardado en la parte anterior.\n",
    "- Genere las predicciones con el conjunto de test."
   ]
  },
  {
   "cell_type": "code",
   "execution_count": null,
   "id": "c928ca95",
   "metadata": {},
   "outputs": [],
   "source": []
  },
  {
   "cell_type": "markdown",
   "id": "15114419",
   "metadata": {
    "id": "sharing-transparency"
   },
   "source": [
    "## Parte 10 - Generar una Kaggle Submission"
   ]
  },
  {
   "cell_type": "markdown",
   "id": "2d2cf97f",
   "metadata": {
    "id": "checked-disaster"
   },
   "source": [
    "- Generar una Kaggle Submission utilizando las prediciones obtenidas en el conjunto de Test. Puede ver un ejemplo de como hacerlo [aquí](https://www.kaggle.com/jlawman/complete-beginner-your-first-titanic-submission?scriptVersionId=1700267&cellId=17). "
   ]
  },
  {
   "cell_type": "code",
   "execution_count": null,
   "id": "58fda0e6",
   "metadata": {},
   "outputs": [],
   "source": []
  },
  {
   "cell_type": "markdown",
   "id": "93fa6c11",
   "metadata": {},
   "source": [
    "Una vez generado el archivo *.csv*, la submission se puede realizar subiendo directamente el archivo a la página de Kaggle o desde la línea de comandos como:\n",
    "\n",
    "`!kaggle competitions submit -c [COMPETITION] -f [FILE] -m [MESSAGE]`  "
   ]
  },
  {
   "cell_type": "code",
   "execution_count": null,
   "id": "78dd9be5",
   "metadata": {},
   "outputs": [],
   "source": [
    "!kaggle competitions submit -c titanic -f my_first_titanic_predictions.csv -m primer_submission"
   ]
  },
  {
   "cell_type": "markdown",
   "id": "ddd83801",
   "metadata": {
    "ExecuteTime": {
     "end_time": "2022-02-14T15:13:41.567355Z",
     "start_time": "2022-02-14T15:13:41.549405Z"
    },
    "id": "partial-enzyme"
   },
   "source": [
    "## Parte 11 - En busca de un mejor modelo"
   ]
  },
  {
   "cell_type": "markdown",
   "id": "1037f7d6",
   "metadata": {
    "id": "alpine-approach"
   },
   "source": [
    "- Generar un nuevo **pipeline** y evaluar si éste genera un mejor clasificador. Algunas de las opciones que se pueden explorar son las siguientes:\n",
    "    * Evaluar la característica Pclass como dato numérico, ordinal o categórico.    \n",
    "    * Estudiar qué escalado sirve en los atributos numéricos   \n",
    "    * Agregar nuevas características y/o sustituir las existentes. Por ejemplo:   \n",
    "        - Reemplazar *SibSp* y *Parch* por la suma     \n",
    "        - Discretizar algún atributo numérico, por ejemplo la edad.\n",
    "    * Estudiar algún modelo alternativo (*Se sugiere experimentar con SVM o RandomForestClassifier*) \n",
    "    * Construir un **pipeline** que permita determinar automáticamente qué grupo de características utilizar y qué estrategia seguir para lidiar con datos faltantes."
   ]
  },
  {
   "cell_type": "code",
   "execution_count": null,
   "id": "0ff34288",
   "metadata": {},
   "outputs": [],
   "source": []
  }
 ],
 "metadata": {
  "colab": {
   "collapsed_sections": [
    "similar-surgery",
    "40f58d99",
    "baeed628",
    "616868da",
    "efficient-thailand",
    "hundred-impact",
    "coated-million",
    "inclusive-ministry",
    "broadband-tsunami",
    "innocent-edward",
    "retired-first",
    "answering-yacht",
    "lesser-teacher",
    "massive-burst",
    "friendly-melissa",
    "prompt-capture",
    "induced-working",
    "checked-disaster",
    "alpine-approach",
    "selected-meeting",
    "global-prefix"
   ],
   "name": "taller1_titanic.ipynb",
   "provenance": []
  },
  "kernelspec": {
   "display_name": "Python 3 (ipykernel)",
   "language": "python",
   "name": "python3"
  },
  "language_info": {
   "codemirror_mode": {
    "name": "ipython",
    "version": 3
   },
   "file_extension": ".py",
   "mimetype": "text/x-python",
   "name": "python",
   "nbconvert_exporter": "python",
   "pygments_lexer": "ipython3",
   "version": "3.10.5"
  },
  "toc": {
   "base_numbering": 1,
   "nav_menu": {},
   "number_sections": true,
   "sideBar": true,
   "skip_h1_title": false,
   "title_cell": "Table of Contents",
   "title_sidebar": "Contents",
   "toc_cell": false,
   "toc_position": {},
   "toc_section_display": true,
   "toc_window_display": false
  },
  "varInspector": {
   "cols": {
    "lenName": 16,
    "lenType": 16,
    "lenVar": 40
   },
   "kernels_config": {
    "python": {
     "delete_cmd_postfix": "",
     "delete_cmd_prefix": "del ",
     "library": "var_list.py",
     "varRefreshCmd": "print(var_dic_list())"
    },
    "r": {
     "delete_cmd_postfix": ") ",
     "delete_cmd_prefix": "rm(",
     "library": "var_list.r",
     "varRefreshCmd": "cat(var_dic_list()) "
    }
   },
   "position": {
    "height": "484.844px",
    "left": "725px",
    "right": "20px",
    "top": "118px",
    "width": "514px"
   },
   "types_to_exclude": [
    "module",
    "function",
    "builtin_function_or_method",
    "instance",
    "_Feature"
   ],
   "window_display": false
  }
 },
 "nbformat": 4,
 "nbformat_minor": 5
}
